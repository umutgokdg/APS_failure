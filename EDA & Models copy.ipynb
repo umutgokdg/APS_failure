{
 "cells": [
  {
   "cell_type": "code",
   "execution_count": 1,
   "metadata": {},
   "outputs": [],
   "source": [
    "import numpy as np\n",
    "import pandas as pd"
   ]
  },
  {
   "cell_type": "code",
   "execution_count": 2,
   "metadata": {},
   "outputs": [
    {
     "data": {
      "text/plain": [
       "0            1\n",
       "1            2\n",
       "2            3\n",
       "3            4\n",
       "4            5\n",
       "         ...  \n",
       "59995    59996\n",
       "59996    59997\n",
       "59997    59998\n",
       "59998    59999\n",
       "59999    60000\n",
       "Name: id, Length: 60000, dtype: int64"
      ]
     },
     "execution_count": 2,
     "metadata": {},
     "output_type": "execute_result"
    }
   ],
   "source": [
    "train_df = pd.read_csv('data/aps_failure_training_set.csv')\n",
    "train_df.pop('id')"
   ]
  },
  {
   "cell_type": "code",
   "execution_count": 3,
   "metadata": {},
   "outputs": [
    {
     "data": {
      "text/html": [
       "<div>\n",
       "<style scoped>\n",
       "    .dataframe tbody tr th:only-of-type {\n",
       "        vertical-align: middle;\n",
       "    }\n",
       "\n",
       "    .dataframe tbody tr th {\n",
       "        vertical-align: top;\n",
       "    }\n",
       "\n",
       "    .dataframe thead th {\n",
       "        text-align: right;\n",
       "    }\n",
       "</style>\n",
       "<table border=\"1\" class=\"dataframe\">\n",
       "  <thead>\n",
       "    <tr style=\"text-align: right;\">\n",
       "      <th></th>\n",
       "      <th>class</th>\n",
       "      <th>aa_000</th>\n",
       "      <th>ab_000</th>\n",
       "      <th>ac_000</th>\n",
       "      <th>ad_000</th>\n",
       "      <th>ae_000</th>\n",
       "      <th>af_000</th>\n",
       "      <th>ag_000</th>\n",
       "      <th>ag_001</th>\n",
       "      <th>ag_002</th>\n",
       "      <th>...</th>\n",
       "      <th>ee_002</th>\n",
       "      <th>ee_003</th>\n",
       "      <th>ee_004</th>\n",
       "      <th>ee_005</th>\n",
       "      <th>ee_006</th>\n",
       "      <th>ee_007</th>\n",
       "      <th>ee_008</th>\n",
       "      <th>ee_009</th>\n",
       "      <th>ef_000</th>\n",
       "      <th>eg_000</th>\n",
       "    </tr>\n",
       "  </thead>\n",
       "  <tbody>\n",
       "    <tr>\n",
       "      <th>0</th>\n",
       "      <td>neg</td>\n",
       "      <td>76698</td>\n",
       "      <td>na</td>\n",
       "      <td>2130706438</td>\n",
       "      <td>280</td>\n",
       "      <td>0</td>\n",
       "      <td>0</td>\n",
       "      <td>0</td>\n",
       "      <td>0</td>\n",
       "      <td>0</td>\n",
       "      <td>...</td>\n",
       "      <td>1240520</td>\n",
       "      <td>493384</td>\n",
       "      <td>721044</td>\n",
       "      <td>469792</td>\n",
       "      <td>339156</td>\n",
       "      <td>157956</td>\n",
       "      <td>73224</td>\n",
       "      <td>0</td>\n",
       "      <td>0</td>\n",
       "      <td>0</td>\n",
       "    </tr>\n",
       "    <tr>\n",
       "      <th>1</th>\n",
       "      <td>neg</td>\n",
       "      <td>33058</td>\n",
       "      <td>na</td>\n",
       "      <td>0</td>\n",
       "      <td>na</td>\n",
       "      <td>0</td>\n",
       "      <td>0</td>\n",
       "      <td>0</td>\n",
       "      <td>0</td>\n",
       "      <td>0</td>\n",
       "      <td>...</td>\n",
       "      <td>421400</td>\n",
       "      <td>178064</td>\n",
       "      <td>293306</td>\n",
       "      <td>245416</td>\n",
       "      <td>133654</td>\n",
       "      <td>81140</td>\n",
       "      <td>97576</td>\n",
       "      <td>1500</td>\n",
       "      <td>0</td>\n",
       "      <td>0</td>\n",
       "    </tr>\n",
       "    <tr>\n",
       "      <th>2</th>\n",
       "      <td>neg</td>\n",
       "      <td>41040</td>\n",
       "      <td>na</td>\n",
       "      <td>228</td>\n",
       "      <td>100</td>\n",
       "      <td>0</td>\n",
       "      <td>0</td>\n",
       "      <td>0</td>\n",
       "      <td>0</td>\n",
       "      <td>0</td>\n",
       "      <td>...</td>\n",
       "      <td>277378</td>\n",
       "      <td>159812</td>\n",
       "      <td>423992</td>\n",
       "      <td>409564</td>\n",
       "      <td>320746</td>\n",
       "      <td>158022</td>\n",
       "      <td>95128</td>\n",
       "      <td>514</td>\n",
       "      <td>0</td>\n",
       "      <td>0</td>\n",
       "    </tr>\n",
       "    <tr>\n",
       "      <th>3</th>\n",
       "      <td>neg</td>\n",
       "      <td>12</td>\n",
       "      <td>0</td>\n",
       "      <td>70</td>\n",
       "      <td>66</td>\n",
       "      <td>0</td>\n",
       "      <td>10</td>\n",
       "      <td>0</td>\n",
       "      <td>0</td>\n",
       "      <td>0</td>\n",
       "      <td>...</td>\n",
       "      <td>240</td>\n",
       "      <td>46</td>\n",
       "      <td>58</td>\n",
       "      <td>44</td>\n",
       "      <td>10</td>\n",
       "      <td>0</td>\n",
       "      <td>0</td>\n",
       "      <td>0</td>\n",
       "      <td>4</td>\n",
       "      <td>32</td>\n",
       "    </tr>\n",
       "    <tr>\n",
       "      <th>4</th>\n",
       "      <td>neg</td>\n",
       "      <td>60874</td>\n",
       "      <td>na</td>\n",
       "      <td>1368</td>\n",
       "      <td>458</td>\n",
       "      <td>0</td>\n",
       "      <td>0</td>\n",
       "      <td>0</td>\n",
       "      <td>0</td>\n",
       "      <td>0</td>\n",
       "      <td>...</td>\n",
       "      <td>622012</td>\n",
       "      <td>229790</td>\n",
       "      <td>405298</td>\n",
       "      <td>347188</td>\n",
       "      <td>286954</td>\n",
       "      <td>311560</td>\n",
       "      <td>433954</td>\n",
       "      <td>1218</td>\n",
       "      <td>0</td>\n",
       "      <td>0</td>\n",
       "    </tr>\n",
       "    <tr>\n",
       "      <th>...</th>\n",
       "      <td>...</td>\n",
       "      <td>...</td>\n",
       "      <td>...</td>\n",
       "      <td>...</td>\n",
       "      <td>...</td>\n",
       "      <td>...</td>\n",
       "      <td>...</td>\n",
       "      <td>...</td>\n",
       "      <td>...</td>\n",
       "      <td>...</td>\n",
       "      <td>...</td>\n",
       "      <td>...</td>\n",
       "      <td>...</td>\n",
       "      <td>...</td>\n",
       "      <td>...</td>\n",
       "      <td>...</td>\n",
       "      <td>...</td>\n",
       "      <td>...</td>\n",
       "      <td>...</td>\n",
       "      <td>...</td>\n",
       "      <td>...</td>\n",
       "    </tr>\n",
       "    <tr>\n",
       "      <th>59995</th>\n",
       "      <td>neg</td>\n",
       "      <td>153002</td>\n",
       "      <td>na</td>\n",
       "      <td>664</td>\n",
       "      <td>186</td>\n",
       "      <td>0</td>\n",
       "      <td>0</td>\n",
       "      <td>0</td>\n",
       "      <td>0</td>\n",
       "      <td>0</td>\n",
       "      <td>...</td>\n",
       "      <td>998500</td>\n",
       "      <td>566884</td>\n",
       "      <td>1290398</td>\n",
       "      <td>1218244</td>\n",
       "      <td>1019768</td>\n",
       "      <td>717762</td>\n",
       "      <td>898642</td>\n",
       "      <td>28588</td>\n",
       "      <td>0</td>\n",
       "      <td>0</td>\n",
       "    </tr>\n",
       "    <tr>\n",
       "      <th>59996</th>\n",
       "      <td>neg</td>\n",
       "      <td>2286</td>\n",
       "      <td>na</td>\n",
       "      <td>2130706538</td>\n",
       "      <td>224</td>\n",
       "      <td>0</td>\n",
       "      <td>0</td>\n",
       "      <td>0</td>\n",
       "      <td>0</td>\n",
       "      <td>0</td>\n",
       "      <td>...</td>\n",
       "      <td>10578</td>\n",
       "      <td>6760</td>\n",
       "      <td>21126</td>\n",
       "      <td>68424</td>\n",
       "      <td>136</td>\n",
       "      <td>0</td>\n",
       "      <td>0</td>\n",
       "      <td>0</td>\n",
       "      <td>0</td>\n",
       "      <td>0</td>\n",
       "    </tr>\n",
       "    <tr>\n",
       "      <th>59997</th>\n",
       "      <td>neg</td>\n",
       "      <td>112</td>\n",
       "      <td>0</td>\n",
       "      <td>2130706432</td>\n",
       "      <td>18</td>\n",
       "      <td>0</td>\n",
       "      <td>0</td>\n",
       "      <td>0</td>\n",
       "      <td>0</td>\n",
       "      <td>0</td>\n",
       "      <td>...</td>\n",
       "      <td>792</td>\n",
       "      <td>386</td>\n",
       "      <td>452</td>\n",
       "      <td>144</td>\n",
       "      <td>146</td>\n",
       "      <td>2622</td>\n",
       "      <td>0</td>\n",
       "      <td>0</td>\n",
       "      <td>0</td>\n",
       "      <td>0</td>\n",
       "    </tr>\n",
       "    <tr>\n",
       "      <th>59998</th>\n",
       "      <td>neg</td>\n",
       "      <td>80292</td>\n",
       "      <td>na</td>\n",
       "      <td>2130706432</td>\n",
       "      <td>494</td>\n",
       "      <td>0</td>\n",
       "      <td>0</td>\n",
       "      <td>0</td>\n",
       "      <td>0</td>\n",
       "      <td>0</td>\n",
       "      <td>...</td>\n",
       "      <td>699352</td>\n",
       "      <td>222654</td>\n",
       "      <td>347378</td>\n",
       "      <td>225724</td>\n",
       "      <td>194440</td>\n",
       "      <td>165070</td>\n",
       "      <td>802280</td>\n",
       "      <td>388422</td>\n",
       "      <td>0</td>\n",
       "      <td>0</td>\n",
       "    </tr>\n",
       "    <tr>\n",
       "      <th>59999</th>\n",
       "      <td>neg</td>\n",
       "      <td>40222</td>\n",
       "      <td>na</td>\n",
       "      <td>698</td>\n",
       "      <td>628</td>\n",
       "      <td>0</td>\n",
       "      <td>0</td>\n",
       "      <td>0</td>\n",
       "      <td>0</td>\n",
       "      <td>0</td>\n",
       "      <td>...</td>\n",
       "      <td>440066</td>\n",
       "      <td>183200</td>\n",
       "      <td>344546</td>\n",
       "      <td>254068</td>\n",
       "      <td>225148</td>\n",
       "      <td>158304</td>\n",
       "      <td>170384</td>\n",
       "      <td>158</td>\n",
       "      <td>0</td>\n",
       "      <td>0</td>\n",
       "    </tr>\n",
       "  </tbody>\n",
       "</table>\n",
       "<p>60000 rows × 171 columns</p>\n",
       "</div>"
      ],
      "text/plain": [
       "      class  aa_000 ab_000      ac_000 ad_000 ae_000 af_000 ag_000 ag_001  \\\n",
       "0       neg   76698     na  2130706438    280      0      0      0      0   \n",
       "1       neg   33058     na           0     na      0      0      0      0   \n",
       "2       neg   41040     na         228    100      0      0      0      0   \n",
       "3       neg      12      0          70     66      0     10      0      0   \n",
       "4       neg   60874     na        1368    458      0      0      0      0   \n",
       "...     ...     ...    ...         ...    ...    ...    ...    ...    ...   \n",
       "59995   neg  153002     na         664    186      0      0      0      0   \n",
       "59996   neg    2286     na  2130706538    224      0      0      0      0   \n",
       "59997   neg     112      0  2130706432     18      0      0      0      0   \n",
       "59998   neg   80292     na  2130706432    494      0      0      0      0   \n",
       "59999   neg   40222     na         698    628      0      0      0      0   \n",
       "\n",
       "      ag_002  ...   ee_002  ee_003   ee_004   ee_005   ee_006  ee_007  ee_008  \\\n",
       "0          0  ...  1240520  493384   721044   469792   339156  157956   73224   \n",
       "1          0  ...   421400  178064   293306   245416   133654   81140   97576   \n",
       "2          0  ...   277378  159812   423992   409564   320746  158022   95128   \n",
       "3          0  ...      240      46       58       44       10       0       0   \n",
       "4          0  ...   622012  229790   405298   347188   286954  311560  433954   \n",
       "...      ...  ...      ...     ...      ...      ...      ...     ...     ...   \n",
       "59995      0  ...   998500  566884  1290398  1218244  1019768  717762  898642   \n",
       "59996      0  ...    10578    6760    21126    68424      136       0       0   \n",
       "59997      0  ...      792     386      452      144      146    2622       0   \n",
       "59998      0  ...   699352  222654   347378   225724   194440  165070  802280   \n",
       "59999      0  ...   440066  183200   344546   254068   225148  158304  170384   \n",
       "\n",
       "       ee_009 ef_000 eg_000  \n",
       "0           0      0      0  \n",
       "1        1500      0      0  \n",
       "2         514      0      0  \n",
       "3           0      4     32  \n",
       "4        1218      0      0  \n",
       "...       ...    ...    ...  \n",
       "59995   28588      0      0  \n",
       "59996       0      0      0  \n",
       "59997       0      0      0  \n",
       "59998  388422      0      0  \n",
       "59999     158      0      0  \n",
       "\n",
       "[60000 rows x 171 columns]"
      ]
     },
     "execution_count": 3,
     "metadata": {},
     "output_type": "execute_result"
    }
   ],
   "source": [
    "train_df"
   ]
  },
  {
   "cell_type": "code",
   "execution_count": 4,
   "metadata": {},
   "outputs": [
    {
     "data": {
      "text/plain": [
       "7      ag_000\n",
       "8      ag_001\n",
       "9      ag_002\n",
       "10     ag_003\n",
       "11     ag_004\n",
       "        ...  \n",
       "164    ee_005\n",
       "165    ee_006\n",
       "166    ee_007\n",
       "167    ee_008\n",
       "168    ee_009\n",
       "Length: 70, dtype: object"
      ]
     },
     "execution_count": 4,
     "metadata": {},
     "output_type": "execute_result"
    }
   ],
   "source": [
    "cols = pd.Series(train_df.columns)\n",
    "\n",
    "counts = cols.apply(lambda x: x.split(\"_\")[0]).value_counts().to_dict()\n",
    "categorical_cols_idx = cols.apply(\n",
    "    lambda x: True if counts[x.split(\"_\")[0]] > 1 else False)\n",
    "\n",
    "#get the columns that are categorical\n",
    "categorical_cols = cols[categorical_cols_idx]\n",
    "\n",
    "categorical_cols"
   ]
  },
  {
   "cell_type": "code",
   "execution_count": 5,
   "metadata": {},
   "outputs": [
    {
     "data": {
      "text/plain": [
       "{'ag': 10, 'ay': 10, 'az': 10, 'ba': 10, 'cn': 10, 'cs': 10, 'ee': 10}"
      ]
     },
     "execution_count": 5,
     "metadata": {},
     "output_type": "execute_result"
    }
   ],
   "source": [
    "categorical_cols.apply(lambda x: x.split(\"_\")[0]).value_counts().to_dict()"
   ]
  },
  {
   "cell_type": "code",
   "execution_count": 6,
   "metadata": {},
   "outputs": [
    {
     "data": {
      "text/plain": [
       "<Axes: >"
      ]
     },
     "execution_count": 6,
     "metadata": {},
     "output_type": "execute_result"
    },
    {
     "data": {
      "image/png": "[encoded data removed]",
      "text/plain": [
       "<Figure size 640x480 with 1 Axes>"
      ]
     },
     "metadata": {},
     "output_type": "display_data"
    }
   ],
   "source": [
    "#given this dataset plot the means train_df.filter(regex='cs_[0-9][0-9][0-9]')\n",
    "train_df.filter(regex='cs_[0-9][0-9][0-9]').replace('na', 0).astype(int).mean().plot(kind='bar')"
   ]
  },
  {
   "cell_type": "code",
   "execution_count": 7,
   "metadata": {},
   "outputs": [
    {
     "data": {
      "text/plain": [
       "<Axes: >"
      ]
     },
     "execution_count": 7,
     "metadata": {},
     "output_type": "execute_result"
    },
    {
     "data": {
      "image/png": "[encoded data removed]",
      "text/plain": [
       "<Figure size 640x480 with 1 Axes>"
      ]
     },
     "metadata": {},
     "output_type": "display_data"
    }
   ],
   "source": [
    "train_df.filter(regex='ee_[0-9][0-9][0-9]').replace('na', 0).astype(int).mean().plot(kind='bar')"
   ]
  },
  {
   "cell_type": "code",
   "execution_count": 8,
   "metadata": {},
   "outputs": [
    {
     "data": {
      "text/plain": [
       "<Axes: >"
      ]
     },
     "execution_count": 8,
     "metadata": {},
     "output_type": "execute_result"
    },
    {
     "data": {
      "image/png": "[encoded data removed]",
      "text/plain": [
       "<Figure size 640x480 with 1 Axes>"
      ]
     },
     "metadata": {},
     "output_type": "display_data"
    }
   ],
   "source": [
    "train_df.filter(regex='ag_[0-9][0-9][0-9]').replace('na', 0).astype(int).mean().plot(kind='bar')"
   ]
  },
  {
   "cell_type": "code",
   "execution_count": 9,
   "metadata": {},
   "outputs": [
    {
     "data": {
      "text/plain": [
       "<Axes: >"
      ]
     },
     "execution_count": 9,
     "metadata": {},
     "output_type": "execute_result"
    },
    {
     "data": {
      "image/png": "[encoded data removed]",
      "text/plain": [
       "<Figure size 640x480 with 1 Axes>"
      ]
     },
     "metadata": {},
     "output_type": "display_data"
    }
   ],
   "source": [
    "train_df.filter(regex='ay_[0-9][0-9][0-9]').replace('na', 0).astype(int).mean().plot(kind='bar')"
   ]
  },
  {
   "cell_type": "code",
   "execution_count": 10,
   "metadata": {},
   "outputs": [
    {
     "data": {
      "text/plain": [
       "<Axes: >"
      ]
     },
     "execution_count": 10,
     "metadata": {},
     "output_type": "execute_result"
    },
    {
     "data": {
      "image/png": "[encoded data removed]",
      "text/plain": [
       "<Figure size 640x480 with 1 Axes>"
      ]
     },
     "metadata": {},
     "output_type": "display_data"
    }
   ],
   "source": [
    "train_df.filter(regex='az_[0-9][0-9][0-9]').replace('na', 0).astype(int).mean().plot(kind='bar')"
   ]
  },
  {
   "cell_type": "code",
   "execution_count": 11,
   "metadata": {},
   "outputs": [
    {
     "data": {
      "text/plain": [
       "<Axes: >"
      ]
     },
     "execution_count": 11,
     "metadata": {},
     "output_type": "execute_result"
    },
    {
     "data": {
      "image/png": "[encoded data removed]",
      "text/plain": [
       "<Figure size 640x480 with 1 Axes>"
      ]
     },
     "metadata": {},
     "output_type": "display_data"
    }
   ],
   "source": [
    "train_df.filter(regex='ba_[0-9][0-9][0-9]').replace('na', 0).astype(int).mean().plot(kind='bar')"
   ]
  },
  {
   "cell_type": "code",
   "execution_count": 12,
   "metadata": {},
   "outputs": [
    {
     "data": {
      "text/plain": [
       "<Axes: >"
      ]
     },
     "execution_count": 12,
     "metadata": {},
     "output_type": "execute_result"
    },
    {
     "data": {
      "image/png": "[encoded data removed]",
      "text/plain": [
       "<Figure size 640x480 with 1 Axes>"
      ]
     },
     "metadata": {},
     "output_type": "display_data"
    }
   ],
   "source": [
    "train_df.filter(regex='cn_[0-9][0-9][0-9]').replace('na', 0).astype(int).mean().plot(kind='bar')"
   ]
  },
  {
   "cell_type": "code",
   "execution_count": 6,
   "metadata": {},
   "outputs": [],
   "source": [
    "#look at the correlation between the columns against the targe\n",
    "train_df_for_corr = train_df.copy()\n",
    "train_df_for_corr[\"class\"] = train_df_for_corr[\"class\"].replace(['neg', 'pos'], [0, 1])\n",
    "train_df_for_corr = train_df_for_corr.replace('na', 0).astype(float).corr()\n",
    "labels = train_df.pop('class')"
   ]
  },
  {
   "cell_type": "code",
   "execution_count": 7,
   "metadata": {},
   "outputs": [
    {
     "data": {
      "text/plain": [
       "1      aa_000\n",
       "2      ab_000\n",
       "3      ac_000\n",
       "4      ad_000\n",
       "5      ae_000\n",
       "        ...  \n",
       "156    eb_000\n",
       "157     ec_00\n",
       "158    ed_000\n",
       "169    ef_000\n",
       "170    eg_000\n",
       "Length: 100, dtype: object"
      ]
     },
     "execution_count": 7,
     "metadata": {},
     "output_type": "execute_result"
    }
   ],
   "source": [
    "#get non categorical columns\n",
    "numerical_columns = cols[~categorical_cols_idx]\n",
    "numerical_columns = numerical_columns[1:]\n",
    "numerical_columns"
   ]
  },
  {
   "cell_type": "code",
   "execution_count": 17,
   "metadata": {},
   "outputs": [
    {
     "data": {
      "image/png": "[encoded data removed]",
      "text/plain": [
       "<Figure size 640x480 with 1 Axes>"
      ]
     },
     "metadata": {},
     "output_type": "display_data"
    }
   ],
   "source": [
    "train_df_for_corr[\"class\"].abs()[numerical_columns].sort_values(ascending=False).plot(kind='bar')\n",
    "relevant_col_bools = train_df_for_corr[\"class\"].abs()[numerical_columns].sort_values(ascending=False) > 0.3"
   ]
  },
  {
   "cell_type": "code",
   "execution_count": 19,
   "metadata": {},
   "outputs": [],
   "source": [
    "#get the columns that are relevant\n",
    "relevant_numerical_cols = relevant_col_bools[relevant_col_bools].index\n",
    "#add two column types together\n",
    "num_cat_cols = pd.Index(categorical_cols).append(pd.Index(relevant_numerical_cols))"
   ]
  },
  {
   "cell_type": "code",
   "execution_count": 20,
   "metadata": {},
   "outputs": [],
   "source": [
    "from sklearn.preprocessing import StandardScaler\n",
    "from sklearn.linear_model import LogisticRegression\n",
    "from sklearn.model_selection import train_test_split\n",
    "\n",
    "Y = labels.apply(lambda x: 1 if x == 'pos' else 0).values\n",
    "X = train_df[categorical_cols].replace('na', 0).astype(int).values"
   ]
  },
  {
   "cell_type": "code",
   "execution_count": 20,
   "metadata": {},
   "outputs": [
    {
     "name": "stderr",
     "output_type": "stream",
     "text": [
      "/Users/firatkizilboga/Projects/LFD/APS-Failure-Prediction/.venv/lib/python3.11/site-packages/sklearn/linear_model/_logistic.py:460: ConvergenceWarning: lbfgs failed to converge (status=1):\n",
      "STOP: TOTAL NO. of ITERATIONS REACHED LIMIT.\n",
      "\n",
      "Increase the number of iterations (max_iter) or scale the data as shown in:\n",
      "    https://scikit-learn.org/stable/modules/preprocessing.html\n",
      "Please also refer to the documentation for alternative solver options:\n",
      "    https://scikit-learn.org/stable/modules/linear_model.html#logistic-regression\n",
      "  n_iter_i = _check_optimize_result(\n"
     ]
    },
    {
     "data": {
      "text/html": [
       "<style>#sk-container-id-1 {color: black;}#sk-container-id-1 pre{padding: 0;}#sk-container-id-1 div.sk-toggleable {background-color: white;}#sk-container-id-1 label.sk-toggleable__label {cursor: pointer;display: block;width: 100%;margin-bottom: 0;padding: 0.3em;box-sizing: border-box;text-align: center;}#sk-container-id-1 label.sk-toggleable__label-arrow:before {content: \"▸\";float: left;margin-right: 0.25em;color: #696969;}#sk-container-id-1 label.sk-toggleable__label-arrow:hover:before {color: black;}#sk-container-id-1 div.sk-estimator:hover label.sk-toggleable__label-arrow:before {color: black;}#sk-container-id-1 div.sk-toggleable__content {max-height: 0;max-width: 0;overflow: hidden;text-align: left;background-color: #f0f8ff;}#sk-container-id-1 div.sk-toggleable__content pre {margin: 0.2em;color: black;border-radius: 0.25em;background-color: #f0f8ff;}#sk-container-id-1 input.sk-toggleable__control:checked~div.sk-toggleable__content {max-height: 200px;max-width: 100%;overflow: auto;}#sk-container-id-1 input.sk-toggleable__control:checked~label.sk-toggleable__label-arrow:before {content: \"▾\";}#sk-container-id-1 div.sk-estimator input.sk-toggleable__control:checked~label.sk-toggleable__label {background-color: #d4ebff;}#sk-container-id-1 div.sk-label input.sk-toggleable__control:checked~label.sk-toggleable__label {background-color: #d4ebff;}#sk-container-id-1 input.sk-hidden--visually {border: 0;clip: rect(1px 1px 1px 1px);clip: rect(1px, 1px, 1px, 1px);height: 1px;margin: -1px;overflow: hidden;padding: 0;position: absolute;width: 1px;}#sk-container-id-1 div.sk-estimator {font-family: monospace;background-color: #f0f8ff;border: 1px dotted black;border-radius: 0.25em;box-sizing: border-box;margin-bottom: 0.5em;}#sk-container-id-1 div.sk-estimator:hover {background-color: #d4ebff;}#sk-container-id-1 div.sk-parallel-item::after {content: \"\";width: 100%;border-bottom: 1px solid gray;flex-grow: 1;}#sk-container-id-1 div.sk-label:hover label.sk-toggleable__label {background-color: #d4ebff;}#sk-container-id-1 div.sk-serial::before {content: \"\";position: absolute;border-left: 1px solid gray;box-sizing: border-box;top: 0;bottom: 0;left: 50%;z-index: 0;}#sk-container-id-1 div.sk-serial {display: flex;flex-direction: column;align-items: center;background-color: white;padding-right: 0.2em;padding-left: 0.2em;position: relative;}#sk-container-id-1 div.sk-item {position: relative;z-index: 1;}#sk-container-id-1 div.sk-parallel {display: flex;align-items: stretch;justify-content: center;background-color: white;position: relative;}#sk-container-id-1 div.sk-item::before, #sk-container-id-1 div.sk-parallel-item::before {content: \"\";position: absolute;border-left: 1px solid gray;box-sizing: border-box;top: 0;bottom: 0;left: 50%;z-index: -1;}#sk-container-id-1 div.sk-parallel-item {display: flex;flex-direction: column;z-index: 1;position: relative;background-color: white;}#sk-container-id-1 div.sk-parallel-item:first-child::after {align-self: flex-end;width: 50%;}#sk-container-id-1 div.sk-parallel-item:last-child::after {align-self: flex-start;width: 50%;}#sk-container-id-1 div.sk-parallel-item:only-child::after {width: 0;}#sk-container-id-1 div.sk-dashed-wrapped {border: 1px dashed gray;margin: 0 0.4em 0.5em 0.4em;box-sizing: border-box;padding-bottom: 0.4em;background-color: white;}#sk-container-id-1 div.sk-label label {font-family: monospace;font-weight: bold;display: inline-block;line-height: 1.2em;}#sk-container-id-1 div.sk-label-container {text-align: center;}#sk-container-id-1 div.sk-container {/* jupyter's `normalize.less` sets `[hidden] { display: none; }` but bootstrap.min.css set `[hidden] { display: none !important; }` so we also need the `!important` here to be able to override the default hidden behavior on the sphinx rendered scikit-learn.org. See: https://github.com/scikit-learn/scikit-learn/issues/21755 */display: inline-block !important;position: relative;}#sk-container-id-1 div.sk-text-repr-fallback {display: none;}</style><div id=\"sk-container-id-1\" class=\"sk-top-container\"><div class=\"sk-text-repr-fallback\"><pre>LogisticRegression(multi_class=&#x27;multinomial&#x27;, random_state=0)</pre><b>In a Jupyter environment, please rerun this cell to show the HTML representation or trust the notebook. <br />On GitHub, the HTML representation is unable to render, please try loading this page with nbviewer.org.</b></div><div class=\"sk-container\" hidden><div class=\"sk-item\"><div class=\"sk-estimator sk-toggleable\"><input class=\"sk-toggleable__control sk-hidden--visually\" id=\"sk-estimator-id-1\" type=\"checkbox\" checked><label for=\"sk-estimator-id-1\" class=\"sk-toggleable__label sk-toggleable__label-arrow\">LogisticRegression</label><div class=\"sk-toggleable__content\"><pre>LogisticRegression(multi_class=&#x27;multinomial&#x27;, random_state=0)</pre></div></div></div></div></div>"
      ],
      "text/plain": [
       "LogisticRegression(multi_class='multinomial', random_state=0)"
      ]
     },
     "execution_count": 20,
     "metadata": {},
     "output_type": "execute_result"
    }
   ],
   "source": [
    "X_transformed = StandardScaler().fit_transform(X)\n",
    "X_train, X_test, y_train, y_test = train_test_split(X_transformed, Y, test_size=0.33, random_state=42, stratify=Y)\n",
    "clf = LogisticRegression(random_state=0, solver='lbfgs', multi_class='multinomial')\n",
    "clf.fit(X_train, y_train)"
   ]
  },
  {
   "cell_type": "code",
   "execution_count": 8,
   "metadata": {},
   "outputs": [],
   "source": [
    "from sklearn.metrics import classification_report\n",
    "from sklearn.metrics import confusion_matrix"
   ]
  },
  {
   "cell_type": "code",
   "execution_count": 22,
   "metadata": {},
   "outputs": [
    {
     "name": "stdout",
     "output_type": "stream",
     "text": [
      "              precision    recall  f1-score   support\n",
      "\n",
      "           0       0.99      1.00      0.99     19470\n",
      "           1       0.76      0.54      0.63       330\n",
      "\n",
      "    accuracy                           0.99     19800\n",
      "   macro avg       0.87      0.77      0.81     19800\n",
      "weighted avg       0.99      0.99      0.99     19800\n",
      "\n",
      "[[19413    57]\n",
      " [  152   178]]\n"
     ]
    }
   ],
   "source": [
    "y_pred = clf.predict(X_test)\n",
    "print(classification_report(y_test, y_pred))\n",
    "print(confusion_matrix(y_test, y_pred))"
   ]
  },
  {
   "cell_type": "code",
   "execution_count": 31,
   "metadata": {},
   "outputs": [],
   "source": [
    "test_df = pd.read_csv('data/aps_failure_test_set.csv')\n",
    "X = test_df[categorical_cols].replace('na', 0).astype(int).values\n",
    "X_transformed = StandardScaler().fit_transform(X)\n",
    "y_pred_ = clf.predict(X_transformed)"
   ]
  },
  {
   "cell_type": "code",
   "execution_count": 22,
   "metadata": {},
   "outputs": [],
   "source": [
    "def labelize(x):\n",
    "    if x == 1:\n",
    "        return 'pos'\n",
    "    else:\n",
    "        return 'neg'\n",
    "labelize = np.vectorize(labelize)"
   ]
  },
  {
   "cell_type": "code",
   "execution_count": 25,
   "metadata": {},
   "outputs": [],
   "source": [
    "output = pd.DataFrame({'id': np.arange(1,len(y_pred_)+1),\"class\": labelize(y_pred_)})\n",
    "output.to_csv('categorical values standardized logistic regression, output.csv', index=False)"
   ]
  },
  {
   "cell_type": "code",
   "execution_count": 28,
   "metadata": {},
   "outputs": [
    {
     "name": "stdout",
     "output_type": "stream",
     "text": [
      "              precision    recall  f1-score   support\n",
      "\n",
      "           0       0.99      1.00      0.99     19470\n",
      "           1       0.74      0.51      0.61       330\n",
      "\n",
      "    accuracy                           0.99     19800\n",
      "   macro avg       0.87      0.75      0.80     19800\n",
      "weighted avg       0.99      0.99      0.99     19800\n",
      "\n",
      "[[19412    58]\n",
      " [  161   169]]\n"
     ]
    },
    {
     "name": "stderr",
     "output_type": "stream",
     "text": [
      "/Users/firatkizilboga/Projects/LFD/APS-Failure-Prediction/.venv/lib/python3.11/site-packages/sklearn/linear_model/_logistic.py:460: ConvergenceWarning: lbfgs failed to converge (status=1):\n",
      "STOP: TOTAL NO. of ITERATIONS REACHED LIMIT.\n",
      "\n",
      "Increase the number of iterations (max_iter) or scale the data as shown in:\n",
      "    https://scikit-learn.org/stable/modules/preprocessing.html\n",
      "Please also refer to the documentation for alternative solver options:\n",
      "    https://scikit-learn.org/stable/modules/linear_model.html#logistic-regression\n",
      "  n_iter_i = _check_optimize_result(\n"
     ]
    }
   ],
   "source": [
    "from preprocessing import FactorAnalysis\n",
    "\n",
    "FA = FactorAnalysis(50)\n",
    "X = train_df[categorical_cols].replace('na', 0).astype(int).values\n",
    "X_transformed = StandardScaler().fit_transform(X)\n",
    "\n",
    "FA.fit(X_transformed)\n",
    "X_transformed_ = FA.transform(X_transformed)\n",
    "\n",
    "X_train, X_test, y_train, y_test = train_test_split(X_transformed_, Y, test_size=0.33, random_state=42, stratify=Y)\n",
    "clf = LogisticRegression(random_state=0, solver='lbfgs', multi_class='multinomial')\n",
    "\n",
    "clf.fit(X_train, y_train)\n",
    "y_pred = clf.predict(X_test)\n",
    "\n",
    "print(classification_report(y_test, y_pred))\n",
    "\n",
    "print(confusion_matrix(y_test, y_pred))"
   ]
  },
  {
   "cell_type": "code",
   "execution_count": 29,
   "metadata": {},
   "outputs": [
    {
     "data": {
      "text/plain": [
       "0.9934842737430886"
      ]
     },
     "execution_count": 29,
     "metadata": {},
     "output_type": "execute_result"
    }
   ],
   "source": [
    "FA.explained_variance_ratio.sum()"
   ]
  },
  {
   "cell_type": "code",
   "execution_count": 37,
   "metadata": {},
   "outputs": [
    {
     "name": "stdout",
     "output_type": "stream",
     "text": [
      "              precision    recall  f1-score   support\n",
      "\n",
      "           0       0.99      1.00      1.00     19470\n",
      "           1       0.88      0.64      0.74       330\n",
      "\n",
      "    accuracy                           0.99     19800\n",
      "   macro avg       0.93      0.82      0.87     19800\n",
      "weighted avg       0.99      0.99      0.99     19800\n",
      "\n",
      "[[19440    30]\n",
      " [  118   212]]\n"
     ]
    }
   ],
   "source": [
    "#xgboost without factor analysis\n",
    "from xgboost import XGBClassifier\n",
    "\n",
    "clf = XGBClassifier()\n",
    "X = train_df[categorical_cols].replace('na', 0).astype(int).values\n",
    "X_transformed = StandardScaler().fit_transform(X)\n",
    "X_train, X_test, y_train, y_test = train_test_split(X_transformed, Y, test_size=0.33, random_state=42, stratify=Y)\n",
    "clf.fit(X_train, y_train)\n",
    "y_pred = clf.predict(X_test)\n",
    "\n",
    "print(classification_report(y_test, y_pred))\n",
    "\n",
    "print(confusion_matrix(y_test, y_pred))"
   ]
  },
  {
   "cell_type": "code",
   "execution_count": 38,
   "metadata": {},
   "outputs": [],
   "source": [
    "#use test set to predict\n",
    "X = test_df[categorical_cols].replace('na', 0).astype(int).values\n",
    "X_transformed = StandardScaler().fit_transform(X)\n",
    "y_pred_ = clf.predict(X_transformed)\n",
    "\n",
    "output = pd.DataFrame({'id': np.arange(1,len(y_pred_)+1),\"class\": labelize(y_pred_)})\n",
    "output.to_csv('categorical values standardized xgboost, output.csv', index=False)"
   ]
  },
  {
   "cell_type": "code",
   "execution_count": 31,
   "metadata": {},
   "outputs": [
    {
     "name": "stdout",
     "output_type": "stream",
     "text": [
      "              precision    recall  f1-score   support\n",
      "\n",
      "           0       0.99      1.00      1.00     19470\n",
      "           1       0.82      0.58      0.68       330\n",
      "\n",
      "    accuracy                           0.99     19800\n",
      "   macro avg       0.91      0.79      0.84     19800\n",
      "weighted avg       0.99      0.99      0.99     19800\n",
      "\n",
      "[[19429    41]\n",
      " [  137   193]]\n"
     ]
    }
   ],
   "source": [
    "#run the same experiment with XGBoost\n",
    "\n",
    "FA = FactorAnalysis(50)\n",
    "X = train_df[categorical_cols].replace('na', 0).astype(int).values\n",
    "X_transformed = StandardScaler().fit_transform(X)\n",
    "\n",
    "FA.fit(X_transformed)\n",
    "X_transformed_ = FA.transform(X_transformed)\n",
    "\n",
    "X_train, X_test, y_train, y_test = train_test_split(X_transformed_, Y, test_size=0.33, random_state=42, stratify=Y)\n",
    "\n",
    "clf = XGBClassifier()\n",
    "clf.fit(X_train, y_train)\n",
    "y_pred = clf.predict(X_test)\n",
    "\n",
    "print(classification_report(y_test, y_pred))\n",
    "\n",
    "print(confusion_matrix(y_test, y_pred))"
   ]
  },
  {
   "cell_type": "markdown",
   "metadata": {},
   "source": [
    "Factor analysis fails."
   ]
  },
  {
   "cell_type": "code",
   "execution_count": 39,
   "metadata": {},
   "outputs": [
    {
     "name": "stdout",
     "output_type": "stream",
     "text": [
      "              precision    recall  f1-score   support\n",
      "\n",
      "           0       1.00      1.00      1.00     19470\n",
      "           1       0.86      0.75      0.80       330\n",
      "\n",
      "    accuracy                           0.99     19800\n",
      "   macro avg       0.93      0.87      0.90     19800\n",
      "weighted avg       0.99      0.99      0.99     19800\n",
      "\n",
      "[[19431    39]\n",
      " [   83   247]]\n"
     ]
    }
   ],
   "source": [
    "X = train_df[num_cat_cols].replace('na', 0).astype(float).values\n",
    "X_transformed = StandardScaler().fit_transform(X)\n",
    "X_train, X_test, y_train, y_test = train_test_split(X_transformed, Y, test_size=0.33, random_state=42, stratify=Y)\n",
    "\n",
    "clf = XGBClassifier()\n",
    "clf.fit(X_train, y_train)\n",
    "y_pred = clf.predict(X_test)\n",
    "\n",
    "print(classification_report(y_test, y_pred))\n",
    "\n",
    "print(confusion_matrix(y_test, y_pred))"
   ]
  },
  {
   "cell_type": "code",
   "execution_count": 40,
   "metadata": {},
   "outputs": [],
   "source": [
    "#use test set to predict\n",
    "X = test_df[num_cat_cols].replace('na', 0).astype(float).values\n",
    "X_transformed = StandardScaler().fit_transform(X)\n",
    "y_pred_ = clf.predict(X_transformed)\n",
    "\n",
    "output = pd.DataFrame({'id': np.arange(1,len(y_pred_)+1),\"class\": labelize(y_pred_)})\n",
    "output.to_csv('categorical+relevant numerical values standardized xgboost, output.csv', index=False)"
   ]
  },
  {
   "cell_type": "code",
   "execution_count": 35,
   "metadata": {},
   "outputs": [],
   "source": [
    "#lets apply factor analysis to the numerical columns\n",
    "FA = FactorAnalysis(50)\n",
    "\n",
    "numericals = train_df[numerical_columns].replace('na', 0).astype(float).values\n",
    "numericals_transformed = StandardScaler().fit_transform(numericals)\n",
    "\n",
    "FA.fit(numericals_transformed)\n",
    "numericals_transformed_ = FA.transform(numericals_transformed)\n",
    "X = train_df[categorical_cols].replace('na', 0).astype(int).values\n",
    "X = np.concatenate((X, numericals_transformed_), axis=1)\n",
    "\n",
    "X_transformed = StandardScaler().fit_transform(X)\n",
    "X_train, X_test, y_train, y_test = train_test_split(X, Y, test_size=0.33, random_state=42, stratify=Y)"
   ]
  },
  {
   "cell_type": "code",
   "execution_count": 36,
   "metadata": {},
   "outputs": [
    {
     "name": "stdout",
     "output_type": "stream",
     "text": [
      "              precision    recall  f1-score   support\n",
      "\n",
      "           0       1.00      1.00      1.00     19470\n",
      "           1       0.86      0.72      0.79       330\n",
      "\n",
      "    accuracy                           0.99     19800\n",
      "   macro avg       0.93      0.86      0.89     19800\n",
      "weighted avg       0.99      0.99      0.99     19800\n",
      "\n",
      "[[19432    38]\n",
      " [   91   239]]\n"
     ]
    }
   ],
   "source": [
    "clf = XGBClassifier()\n",
    "clf.fit(X_train, y_train)\n",
    "y_pred = clf.predict(X_test)\n",
    "\n",
    "print(classification_report(y_test, y_pred))\n",
    "\n",
    "print(confusion_matrix(y_test, y_pred))"
   ]
  },
  {
   "cell_type": "markdown",
   "metadata": {},
   "source": [
    "FA Hurts performance."
   ]
  },
  {
   "cell_type": "markdown",
   "metadata": {},
   "source": [
    "Lets try LDA"
   ]
  },
  {
   "cell_type": "code",
   "execution_count": 171,
   "metadata": {},
   "outputs": [
    {
     "name": "stdout",
     "output_type": "stream",
     "text": [
      "(60000, 97) (97, 70)\n"
     ]
    }
   ],
   "source": [
    "from preprocessing import LDA\n",
    "X = train_df[num_cat_cols].replace('na', 0).astype(float).values\n",
    "X_transformed = StandardScaler().fit_transform(X)\n",
    "lda = LDA(70)\n",
    "lda.fit(X_transformed, Y)\n",
    "X_transformed_ = lda.transform(X_transformed)\n",
    "X_train, X_test, y_train, y_test = train_test_split(X_transformed_, Y, test_size=0.33, random_state=42, stratify=Y)"
   ]
  },
  {
   "cell_type": "code",
   "execution_count": 172,
   "metadata": {},
   "outputs": [
    {
     "name": "stderr",
     "output_type": "stream",
     "text": [
      "/Users/firatkizilboga/Projects/LFD/APS-Failure-Prediction/.venv/lib/python3.11/site-packages/xgboost/core.py:160: UserWarning: [23:00:01] WARNING: /Users/runner/work/xgboost/xgboost/src/learner.cc:742: \n",
      "Parameters: { \"silent\" } are not used.\n",
      "\n",
      "  warnings.warn(smsg, UserWarning)\n"
     ]
    },
    {
     "name": "stdout",
     "output_type": "stream",
     "text": [
      "              precision    recall  f1-score   support\n",
      "\n",
      "           0       0.99      1.00      1.00     19470\n",
      "           1       0.83      0.65      0.72       330\n",
      "\n",
      "    accuracy                           0.99     19800\n",
      "   macro avg       0.91      0.82      0.86     19800\n",
      "weighted avg       0.99      0.99      0.99     19800\n",
      "\n",
      "[[19425    45]\n",
      " [  117   213]]\n"
     ]
    }
   ],
   "source": [
    "clf = XGBClassifier(max_depth=3, learning_rate=0.1, n_estimators=100, silent=True, objective='binary:logistic', booster='gbtree')\n",
    "clf.fit(X_train, y_train)\n",
    "y_pred = clf.predict(X_test)\n",
    "\n",
    "print(classification_report(y_test, y_pred))\n",
    "\n",
    "print(confusion_matrix(y_test, y_pred))"
   ]
  },
  {
   "cell_type": "markdown",
   "metadata": {},
   "source": [
    "Deep learning time!"
   ]
  },
  {
   "cell_type": "code",
   "execution_count": 45,
   "metadata": {},
   "outputs": [],
   "source": [
    "#use keras to create a neural network\n",
    "from keras.models import Sequential\n",
    "from keras.layers import Dense, Dropout, Activation\n",
    "#use momentum optimizer\n",
    "from keras.optimizers.legacy import Adam\n",
    "from keras import regularizers"
   ]
  },
  {
   "cell_type": "code",
   "execution_count": 46,
   "metadata": {},
   "outputs": [],
   "source": [
    "def get_model(input_size= X_transformed.shape[1]):\n",
    "    model = Sequential()\n",
    "\n",
    "    model.add(Dense(64, input_dim=input_size,\n",
    "                    activation='relu',\n",
    "                    kernel_regularizer=regularizers.l2(0.01),\n",
    "                    activity_regularizer=regularizers.l1(0.01)))\n",
    "    model.add(Dropout(0.3))\n",
    "    model.add(Dense(64, activation='relu',\n",
    "                    kernel_regularizer=regularizers.l2(0.01),\n",
    "                    activity_regularizer=regularizers.l1(0.01)))\n",
    "    model.add(Dropout(0.3))\n",
    "    model.add(Dense(32, activation='relu',\n",
    "                    kernel_regularizer=regularizers.l2(0.01),\n",
    "                    activity_regularizer=regularizers.l1(0.01)))\n",
    "    model.add(Dropout(0.3))\n",
    "    model.add(Dense(32, activation='relu',\n",
    "                    kernel_regularizer=regularizers.l2(0.01),\n",
    "                    activity_regularizer=regularizers.l1(0.01)))\n",
    "    model.add(Dropout(0.3))\n",
    "    model.add(Dense(32, activation='relu',\n",
    "                    kernel_regularizer=regularizers.l2(0.01),\n",
    "                    activity_regularizer=regularizers.l1(0.01)))\n",
    "    model.add(Dropout(0.3))\n",
    "    model.add(Dense(32, activation='relu',\n",
    "                    kernel_regularizer=regularizers.l2(0.01),\n",
    "                    activity_regularizer=regularizers.l1(0.01)))\n",
    "    model.add(Dropout(0.3))\n",
    "    model.add(Dense(32, activation='relu',\n",
    "                    kernel_regularizer=regularizers.l2(0.01),\n",
    "                    activity_regularizer=regularizers.l1(0.01)))\n",
    "    model.add(Dropout(0.3))\n",
    "    model.add(Dense(1, activation='sigmoid'))\n",
    "\n",
    "    adam = Adam(lr=0.0001, beta_1=0.9, beta_2=0.999, epsilon=1e-8)\n",
    "    model.compile(loss='binary_crossentropy', optimizer=adam, metrics=['accuracy'])\n",
    "    return model\n"
   ]
  },
  {
   "cell_type": "code",
   "execution_count": 48,
   "metadata": {},
   "outputs": [
    {
     "name": "stdout",
     "output_type": "stream",
     "text": [
      "Model: \"sequential_1\"\n",
      "_________________________________________________________________\n",
      " Layer (type)                Output Shape              Param #   \n",
      "=================================================================\n",
      " dense_8 (Dense)             (None, 64)                6272      \n",
      "                                                                 \n",
      " dropout_7 (Dropout)         (None, 64)                0         \n",
      "                                                                 \n",
      " dense_9 (Dense)             (None, 64)                4160      \n",
      "                                                                 \n",
      " dropout_8 (Dropout)         (None, 64)                0         \n",
      "                                                                 \n",
      " dense_10 (Dense)            (None, 32)                2080      \n",
      "                                                                 \n",
      " dropout_9 (Dropout)         (None, 32)                0         \n",
      "                                                                 \n",
      " dense_11 (Dense)            (None, 32)                1056      \n",
      "                                                                 \n",
      " dropout_10 (Dropout)        (None, 32)                0         \n",
      "                                                                 \n",
      " dense_12 (Dense)            (None, 32)                1056      \n",
      "                                                                 \n",
      " dropout_11 (Dropout)        (None, 32)                0         \n",
      "                                                                 \n",
      " dense_13 (Dense)            (None, 32)                1056      \n",
      "                                                                 \n",
      " dropout_12 (Dropout)        (None, 32)                0         \n",
      "                                                                 \n",
      " dense_14 (Dense)            (None, 32)                1056      \n",
      "                                                                 \n",
      " dropout_13 (Dropout)        (None, 32)                0         \n",
      "                                                                 \n",
      " dense_15 (Dense)            (None, 1)                 33        \n",
      "                                                                 \n",
      "=================================================================\n",
      "Total params: 16769 (65.50 KB)\n",
      "Trainable params: 16769 (65.50 KB)\n",
      "Non-trainable params: 0 (0.00 Byte)\n",
      "_________________________________________________________________\n",
      "None\n"
     ]
    },
    {
     "name": "stderr",
     "output_type": "stream",
     "text": [
      "/Users/firatkizilboga/Projects/LFD/APS-Failure-Prediction/.venv/lib/python3.11/site-packages/keras/src/optimizers/legacy/adam.py:118: UserWarning: The `lr` argument is deprecated, use `learning_rate` instead.\n",
      "  super().__init__(name, **kwargs)\n"
     ]
    }
   ],
   "source": [
    "print(get_model().summary())"
   ]
  },
  {
   "cell_type": "code",
   "execution_count": 56,
   "metadata": {},
   "outputs": [],
   "source": [
    "from sklearn.utils import class_weight\n",
    "class_weights = class_weight.compute_class_weight(classes=np.unique(Y), y=Y, class_weight='balanced')\n",
    "\n",
    "cw = {0: float(class_weights[0]), 1: float(class_weights[1])}"
   ]
  },
  {
   "cell_type": "code",
   "execution_count": 57,
   "metadata": {},
   "outputs": [
    {
     "name": "stdout",
     "output_type": "stream",
     "text": [
      "Epoch 1/50\n"
     ]
    },
    {
     "name": "stderr",
     "output_type": "stream",
     "text": [
      "/Users/firatkizilboga/Projects/LFD/APS-Failure-Prediction/.venv/lib/python3.11/site-packages/keras/src/optimizers/legacy/adam.py:118: UserWarning: The `lr` argument is deprecated, use `learning_rate` instead.\n",
      "  super().__init__(name, **kwargs)\n"
     ]
    },
    {
     "name": "stdout",
     "output_type": "stream",
     "text": [
      "315/315 [==============================] - 2s 3ms/step - loss: 3.9300 - accuracy: 0.5466 - val_loss: 3.6754 - val_accuracy: 0.8529\n",
      "Epoch 2/50\n",
      "315/315 [==============================] - 1s 2ms/step - loss: 3.5024 - accuracy: 0.8353 - val_loss: 3.4318 - val_accuracy: 0.9173\n",
      "Epoch 3/50\n",
      "315/315 [==============================] - 1s 2ms/step - loss: 3.2293 - accuracy: 0.8883 - val_loss: 3.2130 - val_accuracy: 0.9381\n",
      "Epoch 4/50\n",
      "315/315 [==============================] - 1s 2ms/step - loss: 2.9847 - accuracy: 0.9132 - val_loss: 3.0027 - val_accuracy: 0.9451\n",
      "Epoch 5/50\n",
      "315/315 [==============================] - 1s 2ms/step - loss: 2.7634 - accuracy: 0.9266 - val_loss: 2.7983 - val_accuracy: 0.9472\n",
      "Epoch 6/50\n",
      "315/315 [==============================] - 1s 2ms/step - loss: 2.5474 - accuracy: 0.9350 - val_loss: 2.5884 - val_accuracy: 0.9517\n",
      "Epoch 7/50\n",
      "315/315 [==============================] - 1s 2ms/step - loss: 2.3339 - accuracy: 0.9423 - val_loss: 2.3857 - val_accuracy: 0.9540\n",
      "Epoch 8/50\n",
      "315/315 [==============================] - 1s 3ms/step - loss: 2.1292 - accuracy: 0.9478 - val_loss: 2.1838 - val_accuracy: 0.9581\n",
      "Epoch 9/50\n",
      "315/315 [==============================] - 1s 3ms/step - loss: 1.9451 - accuracy: 0.9535 - val_loss: 1.9908 - val_accuracy: 0.9615\n",
      "Epoch 10/50\n",
      "315/315 [==============================] - 1s 2ms/step - loss: 1.7692 - accuracy: 0.9570 - val_loss: 1.8103 - val_accuracy: 0.9636\n",
      "Epoch 11/50\n",
      "315/315 [==============================] - 1s 2ms/step - loss: 1.6025 - accuracy: 0.9588 - val_loss: 1.6537 - val_accuracy: 0.9620\n",
      "Epoch 12/50\n",
      "315/315 [==============================] - 1s 2ms/step - loss: 1.4489 - accuracy: 0.9627 - val_loss: 1.4878 - val_accuracy: 0.9664\n",
      "Epoch 13/50\n",
      "315/315 [==============================] - 1s 2ms/step - loss: 1.3059 - accuracy: 0.9644 - val_loss: 1.3593 - val_accuracy: 0.9631\n",
      "Epoch 14/50\n",
      "315/315 [==============================] - 1s 2ms/step - loss: 1.1730 - accuracy: 0.9651 - val_loss: 1.2141 - val_accuracy: 0.9691\n",
      "Epoch 15/50\n",
      "315/315 [==============================] - 1s 2ms/step - loss: 1.0534 - accuracy: 0.9667 - val_loss: 1.0983 - val_accuracy: 0.9693\n",
      "Epoch 16/50\n",
      "315/315 [==============================] - 1s 2ms/step - loss: 0.9572 - accuracy: 0.9683 - val_loss: 0.9954 - val_accuracy: 0.9697\n",
      "Epoch 17/50\n",
      "315/315 [==============================] - 1s 2ms/step - loss: 0.8567 - accuracy: 0.9704 - val_loss: 0.9168 - val_accuracy: 0.9670\n",
      "Epoch 18/50\n",
      "315/315 [==============================] - 1s 2ms/step - loss: 0.7833 - accuracy: 0.9693 - val_loss: 0.8241 - val_accuracy: 0.9703\n",
      "Epoch 19/50\n",
      "315/315 [==============================] - 1s 3ms/step - loss: 0.7177 - accuracy: 0.9698 - val_loss: 0.7547 - val_accuracy: 0.9703\n",
      "Epoch 20/50\n",
      "315/315 [==============================] - 1s 2ms/step - loss: 0.6542 - accuracy: 0.9703 - val_loss: 0.6974 - val_accuracy: 0.9699\n",
      "Epoch 21/50\n",
      "315/315 [==============================] - 1s 2ms/step - loss: 0.6040 - accuracy: 0.9719 - val_loss: 0.6547 - val_accuracy: 0.9688\n",
      "Epoch 22/50\n",
      "315/315 [==============================] - 1s 2ms/step - loss: 0.5709 - accuracy: 0.9711 - val_loss: 0.6148 - val_accuracy: 0.9686\n",
      "Epoch 23/50\n",
      "315/315 [==============================] - 1s 2ms/step - loss: 0.5318 - accuracy: 0.9712 - val_loss: 0.5607 - val_accuracy: 0.9734\n",
      "Epoch 24/50\n",
      "315/315 [==============================] - 1s 2ms/step - loss: 0.5011 - accuracy: 0.9727 - val_loss: 0.5351 - val_accuracy: 0.9721\n",
      "Epoch 25/50\n",
      "315/315 [==============================] - 1s 2ms/step - loss: 0.4765 - accuracy: 0.9712 - val_loss: 0.5139 - val_accuracy: 0.9714\n",
      "Epoch 26/50\n",
      "315/315 [==============================] - 1s 2ms/step - loss: 0.4618 - accuracy: 0.9732 - val_loss: 0.5157 - val_accuracy: 0.9661\n",
      "Epoch 27/50\n",
      "315/315 [==============================] - 1s 2ms/step - loss: 0.4451 - accuracy: 0.9711 - val_loss: 0.4829 - val_accuracy: 0.9694\n",
      "Epoch 28/50\n",
      "315/315 [==============================] - 1s 2ms/step - loss: 0.4236 - accuracy: 0.9725 - val_loss: 0.4484 - val_accuracy: 0.9744\n",
      "Epoch 29/50\n",
      "315/315 [==============================] - 1s 2ms/step - loss: 0.4132 - accuracy: 0.9725 - val_loss: 0.4461 - val_accuracy: 0.9713\n",
      "Epoch 30/50\n",
      "315/315 [==============================] - 1s 2ms/step - loss: 0.4005 - accuracy: 0.9737 - val_loss: 0.4266 - val_accuracy: 0.9731\n",
      "Epoch 31/50\n",
      "315/315 [==============================] - 1s 2ms/step - loss: 0.3992 - accuracy: 0.9739 - val_loss: 0.4293 - val_accuracy: 0.9709\n",
      "Epoch 32/50\n",
      "315/315 [==============================] - 1s 2ms/step - loss: 0.3877 - accuracy: 0.9740 - val_loss: 0.4105 - val_accuracy: 0.9727\n",
      "Epoch 33/50\n",
      "315/315 [==============================] - 1s 2ms/step - loss: 0.3795 - accuracy: 0.9730 - val_loss: 0.3967 - val_accuracy: 0.9738\n",
      "Epoch 34/50\n",
      "315/315 [==============================] - 1s 2ms/step - loss: 0.3786 - accuracy: 0.9737 - val_loss: 0.3859 - val_accuracy: 0.9748\n",
      "Epoch 35/50\n",
      "315/315 [==============================] - 1s 2ms/step - loss: 0.3665 - accuracy: 0.9755 - val_loss: 0.4150 - val_accuracy: 0.9667\n",
      "Epoch 36/50\n",
      "315/315 [==============================] - 1s 2ms/step - loss: 0.3692 - accuracy: 0.9739 - val_loss: 0.4053 - val_accuracy: 0.9679\n",
      "Epoch 37/50\n",
      "315/315 [==============================] - 1s 2ms/step - loss: 0.3620 - accuracy: 0.9746 - val_loss: 0.3691 - val_accuracy: 0.9749\n",
      "Epoch 38/50\n",
      "315/315 [==============================] - 1s 2ms/step - loss: 0.3553 - accuracy: 0.9733 - val_loss: 0.3604 - val_accuracy: 0.9753\n",
      "Epoch 39/50\n",
      "315/315 [==============================] - 1s 2ms/step - loss: 0.3520 - accuracy: 0.9751 - val_loss: 0.3820 - val_accuracy: 0.9692\n",
      "Epoch 40/50\n",
      "315/315 [==============================] - 1s 2ms/step - loss: 0.3452 - accuracy: 0.9747 - val_loss: 0.3850 - val_accuracy: 0.9684\n",
      "Epoch 41/50\n",
      "315/315 [==============================] - 1s 2ms/step - loss: 0.3493 - accuracy: 0.9754 - val_loss: 0.3530 - val_accuracy: 0.9739\n",
      "Epoch 42/50\n",
      "315/315 [==============================] - 1s 2ms/step - loss: 0.3448 - accuracy: 0.9754 - val_loss: 0.3735 - val_accuracy: 0.9688\n",
      "Epoch 43/50\n",
      "315/315 [==============================] - 1s 2ms/step - loss: 0.3441 - accuracy: 0.9751 - val_loss: 0.3378 - val_accuracy: 0.9762\n",
      "Epoch 44/50\n",
      "315/315 [==============================] - 1s 2ms/step - loss: 0.3471 - accuracy: 0.9761 - val_loss: 0.3526 - val_accuracy: 0.9720\n",
      "Epoch 45/50\n",
      "315/315 [==============================] - 1s 2ms/step - loss: 0.3453 - accuracy: 0.9750 - val_loss: 0.3545 - val_accuracy: 0.9708\n",
      "Epoch 46/50\n",
      "315/315 [==============================] - 1s 2ms/step - loss: 0.3347 - accuracy: 0.9758 - val_loss: 0.3416 - val_accuracy: 0.9737\n",
      "Epoch 47/50\n",
      "315/315 [==============================] - 1s 2ms/step - loss: 0.3376 - accuracy: 0.9744 - val_loss: 0.3360 - val_accuracy: 0.9739\n",
      "Epoch 48/50\n",
      "315/315 [==============================] - 1s 2ms/step - loss: 0.3337 - accuracy: 0.9763 - val_loss: 0.3828 - val_accuracy: 0.9653\n",
      "Epoch 49/50\n",
      "315/315 [==============================] - 1s 2ms/step - loss: 0.3276 - accuracy: 0.9749 - val_loss: 0.3413 - val_accuracy: 0.9723\n",
      "Epoch 50/50\n",
      "315/315 [==============================] - 1s 2ms/step - loss: 0.3277 - accuracy: 0.9754 - val_loss: 0.3366 - val_accuracy: 0.9731\n"
     ]
    },
    {
     "data": {
      "text/plain": [
       "<keras.src.callbacks.History at 0x28b35f490>"
      ]
     },
     "execution_count": 57,
     "metadata": {},
     "output_type": "execute_result"
    }
   ],
   "source": [
    "X = train_df[num_cat_cols].replace('na', 0).astype(float).values\n",
    "X_transformed = StandardScaler().fit_transform(X)\n",
    "X_train, X_test, y_train, y_test = train_test_split(X_transformed, Y, test_size=0.33, random_state=42, stratify=Y)\n",
    "model_small = get_model(X_train.shape[1])\n",
    "model_small.fit(X_train, y_train, epochs=100, batch_size=128, validation_data=(X_test, y_test), class_weight=cw)"
   ]
  },
  {
   "cell_type": "code",
   "execution_count": 61,
   "metadata": {},
   "outputs": [
    {
     "name": "stdout",
     "output_type": "stream",
     "text": [
      "619/619 [==============================] - 0s 501us/step\n",
      "              precision    recall  f1-score   support\n",
      "\n",
      "           0       1.00      0.97      0.99     19470\n",
      "           1       0.38      0.94      0.54       330\n",
      "\n",
      "    accuracy                           0.97     19800\n",
      "   macro avg       0.69      0.96      0.76     19800\n",
      "weighted avg       0.99      0.97      0.98     19800\n",
      "\n",
      "[[18958   512]\n",
      " [   21   309]]\n"
     ]
    }
   ],
   "source": [
    "y_pred = model_small.predict(X_test)\n",
    "y_pred = np.round(y_pred)\n",
    "\n",
    "print(classification_report(y_test, y_pred))\n",
    "\n",
    "print(confusion_matrix(y_test, y_pred))"
   ]
  },
  {
   "cell_type": "code",
   "execution_count": 46,
   "metadata": {},
   "outputs": [
    {
     "name": "stdout",
     "output_type": "stream",
     "text": [
      "500/500 [==============================] - 0s 497us/step\n"
     ]
    }
   ],
   "source": [
    "#use test set to predict\n",
    "X = test_df[num_cat_cols].replace('na', 0).astype(float).values\n",
    "X_transformed = StandardScaler().fit_transform(X)\n",
    "y_pred_ = model_small.predict(X_transformed)\n",
    "y_pred_ = np.round(y_pred_)"
   ]
  },
  {
   "cell_type": "code",
   "execution_count": 49,
   "metadata": {},
   "outputs": [],
   "source": [
    "output = pd.DataFrame({'id': np.arange(1,len(y_pred_.reshape(-1))+1),\"class\": labelize(y_pred_.reshape(-1))})\n",
    "output.to_csv('categorical+relevant numerical values standardized neural network bigger model (1 extra 32 neuron layer), output.csv', index=False)"
   ]
  },
  {
   "cell_type": "markdown",
   "metadata": {},
   "source": [
    "This yielded a good result!\n",
    "Let's try an autoencoder"
   ]
  },
  {
   "cell_type": "code",
   "execution_count": 82,
   "metadata": {},
   "outputs": [],
   "source": [
    "X = train_df[num_cat_cols].replace('na', 0).astype(float).values\n",
    "X_transformed = StandardScaler().fit_transform(X)\n",
    "X_train, X_test, y_train, y_test = train_test_split(X_transformed, Y, test_size=0.33, random_state=42, stratify=Y)"
   ]
  },
  {
   "cell_type": "code",
   "execution_count": 96,
   "metadata": {},
   "outputs": [
    {
     "name": "stdout",
     "output_type": "stream",
     "text": [
      "Epoch 1/100\n",
      "469/469 [==============================] - 1s 2ms/step - loss: 0.7869 - val_loss: 0.6979\n",
      "Epoch 2/100\n",
      "469/469 [==============================] - 1s 2ms/step - loss: 0.7628 - val_loss: 0.6923\n",
      "Epoch 3/100\n",
      "469/469 [==============================] - 1s 2ms/step - loss: 0.7585 - val_loss: 0.6888\n",
      "Epoch 4/100\n",
      "469/469 [==============================] - 1s 2ms/step - loss: 0.7569 - val_loss: 0.6881\n",
      "Epoch 5/100\n",
      "469/469 [==============================] - 1s 2ms/step - loss: 0.7554 - val_loss: 0.6863\n",
      "Epoch 6/100\n",
      "469/469 [==============================] - 1s 2ms/step - loss: 0.7541 - val_loss: 0.6854\n",
      "Epoch 7/100\n",
      "469/469 [==============================] - 1s 2ms/step - loss: 0.7534 - val_loss: 0.6849\n",
      "Epoch 8/100\n",
      "469/469 [==============================] - 1s 2ms/step - loss: 0.7528 - val_loss: 0.6844\n",
      "Epoch 9/100\n",
      "469/469 [==============================] - 1s 2ms/step - loss: 0.7524 - val_loss: 0.6841\n",
      "Epoch 10/100\n",
      "469/469 [==============================] - 1s 2ms/step - loss: 0.7525 - val_loss: 0.6836\n",
      "Epoch 11/100\n",
      "469/469 [==============================] - 1s 2ms/step - loss: 0.7518 - val_loss: 0.6833\n",
      "Epoch 12/100\n",
      "469/469 [==============================] - 1s 2ms/step - loss: 0.7513 - val_loss: 0.6829\n",
      "Epoch 13/100\n",
      "469/469 [==============================] - 1s 2ms/step - loss: 0.7512 - val_loss: 0.6829\n",
      "Epoch 14/100\n",
      "469/469 [==============================] - 1s 2ms/step - loss: 0.7510 - val_loss: 0.6827\n",
      "Epoch 15/100\n",
      "469/469 [==============================] - 1s 2ms/step - loss: 0.7508 - val_loss: 0.6825\n",
      "Epoch 16/100\n",
      "469/469 [==============================] - 1s 2ms/step - loss: 0.7506 - val_loss: 0.6823\n",
      "Epoch 17/100\n",
      "469/469 [==============================] - 1s 2ms/step - loss: 0.7506 - val_loss: 0.6820\n",
      "Epoch 18/100\n",
      "469/469 [==============================] - 1s 2ms/step - loss: 0.7503 - val_loss: 0.6845\n",
      "Epoch 19/100\n",
      "469/469 [==============================] - 1s 2ms/step - loss: 0.7503 - val_loss: 0.6820\n",
      "Epoch 20/100\n",
      "469/469 [==============================] - 1s 2ms/step - loss: 0.7499 - val_loss: 0.6817\n",
      "Epoch 21/100\n",
      "469/469 [==============================] - 1s 2ms/step - loss: 0.7500 - val_loss: 0.6816\n",
      "Epoch 22/100\n",
      "469/469 [==============================] - 1s 2ms/step - loss: 0.7499 - val_loss: 0.6819\n",
      "Epoch 23/100\n",
      "469/469 [==============================] - 1s 2ms/step - loss: 0.7497 - val_loss: 0.6813\n",
      "Epoch 24/100\n",
      "469/469 [==============================] - 1s 2ms/step - loss: 0.7502 - val_loss: 0.6813\n",
      "Epoch 25/100\n",
      "469/469 [==============================] - 1s 2ms/step - loss: 0.7496 - val_loss: 0.6811\n",
      "Epoch 26/100\n",
      "469/469 [==============================] - 1s 2ms/step - loss: 0.7495 - val_loss: 0.6810\n",
      "Epoch 27/100\n",
      "469/469 [==============================] - 1s 2ms/step - loss: 0.7494 - val_loss: 0.6812\n",
      "Epoch 28/100\n",
      "469/469 [==============================] - 1s 2ms/step - loss: 0.7494 - val_loss: 0.6825\n",
      "Epoch 29/100\n",
      "469/469 [==============================] - 1s 2ms/step - loss: 0.7493 - val_loss: 0.6807\n",
      "Epoch 30/100\n",
      "469/469 [==============================] - 1s 2ms/step - loss: 0.7491 - val_loss: 0.6808\n",
      "Epoch 31/100\n",
      "469/469 [==============================] - 1s 2ms/step - loss: 0.7491 - val_loss: 0.6809\n",
      "Epoch 32/100\n",
      "469/469 [==============================] - 1s 2ms/step - loss: 0.7492 - val_loss: 0.6807\n",
      "Epoch 33/100\n",
      "469/469 [==============================] - 1s 2ms/step - loss: 0.7490 - val_loss: 0.6808\n",
      "Epoch 34/100\n",
      "469/469 [==============================] - 1s 2ms/step - loss: 0.7490 - val_loss: 0.6806\n",
      "Epoch 35/100\n",
      "469/469 [==============================] - 1s 2ms/step - loss: 0.7490 - val_loss: 0.6812\n",
      "Epoch 36/100\n",
      "469/469 [==============================] - 1s 2ms/step - loss: 0.7489 - val_loss: 0.6807\n",
      "Epoch 37/100\n",
      "469/469 [==============================] - 1s 2ms/step - loss: 0.7489 - val_loss: 0.6806\n",
      "Epoch 38/100\n",
      "469/469 [==============================] - 1s 2ms/step - loss: 0.7488 - val_loss: 0.6806\n",
      "Epoch 39/100\n",
      "469/469 [==============================] - 1s 2ms/step - loss: 0.7488 - val_loss: 0.6803\n",
      "Epoch 40/100\n",
      "469/469 [==============================] - 1s 2ms/step - loss: 0.7488 - val_loss: 0.6803\n",
      "Epoch 41/100\n",
      "469/469 [==============================] - 1s 2ms/step - loss: 0.7488 - val_loss: 0.6809\n",
      "Epoch 42/100\n",
      "469/469 [==============================] - 1s 2ms/step - loss: 0.7488 - val_loss: 0.6809\n",
      "Epoch 43/100\n",
      "469/469 [==============================] - 1s 2ms/step - loss: 0.7488 - val_loss: 0.6805\n",
      "Epoch 44/100\n",
      "469/469 [==============================] - 1s 2ms/step - loss: 0.7486 - val_loss: 0.6806\n",
      "Epoch 45/100\n",
      "469/469 [==============================] - 1s 2ms/step - loss: 0.7486 - val_loss: 0.6801\n",
      "Epoch 46/100\n",
      "469/469 [==============================] - 1s 2ms/step - loss: 0.7487 - val_loss: 0.6802\n",
      "Epoch 47/100\n",
      "469/469 [==============================] - 1s 2ms/step - loss: 0.7485 - val_loss: 0.6811\n",
      "Epoch 48/100\n",
      "469/469 [==============================] - 1s 2ms/step - loss: 0.7486 - val_loss: 0.6805\n",
      "Epoch 49/100\n",
      "469/469 [==============================] - 1s 2ms/step - loss: 0.7485 - val_loss: 0.6802\n",
      "Epoch 50/100\n",
      "469/469 [==============================] - 1s 2ms/step - loss: 0.7485 - val_loss: 0.6806\n",
      "Epoch 51/100\n",
      "469/469 [==============================] - 1s 2ms/step - loss: 0.7485 - val_loss: 0.6804\n",
      "Epoch 52/100\n",
      "469/469 [==============================] - 1s 2ms/step - loss: 0.7486 - val_loss: 0.6800\n",
      "Epoch 53/100\n",
      "469/469 [==============================] - 1s 2ms/step - loss: 0.7484 - val_loss: 0.6806\n",
      "Epoch 54/100\n",
      "469/469 [==============================] - 1s 2ms/step - loss: 0.7485 - val_loss: 0.6806\n",
      "Epoch 55/100\n",
      "469/469 [==============================] - 1s 2ms/step - loss: 0.7484 - val_loss: 0.6807\n",
      "Epoch 56/100\n",
      "469/469 [==============================] - 1s 2ms/step - loss: 0.7484 - val_loss: 0.6800\n",
      "Epoch 57/100\n",
      "469/469 [==============================] - 1s 2ms/step - loss: 0.7484 - val_loss: 0.6807\n",
      "Epoch 58/100\n",
      "469/469 [==============================] - 1s 2ms/step - loss: 0.7485 - val_loss: 0.6805\n",
      "Epoch 59/100\n",
      "469/469 [==============================] - 1s 2ms/step - loss: 0.7483 - val_loss: 0.6800\n",
      "Epoch 60/100\n",
      "469/469 [==============================] - 1s 2ms/step - loss: 0.7484 - val_loss: 0.6797\n",
      "Epoch 61/100\n",
      "469/469 [==============================] - 1s 2ms/step - loss: 0.7484 - val_loss: 0.6800\n",
      "Epoch 62/100\n",
      "469/469 [==============================] - 1s 2ms/step - loss: 0.7485 - val_loss: 0.6798\n",
      "Epoch 63/100\n",
      "469/469 [==============================] - 1s 2ms/step - loss: 0.7483 - val_loss: 0.6800\n",
      "Epoch 64/100\n",
      "469/469 [==============================] - 1s 2ms/step - loss: 0.7484 - val_loss: 0.6803\n",
      "Epoch 65/100\n",
      "469/469 [==============================] - 1s 2ms/step - loss: 0.7483 - val_loss: 0.6800\n",
      "Epoch 66/100\n",
      "469/469 [==============================] - 1s 2ms/step - loss: 0.7482 - val_loss: 0.6799\n",
      "Epoch 67/100\n",
      "469/469 [==============================] - 1s 2ms/step - loss: 0.7482 - val_loss: 0.6802\n",
      "Epoch 68/100\n",
      "469/469 [==============================] - 1s 2ms/step - loss: 0.7483 - val_loss: 0.6801\n",
      "Epoch 69/100\n",
      "469/469 [==============================] - 1s 2ms/step - loss: 0.7482 - val_loss: 0.6801\n",
      "Epoch 70/100\n",
      "469/469 [==============================] - 1s 2ms/step - loss: 0.7483 - val_loss: 0.6800\n",
      "Epoch 71/100\n",
      "469/469 [==============================] - 1s 2ms/step - loss: 0.7481 - val_loss: 0.6799\n",
      "Epoch 72/100\n",
      "469/469 [==============================] - 1s 2ms/step - loss: 0.7481 - val_loss: 0.6799\n",
      "Epoch 73/100\n",
      "469/469 [==============================] - 1s 2ms/step - loss: 0.7482 - val_loss: 0.6797\n",
      "Epoch 74/100\n",
      "469/469 [==============================] - 1s 2ms/step - loss: 0.7482 - val_loss: 0.6816\n",
      "Epoch 75/100\n",
      "469/469 [==============================] - 1s 2ms/step - loss: 0.7482 - val_loss: 0.6801\n",
      "Epoch 76/100\n",
      "469/469 [==============================] - 1s 2ms/step - loss: 0.7483 - val_loss: 0.6796\n",
      "Epoch 77/100\n",
      "469/469 [==============================] - 1s 2ms/step - loss: 0.7481 - val_loss: 0.6798\n",
      "Epoch 78/100\n",
      "469/469 [==============================] - 1s 2ms/step - loss: 0.7481 - val_loss: 0.6798\n",
      "Epoch 79/100\n",
      "469/469 [==============================] - 1s 2ms/step - loss: 0.7483 - val_loss: 0.6798\n",
      "Epoch 80/100\n",
      "469/469 [==============================] - 1s 2ms/step - loss: 0.7481 - val_loss: 0.6795\n",
      "Epoch 81/100\n",
      "469/469 [==============================] - 1s 2ms/step - loss: 0.7480 - val_loss: 0.6804\n",
      "Epoch 82/100\n",
      "469/469 [==============================] - 1s 2ms/step - loss: 0.7480 - val_loss: 0.6798\n",
      "Epoch 83/100\n",
      "469/469 [==============================] - 1s 2ms/step - loss: 0.7481 - val_loss: 0.6802\n",
      "Epoch 84/100\n",
      "469/469 [==============================] - 1s 2ms/step - loss: 0.7480 - val_loss: 0.6802\n",
      "Epoch 85/100\n",
      "469/469 [==============================] - 1s 2ms/step - loss: 0.7481 - val_loss: 0.6800\n",
      "Epoch 86/100\n",
      "469/469 [==============================] - 1s 2ms/step - loss: 0.7482 - val_loss: 0.6804\n",
      "Epoch 87/100\n",
      "469/469 [==============================] - 1s 2ms/step - loss: 0.7481 - val_loss: 0.6797\n",
      "Epoch 88/100\n",
      "469/469 [==============================] - 2s 4ms/step - loss: 0.7479 - val_loss: 0.6796\n",
      "Epoch 89/100\n",
      "469/469 [==============================] - 1s 2ms/step - loss: 0.7483 - val_loss: 0.6798\n",
      "Epoch 90/100\n",
      "469/469 [==============================] - 1s 2ms/step - loss: 0.7480 - val_loss: 0.6796\n",
      "Epoch 91/100\n",
      "469/469 [==============================] - 1s 2ms/step - loss: 0.7480 - val_loss: 0.6799\n",
      "Epoch 92/100\n",
      "469/469 [==============================] - 1s 2ms/step - loss: 0.7479 - val_loss: 0.6799\n",
      "Epoch 93/100\n",
      "469/469 [==============================] - 1s 2ms/step - loss: 0.7480 - val_loss: 0.6798\n",
      "Epoch 94/100\n",
      "469/469 [==============================] - 1s 2ms/step - loss: 0.7479 - val_loss: 0.6796\n",
      "Epoch 95/100\n",
      "469/469 [==============================] - 1s 2ms/step - loss: 0.7480 - val_loss: 0.6797\n",
      "Epoch 96/100\n",
      "469/469 [==============================] - 782s 2s/step - loss: 0.7479 - val_loss: 0.6795\n",
      "Epoch 97/100\n",
      "469/469 [==============================] - 3s 7ms/step - loss: 0.7479 - val_loss: 0.6797\n",
      "Epoch 98/100\n",
      "469/469 [==============================] - 1s 2ms/step - loss: 0.7483 - val_loss: 0.6798\n",
      "Epoch 99/100\n",
      "469/469 [==============================] - 1s 2ms/step - loss: 0.7479 - val_loss: 0.6794\n",
      "Epoch 100/100\n",
      "469/469 [==============================] - 1s 2ms/step - loss: 0.7480 - val_loss: 0.6809\n"
     ]
    },
    {
     "data": {
      "text/plain": [
       "<keras.src.callbacks.History at 0x2b2902c90>"
      ]
     },
     "execution_count": 96,
     "metadata": {},
     "output_type": "execute_result"
    }
   ],
   "source": [
    "#create encoder decoder model for the data 6 layers deep\n",
    "from keras.layers import Input, Dense\n",
    "from keras.models import Model\n",
    "from keras import regularizers\n",
    "\n",
    "import tensorflow as tf\n",
    "\n",
    "def custom_sigmoid(x):\n",
    "    return 2 * (1 / (1 + tf.exp(-x))) - 1\n",
    "\n",
    "input_df = Input(shape=(X_transformed.shape[1],))\n",
    "encoded = Dense(64, activation='relu', kernel_regularizer=regularizers.l2(1e-6),\n",
    "                activity_regularizer=regularizers.l1(1e-6))(input_df)\n",
    "\n",
    "encoded = Dense(48, activation='relu', kernel_regularizer=regularizers.l2(1e-6),\n",
    "                activity_regularizer=regularizers.l1(1e-6))(encoded)\n",
    "\n",
    "decoded = Dense(64, activation='relu', kernel_regularizer=regularizers.l2(1e-6),\n",
    "                activity_regularizer=regularizers.l1(1e-6))(encoded)\n",
    "decoded = Dense(X_transformed.shape[1], activation=custom_sigmoid)(decoded)\n",
    "\n",
    "autoencoder = Model(input_df, decoded)\n",
    "encoder = Model(input_df, encoded)\n",
    "adam = Adam(learning_rate=1e-3, clipvalue=0.5)\n",
    "autoencoder.compile(optimizer=adam, loss='mean_squared_error')\n",
    "autoencoder.fit(X_transformed, X_transformed, epochs=100, batch_size=128, validation_data=(X_test, X_test))"
   ]
  },
  {
   "cell_type": "code",
   "execution_count": 97,
   "metadata": {},
   "outputs": [
    {
     "name": "stdout",
     "output_type": "stream",
     "text": [
      "1257/1257 [==============================] - 1s 425us/step\n",
      "619/619 [==============================] - 0s 520us/step\n",
      "              precision    recall  f1-score   support\n",
      "\n",
      "           0       0.99      1.00      1.00     19470\n",
      "           1       0.77      0.68      0.72       330\n",
      "\n",
      "    accuracy                           0.99     19800\n",
      "   macro avg       0.88      0.84      0.86     19800\n",
      "weighted avg       0.99      0.99      0.99     19800\n",
      "\n",
      "[[19404    66]\n",
      " [  107   223]]\n"
     ]
    }
   ],
   "source": [
    "#create XGBoost model\n",
    "import xgboost as xgb\n",
    "clf = xgb.XGBClassifier()\n",
    "clf.fit(encoder.predict(X_train), y_train)\n",
    "y_pred = clf.predict(encoder.predict(X_test))\n",
    "\n",
    "print(classification_report(y_test, y_pred))\n",
    "\n",
    "print(confusion_matrix(y_test, y_pred))"
   ]
  },
  {
   "cell_type": "markdown",
   "metadata": {},
   "source": [
    "Not so good lets attach a NN to the end of the autoencoder"
   ]
  },
  {
   "cell_type": "code",
   "execution_count": 101,
   "metadata": {},
   "outputs": [],
   "source": [
    "#create a predictor deep neural network\n",
    "\n",
    "def get_predictor_model():\n",
    "    model = Sequential()\n",
    "\n",
    "    model.add(Dense(32, input_dim=48,\n",
    "                    activation='relu',\n",
    "                    kernel_regularizer=regularizers.l2(1e-5),\n",
    "                    activity_regularizer=regularizers.l1(1e-5)))\n",
    "    \n",
    "    model.add(Dense(32, activation='relu',\n",
    "                    kernel_regularizer=regularizers.l2(1e-5),\n",
    "                    activity_regularizer=regularizers.l1(1e-5)))\n",
    "    \n",
    "    model.add(Dense(32, activation='relu',\n",
    "                    kernel_regularizer=regularizers.l2(1e-5),\n",
    "                    activity_regularizer=regularizers.l1(1e-5)))\n",
    "    model.add(Dense(32, activation='relu',\n",
    "                    kernel_regularizer=regularizers.l2(1e-5),\n",
    "                    activity_regularizer=regularizers.l1(1e-5)))\n",
    "    \n",
    "    model.add(Dense(32, activation='relu',\n",
    "                    kernel_regularizer=regularizers.l2(1e-5),\n",
    "                    activity_regularizer=regularizers.l1(1e-5)))\n",
    "    model.add(Dense(32, activation='relu',\n",
    "                    kernel_regularizer=regularizers.l2(1e-5),\n",
    "                    activity_regularizer=regularizers.l1(1e-5)))\n",
    "    \n",
    "    model.add(Dense(32, activation='relu',\n",
    "                    kernel_regularizer=regularizers.l2(1e-5),\n",
    "                    activity_regularizer=regularizers.l1(1e-5)))\n",
    "    model.add(Dense(32, activation='relu',\n",
    "                    kernel_regularizer=regularizers.l2(1e-5),\n",
    "                    activity_regularizer=regularizers.l1(1e-5)))\n",
    "    model.add(Dense(32, activation='relu',\n",
    "                    kernel_regularizer=regularizers.l2(1e-5),\n",
    "                    activity_regularizer=regularizers.l1(1e-5)))\n",
    "    model.add(Dense(32, activation='relu',\n",
    "                    kernel_regularizer=regularizers.l2(1e-5),\n",
    "                    activity_regularizer=regularizers.l1(1e-5)))\n",
    "    model.add(Dense(32, activation='relu',\n",
    "                    kernel_regularizer=regularizers.l2(1e-5),\n",
    "                    activity_regularizer=regularizers.l1(1e-5)))\n",
    "    model.add(Dense(16, activation='relu',\n",
    "                    kernel_regularizer=regularizers.l2(1e-5),\n",
    "                    activity_regularizer=regularizers.l1(1e-5)))\n",
    "    \n",
    "    model.add(Dense(8, activation='relu',\n",
    "                    kernel_regularizer=regularizers.l2(1e-5),\n",
    "                    activity_regularizer=regularizers.l1(1e-5)))\n",
    "    \n",
    "    model.add(Dense(1, activation='sigmoid'))\n",
    "    \n",
    "\n",
    "    adam = Adam(lr=0.0001, beta_1=0.9, beta_2=0.999, epsilon=1e-8)\n",
    "    model.compile(loss='binary_crossentropy', optimizer=adam, metrics=['accuracy'])\n",
    "    return model"
   ]
  },
  {
   "cell_type": "code",
   "execution_count": 102,
   "metadata": {},
   "outputs": [],
   "source": [
    "preditctor = get_predictor_model()"
   ]
  },
  {
   "cell_type": "code",
   "execution_count": 103,
   "metadata": {},
   "outputs": [
    {
     "name": "stdout",
     "output_type": "stream",
     "text": [
      "1257/1257 [==============================] - 1s 533us/step\n",
      "619/619 [==============================] - 0s 417us/step\n",
      "Epoch 1/100\n",
      "315/315 [==============================] - 2s 3ms/step - loss: 0.4915 - accuracy: 0.9833 - val_loss: 0.1743 - val_accuracy: 0.9833\n",
      "Epoch 2/100\n",
      "315/315 [==============================] - 1s 2ms/step - loss: 0.0780 - accuracy: 0.9833 - val_loss: 0.0557 - val_accuracy: 0.9833\n",
      "Epoch 3/100\n",
      "315/315 [==============================] - 1s 2ms/step - loss: 0.0505 - accuracy: 0.9833 - val_loss: 0.0491 - val_accuracy: 0.9833\n",
      "Epoch 4/100\n",
      "315/315 [==============================] - 1s 2ms/step - loss: 0.0450 - accuracy: 0.9833 - val_loss: 0.0447 - val_accuracy: 0.9833\n",
      "Epoch 5/100\n",
      "315/315 [==============================] - 1s 2ms/step - loss: 0.0416 - accuracy: 0.9833 - val_loss: 0.0423 - val_accuracy: 0.9833\n",
      "Epoch 6/100\n",
      "315/315 [==============================] - 1s 3ms/step - loss: 0.0398 - accuracy: 0.9833 - val_loss: 0.0402 - val_accuracy: 0.9833\n",
      "Epoch 7/100\n",
      "315/315 [==============================] - 1s 3ms/step - loss: 0.0386 - accuracy: 0.9833 - val_loss: 0.0393 - val_accuracy: 0.9833\n",
      "Epoch 8/100\n",
      "315/315 [==============================] - 1s 3ms/step - loss: 0.0377 - accuracy: 0.9833 - val_loss: 0.0385 - val_accuracy: 0.9833\n",
      "Epoch 9/100\n",
      "315/315 [==============================] - 1s 2ms/step - loss: 0.0370 - accuracy: 0.9833 - val_loss: 0.0376 - val_accuracy: 0.9833\n",
      "Epoch 10/100\n",
      "315/315 [==============================] - 1s 2ms/step - loss: 0.0365 - accuracy: 0.9833 - val_loss: 0.0377 - val_accuracy: 0.9833\n",
      "Epoch 11/100\n",
      "315/315 [==============================] - 1s 2ms/step - loss: 0.0362 - accuracy: 0.9833 - val_loss: 0.0368 - val_accuracy: 0.9833\n",
      "Epoch 12/100\n",
      "315/315 [==============================] - 1s 2ms/step - loss: 0.0355 - accuracy: 0.9833 - val_loss: 0.0366 - val_accuracy: 0.9833\n",
      "Epoch 13/100\n",
      "315/315 [==============================] - 1s 2ms/step - loss: 0.0352 - accuracy: 0.9833 - val_loss: 0.0365 - val_accuracy: 0.9833\n",
      "Epoch 14/100\n",
      "315/315 [==============================] - 1s 2ms/step - loss: 0.0349 - accuracy: 0.9833 - val_loss: 0.0362 - val_accuracy: 0.9833\n",
      "Epoch 15/100\n",
      "315/315 [==============================] - 1s 2ms/step - loss: 0.0342 - accuracy: 0.9833 - val_loss: 0.0358 - val_accuracy: 0.9833\n",
      "Epoch 16/100\n",
      "315/315 [==============================] - 1s 2ms/step - loss: 0.0342 - accuracy: 0.9849 - val_loss: 0.0361 - val_accuracy: 0.9891\n",
      "Epoch 17/100\n",
      "315/315 [==============================] - 1s 2ms/step - loss: 0.0337 - accuracy: 0.9902 - val_loss: 0.0356 - val_accuracy: 0.9890\n",
      "Epoch 18/100\n",
      "315/315 [==============================] - 1s 2ms/step - loss: 0.0331 - accuracy: 0.9903 - val_loss: 0.0360 - val_accuracy: 0.9890\n",
      "Epoch 19/100\n",
      "315/315 [==============================] - 1s 2ms/step - loss: 0.0329 - accuracy: 0.9904 - val_loss: 0.0358 - val_accuracy: 0.9890\n",
      "Epoch 20/100\n",
      "315/315 [==============================] - 1s 2ms/step - loss: 0.0330 - accuracy: 0.9903 - val_loss: 0.0355 - val_accuracy: 0.9896\n",
      "Epoch 21/100\n",
      "315/315 [==============================] - 1s 2ms/step - loss: 0.0322 - accuracy: 0.9910 - val_loss: 0.0357 - val_accuracy: 0.9896\n",
      "Epoch 22/100\n",
      "315/315 [==============================] - 1s 2ms/step - loss: 0.0318 - accuracy: 0.9913 - val_loss: 0.0357 - val_accuracy: 0.9894\n",
      "Epoch 23/100\n",
      "315/315 [==============================] - 1s 2ms/step - loss: 0.0316 - accuracy: 0.9912 - val_loss: 0.0359 - val_accuracy: 0.9893\n",
      "Epoch 24/100\n",
      "315/315 [==============================] - 1s 2ms/step - loss: 0.0313 - accuracy: 0.9916 - val_loss: 0.0345 - val_accuracy: 0.9889\n",
      "Epoch 25/100\n",
      "315/315 [==============================] - 1s 2ms/step - loss: 0.0310 - accuracy: 0.9912 - val_loss: 0.0349 - val_accuracy: 0.9893\n",
      "Epoch 26/100\n",
      "315/315 [==============================] - 1s 2ms/step - loss: 0.0307 - accuracy: 0.9918 - val_loss: 0.0348 - val_accuracy: 0.9890\n",
      "Epoch 27/100\n",
      "315/315 [==============================] - 1s 2ms/step - loss: 0.0304 - accuracy: 0.9915 - val_loss: 0.0356 - val_accuracy: 0.9898\n",
      "Epoch 28/100\n",
      "315/315 [==============================] - 1s 2ms/step - loss: 0.0300 - accuracy: 0.9920 - val_loss: 0.0351 - val_accuracy: 0.9887\n",
      "Epoch 29/100\n",
      "315/315 [==============================] - 1s 2ms/step - loss: 0.0305 - accuracy: 0.9916 - val_loss: 0.0350 - val_accuracy: 0.9897\n",
      "Epoch 30/100\n",
      "315/315 [==============================] - 1s 2ms/step - loss: 0.0297 - accuracy: 0.9921 - val_loss: 0.0349 - val_accuracy: 0.9892\n",
      "Epoch 31/100\n",
      "315/315 [==============================] - 1s 3ms/step - loss: 0.0292 - accuracy: 0.9921 - val_loss: 0.0345 - val_accuracy: 0.9887\n",
      "Epoch 32/100\n",
      "315/315 [==============================] - 1s 3ms/step - loss: 0.0295 - accuracy: 0.9921 - val_loss: 0.0346 - val_accuracy: 0.9888\n",
      "Epoch 33/100\n",
      "315/315 [==============================] - 1s 3ms/step - loss: 0.0288 - accuracy: 0.9923 - val_loss: 0.0352 - val_accuracy: 0.9872\n",
      "Epoch 34/100\n",
      "315/315 [==============================] - 1s 2ms/step - loss: 0.0288 - accuracy: 0.9923 - val_loss: 0.0349 - val_accuracy: 0.9895\n",
      "Epoch 35/100\n",
      "315/315 [==============================] - 1s 2ms/step - loss: 0.0284 - accuracy: 0.9924 - val_loss: 0.0354 - val_accuracy: 0.9895\n",
      "Epoch 36/100\n",
      "315/315 [==============================] - 1s 3ms/step - loss: 0.0280 - accuracy: 0.9928 - val_loss: 0.0345 - val_accuracy: 0.9884\n",
      "Epoch 37/100\n",
      "315/315 [==============================] - 1s 3ms/step - loss: 0.0277 - accuracy: 0.9928 - val_loss: 0.0348 - val_accuracy: 0.9883\n",
      "Epoch 38/100\n",
      "315/315 [==============================] - 1s 4ms/step - loss: 0.0277 - accuracy: 0.9926 - val_loss: 0.0351 - val_accuracy: 0.9885\n",
      "Epoch 39/100\n",
      "315/315 [==============================] - 1s 2ms/step - loss: 0.0275 - accuracy: 0.9926 - val_loss: 0.0355 - val_accuracy: 0.9894\n",
      "Epoch 40/100\n",
      "315/315 [==============================] - 1s 3ms/step - loss: 0.0270 - accuracy: 0.9929 - val_loss: 0.0382 - val_accuracy: 0.9898\n",
      "Epoch 41/100\n",
      "315/315 [==============================] - 1s 2ms/step - loss: 0.0273 - accuracy: 0.9929 - val_loss: 0.0353 - val_accuracy: 0.9895\n",
      "Epoch 42/100\n",
      "315/315 [==============================] - 1s 3ms/step - loss: 0.0267 - accuracy: 0.9929 - val_loss: 0.0390 - val_accuracy: 0.9899\n",
      "Epoch 43/100\n",
      "315/315 [==============================] - 1s 3ms/step - loss: 0.0266 - accuracy: 0.9930 - val_loss: 0.0349 - val_accuracy: 0.9885\n",
      "Epoch 44/100\n",
      "315/315 [==============================] - 1s 3ms/step - loss: 0.0262 - accuracy: 0.9933 - val_loss: 0.0355 - val_accuracy: 0.9893\n",
      "Epoch 45/100\n",
      "315/315 [==============================] - 1s 3ms/step - loss: 0.0267 - accuracy: 0.9928 - val_loss: 0.0358 - val_accuracy: 0.9893\n",
      "Epoch 46/100\n",
      "315/315 [==============================] - 1s 3ms/step - loss: 0.0260 - accuracy: 0.9932 - val_loss: 0.0372 - val_accuracy: 0.9897\n",
      "Epoch 47/100\n",
      "315/315 [==============================] - 1s 2ms/step - loss: 0.0257 - accuracy: 0.9933 - val_loss: 0.0363 - val_accuracy: 0.9896\n",
      "Epoch 48/100\n",
      "315/315 [==============================] - 1s 2ms/step - loss: 0.0255 - accuracy: 0.9931 - val_loss: 0.0357 - val_accuracy: 0.9892\n",
      "Epoch 49/100\n",
      "315/315 [==============================] - 1s 2ms/step - loss: 0.0253 - accuracy: 0.9935 - val_loss: 0.0364 - val_accuracy: 0.9898\n",
      "Epoch 50/100\n",
      "315/315 [==============================] - 1s 4ms/step - loss: 0.0255 - accuracy: 0.9933 - val_loss: 0.0359 - val_accuracy: 0.9896\n",
      "Epoch 51/100\n",
      "315/315 [==============================] - 1s 2ms/step - loss: 0.0247 - accuracy: 0.9935 - val_loss: 0.0372 - val_accuracy: 0.9902\n",
      "Epoch 52/100\n",
      "315/315 [==============================] - 1s 2ms/step - loss: 0.0245 - accuracy: 0.9937 - val_loss: 0.0357 - val_accuracy: 0.9889\n",
      "Epoch 53/100\n",
      "315/315 [==============================] - 1s 3ms/step - loss: 0.0241 - accuracy: 0.9937 - val_loss: 0.0369 - val_accuracy: 0.9875\n",
      "Epoch 54/100\n",
      "315/315 [==============================] - 1s 3ms/step - loss: 0.0242 - accuracy: 0.9937 - val_loss: 0.0370 - val_accuracy: 0.9887\n",
      "Epoch 55/100\n",
      "315/315 [==============================] - 1s 2ms/step - loss: 0.0238 - accuracy: 0.9939 - val_loss: 0.0374 - val_accuracy: 0.9886\n",
      "Epoch 56/100\n",
      "315/315 [==============================] - 1s 2ms/step - loss: 0.0239 - accuracy: 0.9940 - val_loss: 0.0372 - val_accuracy: 0.9882\n",
      "Epoch 57/100\n",
      "315/315 [==============================] - 1s 2ms/step - loss: 0.0235 - accuracy: 0.9940 - val_loss: 0.0379 - val_accuracy: 0.9893\n",
      "Epoch 58/100\n",
      "315/315 [==============================] - 1s 2ms/step - loss: 0.0232 - accuracy: 0.9943 - val_loss: 0.0374 - val_accuracy: 0.9892\n",
      "Epoch 59/100\n",
      "315/315 [==============================] - 1s 2ms/step - loss: 0.0237 - accuracy: 0.9938 - val_loss: 0.0393 - val_accuracy: 0.9900\n",
      "Epoch 60/100\n",
      "315/315 [==============================] - 1s 2ms/step - loss: 0.0230 - accuracy: 0.9941 - val_loss: 0.0375 - val_accuracy: 0.9894\n",
      "Epoch 61/100\n",
      "315/315 [==============================] - 1s 2ms/step - loss: 0.0227 - accuracy: 0.9943 - val_loss: 0.0379 - val_accuracy: 0.9894\n",
      "Epoch 62/100\n",
      "315/315 [==============================] - 138s 440ms/step - loss: 0.0230 - accuracy: 0.9943 - val_loss: 0.0364 - val_accuracy: 0.9877\n",
      "Epoch 63/100\n",
      "315/315 [==============================] - 1s 2ms/step - loss: 0.0225 - accuracy: 0.9943 - val_loss: 0.0374 - val_accuracy: 0.9892\n",
      "Epoch 64/100\n",
      "315/315 [==============================] - 1s 3ms/step - loss: 0.0225 - accuracy: 0.9943 - val_loss: 0.0384 - val_accuracy: 0.9894\n",
      "Epoch 65/100\n",
      "315/315 [==============================] - 1s 2ms/step - loss: 0.0219 - accuracy: 0.9945 - val_loss: 0.0376 - val_accuracy: 0.9881\n",
      "Epoch 66/100\n",
      "315/315 [==============================] - 1s 2ms/step - loss: 0.0218 - accuracy: 0.9946 - val_loss: 0.0410 - val_accuracy: 0.9898\n",
      "Epoch 67/100\n",
      "315/315 [==============================] - 1s 2ms/step - loss: 0.0215 - accuracy: 0.9947 - val_loss: 0.0386 - val_accuracy: 0.9892\n",
      "Epoch 68/100\n",
      "315/315 [==============================] - 1s 2ms/step - loss: 0.0219 - accuracy: 0.9942 - val_loss: 0.0413 - val_accuracy: 0.9898\n",
      "Epoch 69/100\n",
      "315/315 [==============================] - 1s 2ms/step - loss: 0.0216 - accuracy: 0.9949 - val_loss: 0.0377 - val_accuracy: 0.9889\n",
      "Epoch 70/100\n",
      "315/315 [==============================] - 1s 2ms/step - loss: 0.0212 - accuracy: 0.9948 - val_loss: 0.0423 - val_accuracy: 0.9900\n",
      "Epoch 71/100\n",
      "315/315 [==============================] - 1s 2ms/step - loss: 0.0210 - accuracy: 0.9949 - val_loss: 0.0406 - val_accuracy: 0.9897\n",
      "Epoch 72/100\n",
      "315/315 [==============================] - 1s 2ms/step - loss: 0.0211 - accuracy: 0.9950 - val_loss: 0.0400 - val_accuracy: 0.9899\n",
      "Epoch 73/100\n",
      "315/315 [==============================] - 1s 2ms/step - loss: 0.0205 - accuracy: 0.9950 - val_loss: 0.0394 - val_accuracy: 0.9894\n",
      "Epoch 74/100\n",
      "315/315 [==============================] - 1s 2ms/step - loss: 0.0200 - accuracy: 0.9952 - val_loss: 0.0421 - val_accuracy: 0.9892\n",
      "Epoch 75/100\n",
      "315/315 [==============================] - 1s 2ms/step - loss: 0.0205 - accuracy: 0.9949 - val_loss: 0.0435 - val_accuracy: 0.9896\n",
      "Epoch 76/100\n",
      "315/315 [==============================] - 1s 2ms/step - loss: 0.0201 - accuracy: 0.9952 - val_loss: 0.0438 - val_accuracy: 0.9899\n",
      "Epoch 77/100\n",
      "315/315 [==============================] - 1s 2ms/step - loss: 0.0202 - accuracy: 0.9948 - val_loss: 0.0410 - val_accuracy: 0.9881\n",
      "Epoch 78/100\n",
      "315/315 [==============================] - 1s 2ms/step - loss: 0.0215 - accuracy: 0.9946 - val_loss: 0.0420 - val_accuracy: 0.9889\n",
      "Epoch 79/100\n",
      "315/315 [==============================] - 1s 2ms/step - loss: 0.0197 - accuracy: 0.9951 - val_loss: 0.0402 - val_accuracy: 0.9886\n",
      "Epoch 80/100\n",
      "315/315 [==============================] - 1s 2ms/step - loss: 0.0197 - accuracy: 0.9951 - val_loss: 0.0388 - val_accuracy: 0.9873\n",
      "Epoch 81/100\n",
      "315/315 [==============================] - 6s 18ms/step - loss: 0.0194 - accuracy: 0.9955 - val_loss: 0.0394 - val_accuracy: 0.9863\n",
      "Epoch 82/100\n",
      "315/315 [==============================] - 1s 2ms/step - loss: 0.0196 - accuracy: 0.9954 - val_loss: 0.0449 - val_accuracy: 0.9898\n",
      "Epoch 83/100\n",
      "315/315 [==============================] - 1s 2ms/step - loss: 0.0192 - accuracy: 0.9954 - val_loss: 0.0463 - val_accuracy: 0.9904\n",
      "Epoch 84/100\n",
      "315/315 [==============================] - 1s 2ms/step - loss: 0.0187 - accuracy: 0.9957 - val_loss: 0.0417 - val_accuracy: 0.9878\n",
      "Epoch 85/100\n",
      "315/315 [==============================] - 1s 2ms/step - loss: 0.0185 - accuracy: 0.9958 - val_loss: 0.0422 - val_accuracy: 0.9886\n",
      "Epoch 86/100\n",
      "315/315 [==============================] - 1s 2ms/step - loss: 0.0186 - accuracy: 0.9956 - val_loss: 0.0426 - val_accuracy: 0.9881\n",
      "Epoch 87/100\n",
      "315/315 [==============================] - 1s 2ms/step - loss: 0.0188 - accuracy: 0.9955 - val_loss: 0.0462 - val_accuracy: 0.9895\n",
      "Epoch 88/100\n",
      "315/315 [==============================] - 1s 2ms/step - loss: 0.0191 - accuracy: 0.9953 - val_loss: 0.0442 - val_accuracy: 0.9893\n",
      "Epoch 89/100\n",
      "315/315 [==============================] - 1s 2ms/step - loss: 0.0184 - accuracy: 0.9955 - val_loss: 0.0444 - val_accuracy: 0.9884\n",
      "Epoch 90/100\n",
      "315/315 [==============================] - 1s 2ms/step - loss: 0.0191 - accuracy: 0.9953 - val_loss: 0.0455 - val_accuracy: 0.9889\n",
      "Epoch 91/100\n",
      "315/315 [==============================] - 1s 2ms/step - loss: 0.0194 - accuracy: 0.9950 - val_loss: 0.0472 - val_accuracy: 0.9898\n",
      "Epoch 92/100\n",
      "315/315 [==============================] - 1s 2ms/step - loss: 0.0179 - accuracy: 0.9959 - val_loss: 0.0436 - val_accuracy: 0.9889\n",
      "Epoch 93/100\n",
      "315/315 [==============================] - 1s 2ms/step - loss: 0.0181 - accuracy: 0.9956 - val_loss: 0.0445 - val_accuracy: 0.9885\n",
      "Epoch 94/100\n",
      "315/315 [==============================] - 1s 2ms/step - loss: 0.0173 - accuracy: 0.9960 - val_loss: 0.0489 - val_accuracy: 0.9895\n",
      "Epoch 95/100\n",
      "315/315 [==============================] - 1s 2ms/step - loss: 0.0184 - accuracy: 0.9953 - val_loss: 0.0454 - val_accuracy: 0.9885\n",
      "Epoch 96/100\n",
      "315/315 [==============================] - 1s 2ms/step - loss: 0.0173 - accuracy: 0.9960 - val_loss: 0.0482 - val_accuracy: 0.9895\n",
      "Epoch 97/100\n",
      "315/315 [==============================] - 1s 2ms/step - loss: 0.0182 - accuracy: 0.9955 - val_loss: 0.0469 - val_accuracy: 0.9887\n",
      "Epoch 98/100\n",
      "315/315 [==============================] - 1s 2ms/step - loss: 0.0168 - accuracy: 0.9963 - val_loss: 0.0482 - val_accuracy: 0.9895\n",
      "Epoch 99/100\n",
      "315/315 [==============================] - 1s 2ms/step - loss: 0.0169 - accuracy: 0.9960 - val_loss: 0.0524 - val_accuracy: 0.9894\n",
      "Epoch 100/100\n",
      "315/315 [==============================] - 50s 161ms/step - loss: 0.0171 - accuracy: 0.9958 - val_loss: 0.0511 - val_accuracy: 0.9893\n"
     ]
    },
    {
     "data": {
      "text/plain": [
       "<keras.src.callbacks.History at 0x2876687d0>"
      ]
     },
     "execution_count": 103,
     "metadata": {},
     "output_type": "execute_result"
    }
   ],
   "source": [
    "preditctor.fit(encoder.predict(X_train), y_train, epochs=100, batch_size=128, validation_data=(encoder.predict(X_test), y_test))"
   ]
  },
  {
   "cell_type": "code",
   "execution_count": 104,
   "metadata": {},
   "outputs": [
    {
     "name": "stdout",
     "output_type": "stream",
     "text": [
      "619/619 [==============================] - 0s 432us/step\n",
      "619/619 [==============================] - 0s 503us/step\n",
      "              precision    recall  f1-score   support\n",
      "\n",
      "           0       1.00      0.99      0.99     19470\n",
      "           1       0.66      0.73      0.69       330\n",
      "\n",
      "    accuracy                           0.99     19800\n",
      "   macro avg       0.83      0.86      0.84     19800\n",
      "weighted avg       0.99      0.99      0.99     19800\n",
      "\n",
      "[[19347   123]\n",
      " [   89   241]]\n"
     ]
    }
   ],
   "source": [
    "y_pred = preditctor.predict(encoder.predict(X_test))\n",
    "y_pred = np.round(y_pred)\n",
    "\n",
    "print(classification_report(y_test, y_pred))\n",
    "\n",
    "print(confusion_matrix(y_test, y_pred))\n"
   ]
  },
  {
   "cell_type": "markdown",
   "metadata": {},
   "source": [
    "This is not so good either. Reducing the dimensionality of the data is not helping."
   ]
  },
  {
   "cell_type": "code",
   "execution_count": 9,
   "metadata": {},
   "outputs": [],
   "source": [
    "#add ln and exp of numerical columns and look at the correlation\n",
    "log_df = train_df[numerical_columns].replace('na', 0).astype(float).apply(np.log)\n",
    "log_df = log_df.replace(-np.inf, 0)\n",
    "log_df = log_df.replace(np.inf, 0)\n",
    "log_df = log_df.replace(np.nan, 0)\n",
    "\n",
    "exp_df = train_df[numerical_columns].replace('na', 0).astype(float).apply(np.exp)\n",
    "exp_df = exp_df.replace(-np.inf, 0)\n",
    "exp_df = exp_df.replace(np.inf, 0)\n",
    "exp_df = exp_df.replace(np.nan, 0)\n",
    "\n",
    "#create a new pandas df with the log and exp columns and name them accordingly\n",
    "log_df.columns = log_df.columns.map(lambda x: 'log_' + x)\n",
    "exp_df.columns = exp_df.columns.map(lambda x: 'exp_' + x)\n",
    "\n",
    "#concatenate the log and exp columns with the original df\n",
    "train_df = pd.concat([train_df, log_df, exp_df], axis=1)"
   ]
  },
  {
   "cell_type": "code",
   "execution_count": 29,
   "metadata": {},
   "outputs": [],
   "source": [
    "#corr matrix\n",
    "\n",
    "train_df_for_corr = train_df.copy()\n",
    "\n",
    "#look at the correlation between the columns against the targe\n",
    "train_df_for_corr[\"label\"] = labels.apply(lambda x: 1 if x == 'pos' else 0)\n",
    "train_df_for_corr = train_df_for_corr.replace('na', 0).astype(float).corr()\n",
    "\n",
    "#plot the correlation matrix against label\n",
    "import seaborn as sns\n",
    "import matplotlib.pyplot as plt\n"
   ]
  },
  {
   "cell_type": "code",
   "execution_count": 30,
   "metadata": {},
   "outputs": [
    {
     "data": {
      "image/png": "[encoded data removed]",
      "text/plain": [
       "<Figure size 640x480 with 1 Axes>"
      ]
     },
     "metadata": {},
     "output_type": "display_data"
    }
   ],
   "source": [
    "train_df_for_corr[\"label\"].abs()[numerical_columns].sort_values(ascending=False).plot(kind='bar')\n",
    "relevant_col_bools = train_df_for_corr[\"label\"].abs()[numerical_columns].sort_values(ascending=False) > 0.3\n"
   ]
  },
  {
   "cell_type": "code",
   "execution_count": 31,
   "metadata": {},
   "outputs": [
    {
     "data": {
      "text/plain": [
       "ci_000    0.550049\n",
       "bt_000    0.533964\n",
       "bb_000    0.529501\n",
       "bv_000    0.528056\n",
       "bu_000    0.528056\n",
       "            ...   \n",
       "dm_000    0.002839\n",
       "dj_000    0.001098\n",
       "ad_000    0.000530\n",
       "cf_000    0.000530\n",
       "co_000    0.000527\n",
       "Name: label, Length: 99, dtype: float64"
      ]
     },
     "execution_count": 31,
     "metadata": {},
     "output_type": "execute_result"
    }
   ],
   "source": [
    "train_df_for_corr[\"label\"].abs()[numerical_columns].sort_values(ascending=False)"
   ]
  },
  {
   "cell_type": "code",
   "execution_count": 32,
   "metadata": {},
   "outputs": [
    {
     "data": {
      "text/plain": [
       "<Axes: >"
      ]
     },
     "execution_count": 32,
     "metadata": {},
     "output_type": "execute_result"
    },
    {
     "data": {
      "image/png": "[encoded data removed]",
      "text/plain": [
       "<Figure size 640x480 with 1 Axes>"
      ]
     },
     "metadata": {},
     "output_type": "display_data"
    }
   ],
   "source": [
    "train_df_for_corr['label'].filter(regex='^exp_').abs().sort_values(ascending=False).plot(kind='bar')\n"
   ]
  },
  {
   "cell_type": "code",
   "execution_count": 33,
   "metadata": {},
   "outputs": [
    {
     "data": {
      "text/plain": [
       "<Axes: >"
      ]
     },
     "execution_count": 33,
     "metadata": {},
     "output_type": "execute_result"
    },
    {
     "data": {
      "image/png": "[encoded data removed]",
      "text/plain": [
       "<Figure size 640x480 with 1 Axes>"
      ]
     },
     "metadata": {},
     "output_type": "display_data"
    }
   ],
   "source": [
    "train_df_for_corr['label'].filter(regex='^log_').abs().sort_values(ascending=False).plot(kind='bar')"
   ]
  },
  {
   "cell_type": "code",
   "execution_count": 34,
   "metadata": {},
   "outputs": [],
   "source": [
    "#get the columns that are relevant >.2\n",
    "relevant_col_bools = train_df_for_corr[\"label\"].abs()[numerical_columns].sort_values(ascending=False) > 0.20\n",
    "relevant_numerical_cols = relevant_col_bools[relevant_col_bools].index\n"
   ]
  },
  {
   "cell_type": "code",
   "execution_count": 35,
   "metadata": {},
   "outputs": [],
   "source": [
    "#add two column types together\n",
    "num_cat_cols = pd.Index(categorical_cols).append(pd.Index(relevant_numerical_cols))"
   ]
  },
  {
   "cell_type": "code",
   "execution_count": 173,
   "metadata": {},
   "outputs": [],
   "source": [
    "#create neural network\n",
    "from keras.models import Sequential\n",
    "from keras.layers import Dense, Dropout, Activation\n",
    "\n",
    "def get_model_for_aug_data(input_size= len(num_cat_cols)):\n",
    "\n",
    "    model = Sequential()\n",
    "    model.add(Dense(64, input_dim=input_size, activation='relu'))\n",
    "    model.add(Dropout(0.3))\n",
    "    \n",
    "    model.add(Dense(64, activation='relu', kernel_regularizer=regularizers.l2(1e-5), activity_regularizer=regularizers.l1(1e-5)))\n",
    "    model.add(Dropout(0.3))\n",
    "    model.add(Dense(64, activation='relu', kernel_regularizer=regularizers.l2(1e-5), activity_regularizer=regularizers.l1(1e-5)))\n",
    "    model.add(Dropout(0.3))\n",
    "    model.add(Dense(64, activation='relu', kernel_regularizer=regularizers.l2(1e-5), activity_regularizer=regularizers.l1(1e-5)))\n",
    "    model.add(Dropout(0.3))\n",
    "    model.add(Dense(64, activation='relu', kernel_regularizer=regularizers.l2(1e-5), activity_regularizer=regularizers.l1(1e-5)))\n",
    "    model.add(Dropout(0.3))\n",
    "    model.add(Dense(64, activation='relu', kernel_regularizer=regularizers.l2(1e-5), activity_regularizer=regularizers.l1(1e-5)))\n",
    "    model.add(Dropout(0.3))\n",
    "    model.add(Dense(64, activation='relu', kernel_regularizer=regularizers.l2(1e-5), activity_regularizer=regularizers.l1(1e-5)))\n",
    "    model.add(Dropout(0.3))\n",
    "    model.add(Dense(64, activation='relu', kernel_regularizer=regularizers.l2(1e-5), activity_regularizer=regularizers.l1(1e-5)))\n",
    "    model.add(Dropout(0.3))\n",
    "    model.add(Dense(64, activation='relu', kernel_regularizer=regularizers.l2(1e-5), activity_regularizer=regularizers.l1(1e-5)))\n",
    "    model.add(Dropout(0.3))\n",
    "    model.add(Dense(64, activation='relu', kernel_regularizer=regularizers.l2(1e-5), activity_regularizer=regularizers.l1(1e-5)))\n",
    "    model.add(Dropout(0.3))\n",
    "    model.add(Dense(64, activation='relu', kernel_regularizer=regularizers.l2(1e-5), activity_regularizer=regularizers.l1(1e-5)))\n",
    "    model.add(Dropout(0.3))\n",
    "    model.add(Dense(64, activation='relu', kernel_regularizer=regularizers.l2(1e-5), activity_regularizer=regularizers.l1(1e-5)))\n",
    "    model.add(Dropout(0.3))\n",
    "    model.add(Dense(1, activation='sigmoid'))\n",
    "\n",
    "    adam = Adam(lr=0.0001, beta_1=0.9, beta_2=0.999, epsilon=1e-8)\n",
    "    model.compile(loss='binary_crossentropy', optimizer=adam, metrics=['accuracy'])\n",
    "    return model\n",
    "\n",
    "\n"
   ]
  },
  {
   "cell_type": "code",
   "execution_count": 179,
   "metadata": {},
   "outputs": [
    {
     "name": "stderr",
     "output_type": "stream",
     "text": [
      "/Users/firatkizilboga/Projects/LFD/APS-Failure-Prediction/.venv/lib/python3.11/site-packages/keras/src/optimizers/legacy/adam.py:118: UserWarning: The `lr` argument is deprecated, use `learning_rate` instead.\n",
      "  super().__init__(name, **kwargs)\n"
     ]
    }
   ],
   "source": [
    "aug_model = get_model_for_aug_data()\n",
    "X = train_df[num_cat_cols].replace('na', 0).astype(float).values\n",
    "X_transformed = StandardScaler().fit_transform(X)\n",
    "\n",
    "X_train, X_test, y_train, y_test = train_test_split(X_transformed, Y, test_size=0.33, random_state=42, stratify=Y)\n"
   ]
  },
  {
   "cell_type": "code",
   "execution_count": null,
   "metadata": {},
   "outputs": [],
   "source": [
    "aug_model.fit(X_train, y_train, epochs=100, batch_size=128, validation_data=(X_test, y_test))"
   ]
  },
  {
   "cell_type": "code",
   "execution_count": 171,
   "metadata": {},
   "outputs": [],
   "source": [
    "#copy model for fine tuning\n",
    "from keras.models import clone_model\n",
    "aug_model_2 = clone_model(aug_model)\n",
    "aug_model_2.set_weights(aug_model.get_weights())"
   ]
  },
  {
   "cell_type": "code",
   "execution_count": 172,
   "metadata": {},
   "outputs": [
    {
     "name": "stdout",
     "output_type": "stream",
     "text": [
      "619/619 [==============================] - 0s 449us/step\n",
      "              precision    recall  f1-score   support\n",
      "\n",
      "           0       1.00      0.97      0.98     19470\n",
      "           1       0.33      0.93      0.49       330\n",
      "\n",
      "    accuracy                           0.97     19800\n",
      "   macro avg       0.66      0.95      0.74     19800\n",
      "weighted avg       0.99      0.97      0.97     19800\n",
      "\n",
      "[[18844   626]\n",
      " [   22   308]]\n"
     ]
    }
   ],
   "source": [
    "y_pred = aug_model.predict(X_test)\n",
    "y_pred = np.round(y_pred)\n",
    "\n",
    "print(classification_report(y_test, y_pred))\n",
    "\n",
    "print(confusion_matrix(y_test, y_pred))\n"
   ]
  },
  {
   "cell_type": "markdown",
   "metadata": {},
   "source": [
    "This is better but, not as good as the original NN."
   ]
  },
  {
   "cell_type": "markdown",
   "metadata": {},
   "source": [
    "Fine tune with a custom objective function that represents the kaggle compettion scoring"
   ]
  },
  {
   "cell_type": "code",
   "execution_count": 166,
   "metadata": {},
   "outputs": [
    {
     "name": "stderr",
     "output_type": "stream",
     "text": [
      "/Users/firatkizilboga/Projects/LFD/APS-Failure-Prediction/.venv/lib/python3.11/site-packages/keras/src/optimizers/legacy/adam.py:118: UserWarning: The `lr` argument is deprecated, use `learning_rate` instead.\n",
      "  super().__init__(name, **kwargs)\n"
     ]
    }
   ],
   "source": [
    "#finetune with a diffent objective function\n",
    "\n",
    "\n",
    "import keras.backend as K\n",
    "\n",
    "def weighted_binary_crossentropy(y_true, y_pred):\n",
    "    # Cast y_true to float32\n",
    "    y_true = K.cast(y_true, 'float32')\n",
    "\n",
    "    # Calculate the binary cross entropy\n",
    "    bce = K.binary_crossentropy(y_true, y_pred)\n",
    "\n",
    "    # Define the weights\n",
    "    weight_for_false_negatives = K.constant(500.0)  # Use keras constant for float\n",
    "    weight_for_false_positives = K.constant(10.0)   # Use keras constant for float\n",
    "\n",
    "    # Apply the weights\n",
    "    weight_vector = y_true * weight_for_false_negatives + (1 - y_true) * weight_for_false_positives\n",
    "    weighted_bce = weight_vector * bce\n",
    "\n",
    "    return K.mean(weighted_bce)\n",
    "\n",
    "adam = Adam(lr=0.00001, beta_1=0.9, beta_2=0.999, epsilon=1e-8)\n",
    "\n",
    "aug_model.compile(optimizer='adam', loss=weighted_binary_crossentropy, metrics=['accuracy'])"
   ]
  },
  {
   "cell_type": "code",
   "execution_count": 167,
   "metadata": {},
   "outputs": [
    {
     "name": "stdout",
     "output_type": "stream",
     "text": [
      "Epoch 1/20\n",
      "315/315 [==============================] - 1s 3ms/step - loss: 4.5242 - accuracy: 0.9624 - val_loss: 2.7047 - val_accuracy: 0.9420\n",
      "Epoch 2/20\n",
      "315/315 [==============================] - 1s 2ms/step - loss: 3.2109 - accuracy: 0.9471 - val_loss: 3.1082 - val_accuracy: 0.9543\n",
      "Epoch 3/20\n",
      "315/315 [==============================] - 1s 2ms/step - loss: 2.9003 - accuracy: 0.9556 - val_loss: 3.0364 - val_accuracy: 0.9583\n",
      "Epoch 4/20\n",
      "315/315 [==============================] - 1s 2ms/step - loss: 2.8530 - accuracy: 0.9570 - val_loss: 2.8492 - val_accuracy: 0.9703\n",
      "Epoch 5/20\n",
      "315/315 [==============================] - 1s 2ms/step - loss: 2.9514 - accuracy: 0.9570 - val_loss: 3.0863 - val_accuracy: 0.9686\n",
      "Epoch 6/20\n",
      "315/315 [==============================] - 1s 2ms/step - loss: 2.5472 - accuracy: 0.9584 - val_loss: 3.0928 - val_accuracy: 0.9702\n",
      "Epoch 7/20\n",
      "315/315 [==============================] - 1s 2ms/step - loss: 2.5023 - accuracy: 0.9636 - val_loss: 3.1843 - val_accuracy: 0.9519\n",
      "Epoch 8/20\n",
      "315/315 [==============================] - 1s 2ms/step - loss: 2.3097 - accuracy: 0.9565 - val_loss: 3.4467 - val_accuracy: 0.9729\n",
      "Epoch 9/20\n",
      "315/315 [==============================] - 1s 2ms/step - loss: 2.3817 - accuracy: 0.9616 - val_loss: 3.0046 - val_accuracy: 0.9668\n",
      "Epoch 10/20\n",
      "315/315 [==============================] - 1s 2ms/step - loss: 2.2133 - accuracy: 0.9627 - val_loss: 3.2053 - val_accuracy: 0.9744\n",
      "Epoch 11/20\n",
      "315/315 [==============================] - 1s 2ms/step - loss: 2.1505 - accuracy: 0.9617 - val_loss: 2.9370 - val_accuracy: 0.9683\n",
      "Epoch 12/20\n",
      "315/315 [==============================] - 1s 2ms/step - loss: 2.2240 - accuracy: 0.9637 - val_loss: 3.3130 - val_accuracy: 0.9652\n",
      "Epoch 13/20\n",
      "315/315 [==============================] - 1s 2ms/step - loss: 2.2202 - accuracy: 0.9647 - val_loss: 3.3560 - val_accuracy: 0.9736\n",
      "Epoch 14/20\n",
      "315/315 [==============================] - 1s 2ms/step - loss: 2.2215 - accuracy: 0.9561 - val_loss: 3.4584 - val_accuracy: 0.9709\n",
      "Epoch 15/20\n",
      "315/315 [==============================] - 1s 2ms/step - loss: 2.1783 - accuracy: 0.9610 - val_loss: 3.6591 - val_accuracy: 0.9745\n",
      "Epoch 16/20\n",
      "315/315 [==============================] - 1s 2ms/step - loss: 2.3518 - accuracy: 0.9606 - val_loss: 2.8514 - val_accuracy: 0.9718\n",
      "Epoch 17/20\n",
      "315/315 [==============================] - 1s 2ms/step - loss: 2.0633 - accuracy: 0.9641 - val_loss: 3.4324 - val_accuracy: 0.9705\n",
      "Epoch 18/20\n",
      "315/315 [==============================] - 1s 2ms/step - loss: 2.1675 - accuracy: 0.9629 - val_loss: 2.9394 - val_accuracy: 0.9682\n",
      "Epoch 19/20\n",
      "315/315 [==============================] - 1s 2ms/step - loss: 2.1185 - accuracy: 0.9638 - val_loss: 3.5722 - val_accuracy: 0.9761\n",
      "Epoch 20/20\n",
      "315/315 [==============================] - 1s 2ms/step - loss: 2.0595 - accuracy: 0.9640 - val_loss: 3.3281 - val_accuracy: 0.9673\n"
     ]
    },
    {
     "data": {
      "text/plain": [
       "<keras.src.callbacks.History at 0x336444190>"
      ]
     },
     "execution_count": 167,
     "metadata": {},
     "output_type": "execute_result"
    }
   ],
   "source": [
    "aug_model.fit(X_train, y_train, epochs=20, batch_size=128, validation_data=(X_test, y_test))"
   ]
  },
  {
   "cell_type": "code",
   "execution_count": 168,
   "metadata": {},
   "outputs": [
    {
     "name": "stdout",
     "output_type": "stream",
     "text": [
      "619/619 [==============================] - 0s 342us/step\n",
      "              precision    recall  f1-score   support\n",
      "\n",
      "           0       1.00      0.97      0.98     19470\n",
      "           1       0.33      0.93      0.49       330\n",
      "\n",
      "    accuracy                           0.97     19800\n",
      "   macro avg       0.66      0.95      0.74     19800\n",
      "weighted avg       0.99      0.97      0.97     19800\n",
      "\n",
      "[[18844   626]\n",
      " [   22   308]]\n"
     ]
    }
   ],
   "source": [
    "y_pred = aug_model.predict(X_test)\n",
    "\n",
    "y_pred = np.round(y_pred)\n",
    "\n",
    "print(classification_report(y_test, y_pred))\n",
    "\n",
    "print(confusion_matrix(y_test, y_pred))"
   ]
  },
  {
   "cell_type": "code",
   "execution_count": 11,
   "metadata": {},
   "outputs": [],
   "source": [
    "test_df = pd.read_csv('data/aps_failure_test_set.csv')"
   ]
  },
  {
   "cell_type": "code",
   "execution_count": 12,
   "metadata": {},
   "outputs": [],
   "source": [
    "#use test set to predict\n",
    "log_df = test_df[numerical_columns].replace('na', 0).astype(float).apply(np.log)\n",
    "log_df = log_df.replace(-np.inf, 0)\n",
    "log_df = log_df.replace(np.inf, 0)\n",
    "log_df = log_df.replace(np.nan, 0)\n",
    "\n",
    "exp_df = test_df[numerical_columns].replace('na', 0).astype(float).apply(np.exp)\n",
    "exp_df = exp_df.replace(-np.inf, 0)\n",
    "exp_df = exp_df.replace(np.inf, 0)\n",
    "exp_df = exp_df.replace(np.nan, 0)\n",
    "\n",
    "#create a new pandas df with the log and exp columns and name them accordingly\n",
    "log_df.columns = log_df.columns.map(lambda x: 'log_' + x)\n",
    "exp_df.columns = exp_df.columns.map(lambda x: 'exp_' + x)\n",
    "\n",
    "#concatenate the log and exp columns with the original df\n",
    "test_df = pd.concat([test_df, log_df, exp_df], axis=1)"
   ]
  },
  {
   "cell_type": "code",
   "execution_count": 170,
   "metadata": {},
   "outputs": [
    {
     "name": "stdout",
     "output_type": "stream",
     "text": [
      "500/500 [==============================] - 0s 348us/step\n"
     ]
    }
   ],
   "source": [
    "\n",
    "\n",
    "X = test_df[num_cat_cols].replace('na', 0).astype(float).values\n",
    "\n",
    "\n",
    "X_transformed = StandardScaler().fit_transform(X)\n",
    "y_pred_ = aug_model.predict(X_transformed)\n",
    "\n",
    "output = pd.DataFrame({'id': np.arange(1,len(y_pred_.reshape(-1))+1),\"class\": labelize(y_pred_.reshape(-1))})\n",
    "output.to_csv('categorical+relevant numerical values standardized neural network with custom obj func finetuned 20 epochs', index=False)\n"
   ]
  },
  {
   "cell_type": "markdown",
   "metadata": {},
   "source": [
    "Not a good result either."
   ]
  },
  {
   "cell_type": "code",
   "execution_count": 189,
   "metadata": {},
   "outputs": [
    {
     "name": "stdout",
     "output_type": "stream",
     "text": [
      "              precision    recall  f1-score   support\n",
      "\n",
      "           0       1.00      0.99      1.00     19470\n",
      "           1       0.73      0.86      0.79       330\n",
      "\n",
      "    accuracy                           0.99     19800\n",
      "   macro avg       0.86      0.93      0.89     19800\n",
      "weighted avg       0.99      0.99      0.99     19800\n",
      "\n",
      "[[19364   106]\n",
      " [   45   285]]\n"
     ]
    }
   ],
   "source": [
    "#lets do xgboost with the augmented data\n",
    "import xgboost as xgb\n",
    "\n",
    "clf = xgb.XGBClassifier(\n",
    "    n_estimators=1000,\n",
    "    max_depth=9,\n",
    "    learning_rate=0.1,\n",
    "    subsample=0.5,\n",
    "    colsample_bytree=0.5,\n",
    "    random_state=42,\n",
    "    scale_pos_weight=1000,\n",
    ")\n",
    "\n",
    "clf.fit(X_train, y_train)\n",
    "y_pred = clf.predict(X_test)\n",
    "\n",
    "print(classification_report(y_test, y_pred))\n",
    "\n",
    "print(confusion_matrix(y_test, y_pred))"
   ]
  },
  {
   "cell_type": "markdown",
   "metadata": {},
   "source": [
    "This is better than the other xgboost models"
   ]
  },
  {
   "cell_type": "code",
   "execution_count": 27,
   "metadata": {},
   "outputs": [],
   "source": [
    "#define custom scoring for CV\n",
    "from sklearn.metrics import make_scorer\n",
    "def custom_cost_score(y_true, y_pred):\n",
    "    # Define your costs\n",
    "    Cost_1 = 10  # Cost for false positives\n",
    "    Cost_2 = 500  # Cost for false negatives\n",
    "\n",
    "    # Calculate confusion matrix\n",
    "    tn, fp, fn, tp = confusion_matrix(y_true, y_pred).ravel()\n",
    "\n",
    "    # Calculate the total cost\n",
    "    total_cost = (Cost_1 * fp + Cost_2 * fn)\n",
    "    return total_cost\n",
    "\n",
    "# Create a scorer object\n",
    "custom_scorer = make_scorer(custom_cost_score, greater_is_better=False)\n"
   ]
  },
  {
   "cell_type": "code",
   "execution_count": 229,
   "metadata": {},
   "outputs": [
    {
     "name": "stdout",
     "output_type": "stream",
     "text": [
      "Fitting 3 folds for each of 40 candidates, totalling 120 fits\n",
      "[CV 1/3] END colsample_bytree=0.5, learning_rate=0.01, max_depth=3, scale_pos_weight=5, subsample=0.5;, score=18002.000 total time=   0.8s\n",
      "[CV 3/3] END colsample_bytree=0.5, learning_rate=0.01, max_depth=3, scale_pos_weight=5, subsample=0.5;, score=17996.000 total time=   0.8s\n",
      "[CV 1/3] END colsample_bytree=0.5, learning_rate=0.01, max_depth=3, scale_pos_weight=5, subsample=1.0;, score=18002.000 total time=   0.7s\n",
      "[CV 2/3] END colsample_bytree=0.5, learning_rate=0.01, max_depth=3, scale_pos_weight=5, subsample=1.0;, score=18002.000 total time=   0.7s\n",
      "[CV 2/3] END colsample_bytree=0.5, learning_rate=0.01, max_depth=3, scale_pos_weight=5, subsample=0.5;, score=18002.000 total time=   0.8s\n",
      "[CV 1/3] END colsample_bytree=0.5, learning_rate=0.01, max_depth=3, scale_pos_weight=50, subsample=0.5;, score=18002.000 total time=   0.7s\n",
      "[CV 2/3] END colsample_bytree=0.5, learning_rate=0.01, max_depth=3, scale_pos_weight=50, subsample=0.5;, score=18002.000 total time=   0.8s\n",
      "[CV 3/3] END colsample_bytree=0.5, learning_rate=0.01, max_depth=3, scale_pos_weight=5, subsample=1.0;, score=17996.000 total time=   0.9s\n",
      "[CV 3/3] END colsample_bytree=0.5, learning_rate=0.01, max_depth=3, scale_pos_weight=50, subsample=0.5;, score=17996.000 total time=   0.9s\n",
      "[CV 2/3] END colsample_bytree=0.5, learning_rate=0.01, max_depth=3, scale_pos_weight=50, subsample=1.0;, score=18002.000 total time=   1.0s\n",
      "[CV 1/3] END colsample_bytree=0.5, learning_rate=0.01, max_depth=3, scale_pos_weight=50, subsample=1.0;, score=18002.000 total time=   1.0s\n",
      "[CV 3/3] END colsample_bytree=0.5, learning_rate=0.01, max_depth=3, scale_pos_weight=50, subsample=1.0;, score=17996.000 total time=   1.0s\n",
      "[CV 1/3] END colsample_bytree=0.5, learning_rate=0.01, max_depth=3, scale_pos_weight=100, subsample=0.5;, score=18002.000 total time=   1.0s\n",
      "[CV 2/3] END colsample_bytree=0.5, learning_rate=0.01, max_depth=3, scale_pos_weight=100, subsample=0.5;, score=18002.000 total time=   1.0s\n",
      "[CV 3/3] END colsample_bytree=0.5, learning_rate=0.01, max_depth=3, scale_pos_weight=100, subsample=0.5;, score=17996.000 total time=   1.0s\n",
      "[CV 1/3] END colsample_bytree=0.5, learning_rate=0.01, max_depth=3, scale_pos_weight=100, subsample=1.0;, score=18002.000 total time=   0.8s\n",
      "[CV 1/3] END colsample_bytree=0.5, learning_rate=0.01, max_depth=3, scale_pos_weight=500, subsample=0.5;, score=18002.000 total time=   0.7s\n",
      "[CV 2/3] END colsample_bytree=0.5, learning_rate=0.01, max_depth=3, scale_pos_weight=500, subsample=0.5;, score=18002.000 total time=   0.7s\n",
      "[CV 3/3] END colsample_bytree=0.5, learning_rate=0.01, max_depth=3, scale_pos_weight=500, subsample=0.5;, score=17996.000 total time=   0.7s\n",
      "[CV 2/3] END colsample_bytree=0.5, learning_rate=0.01, max_depth=3, scale_pos_weight=100, subsample=1.0;, score=18002.000 total time=   0.8s\n",
      "[CV 1/3] END colsample_bytree=0.5, learning_rate=0.01, max_depth=3, scale_pos_weight=500, subsample=1.0;, score=18002.000 total time=   0.7s\n",
      "[CV 3/3] END colsample_bytree=0.5, learning_rate=0.01, max_depth=3, scale_pos_weight=100, subsample=1.0;, score=17996.000 total time=   0.8s\n",
      "[CV 2/3] END colsample_bytree=0.5, learning_rate=0.01, max_depth=3, scale_pos_weight=500, subsample=1.0;, score=18002.000 total time=   0.7s\n",
      "[CV 3/3] END colsample_bytree=0.5, learning_rate=0.01, max_depth=3, scale_pos_weight=500, subsample=1.0;, score=17996.000 total time=   0.7s\n",
      "[CV 1/3] END colsample_bytree=0.5, learning_rate=0.01, max_depth=3, scale_pos_weight=100, subsample=0.5;, score=18002.000 total time=   0.6s\n",
      "[CV 2/3] END colsample_bytree=0.5, learning_rate=0.01, max_depth=3, scale_pos_weight=100, subsample=0.5;, score=18002.000 total time=   0.7s\n",
      "[CV 3/3] END colsample_bytree=0.5, learning_rate=0.01, max_depth=3, scale_pos_weight=100, subsample=0.5;, score=17996.000 total time=   0.7s\n",
      "[CV 1/3] END colsample_bytree=0.5, learning_rate=0.1, max_depth=3, scale_pos_weight=5, subsample=0.5;, score=18002.000 total time=   0.6s\n",
      "[CV 2/3] END colsample_bytree=0.5, learning_rate=0.01, max_depth=3, scale_pos_weight=100, subsample=1.0;, score=18002.000 total time=   0.6s\n",
      "[CV 1/3] END colsample_bytree=0.5, learning_rate=0.01, max_depth=3, scale_pos_weight=100, subsample=1.0;, score=18002.000 total time=   0.7s\n",
      "[CV 3/3] END colsample_bytree=0.5, learning_rate=0.01, max_depth=3, scale_pos_weight=100, subsample=1.0;, score=17996.000 total time=   0.6s\n",
      "[CV 2/3] END colsample_bytree=0.5, learning_rate=0.1, max_depth=3, scale_pos_weight=5, subsample=0.5;, score=18002.000 total time=   0.6s\n",
      "[CV 3/3] END colsample_bytree=0.5, learning_rate=0.1, max_depth=3, scale_pos_weight=5, subsample=0.5;, score=17996.000 total time=   0.7s\n",
      "[CV 2/3] END colsample_bytree=0.5, learning_rate=0.1, max_depth=3, scale_pos_weight=5, subsample=1.0;, score=18002.000 total time=   0.7s\n",
      "[CV 1/3] END colsample_bytree=0.5, learning_rate=0.1, max_depth=3, scale_pos_weight=5, subsample=1.0;, score=18002.000 total time=   0.7s\n",
      "[CV 1/3] END colsample_bytree=0.5, learning_rate=0.1, max_depth=3, scale_pos_weight=50, subsample=0.5;, score=18002.000 total time=   0.6s\n",
      "[CV 3/3] END colsample_bytree=0.5, learning_rate=0.1, max_depth=3, scale_pos_weight=50, subsample=0.5;, score=17996.000 total time=   0.6s\n",
      "[CV 2/3] END colsample_bytree=0.5, learning_rate=0.1, max_depth=3, scale_pos_weight=50, subsample=0.5;, score=18002.000 total time=   0.7s\n",
      "[CV 3/3] END colsample_bytree=0.5, learning_rate=0.1, max_depth=3, scale_pos_weight=5, subsample=1.0;, score=17996.000 total time=   0.7s\n",
      "[CV 1/3] END colsample_bytree=0.5, learning_rate=0.1, max_depth=3, scale_pos_weight=50, subsample=1.0;, score=18002.000 total time=   0.7s\n",
      "[CV 2/3] END colsample_bytree=0.5, learning_rate=0.1, max_depth=3, scale_pos_weight=50, subsample=1.0;, score=18002.000 total time=   0.9s\n",
      "[CV 3/3] END colsample_bytree=0.5, learning_rate=0.1, max_depth=3, scale_pos_weight=50, subsample=1.0;, score=17996.000 total time=   0.9s\n",
      "[CV 2/3] END colsample_bytree=0.5, learning_rate=0.1, max_depth=3, scale_pos_weight=100, subsample=0.5;, score=18002.000 total time=   0.9s\n",
      "[CV 2/3] END colsample_bytree=0.5, learning_rate=0.1, max_depth=3, scale_pos_weight=100, subsample=1.0;, score=18002.000 total time=   1.0s\n",
      "[CV 1/3] END colsample_bytree=0.5, learning_rate=0.1, max_depth=3, scale_pos_weight=100, subsample=0.5;, score=18002.000 total time=   1.0s\n",
      "[CV 1/3] END colsample_bytree=0.5, learning_rate=0.1, max_depth=3, scale_pos_weight=100, subsample=1.0;, score=18002.000 total time=   1.0s\n",
      "[CV 3/3] END colsample_bytree=0.5, learning_rate=0.1, max_depth=3, scale_pos_weight=100, subsample=1.0;, score=17996.000 total time=   1.1s\n",
      "[CV 3/3] END colsample_bytree=0.5, learning_rate=0.1, max_depth=3, scale_pos_weight=100, subsample=0.5;, score=17996.000 total time=   1.2s\n",
      "[CV 1/3] END colsample_bytree=0.5, learning_rate=0.1, max_depth=3, scale_pos_weight=500, subsample=0.5;, score=18002.000 total time=   0.9s\n",
      "[CV 1/3] END colsample_bytree=0.5, learning_rate=0.1, max_depth=3, scale_pos_weight=500, subsample=1.0;, score=18002.000 total time=   0.8s\n",
      "[CV 2/3] END colsample_bytree=0.5, learning_rate=0.1, max_depth=3, scale_pos_weight=500, subsample=1.0;, score=18002.000 total time=   0.8s\n",
      "[CV 3/3] END colsample_bytree=0.5, learning_rate=0.1, max_depth=3, scale_pos_weight=500, subsample=0.5;, score=17996.000 total time=   0.8s\n",
      "[CV 3/3] END colsample_bytree=0.5, learning_rate=0.1, max_depth=3, scale_pos_weight=500, subsample=1.0;, score=17996.000 total time=   0.7s\n",
      "[CV 1/3] END colsample_bytree=0.5, learning_rate=0.1, max_depth=3, scale_pos_weight=100, subsample=0.5;, score=18002.000 total time=   0.7s\n",
      "[CV 2/3] END colsample_bytree=0.5, learning_rate=0.1, max_depth=3, scale_pos_weight=500, subsample=0.5;, score=18002.000 total time=   0.9s\n",
      "[CV 2/3] END colsample_bytree=0.5, learning_rate=0.1, max_depth=3, scale_pos_weight=100, subsample=0.5;, score=18002.000 total time=   0.7s\n",
      "[CV 3/3] END colsample_bytree=0.5, learning_rate=0.1, max_depth=3, scale_pos_weight=100, subsample=0.5;, score=17996.000 total time=   0.6s\n",
      "[CV 1/3] END colsample_bytree=1.0, learning_rate=0.01, max_depth=3, scale_pos_weight=5, subsample=0.5;, score=18002.000 total time=   0.6s\n",
      "[CV 1/3] END colsample_bytree=0.5, learning_rate=0.1, max_depth=3, scale_pos_weight=100, subsample=1.0;, score=18002.000 total time=   0.7s\n",
      "[CV 2/3] END colsample_bytree=0.5, learning_rate=0.1, max_depth=3, scale_pos_weight=100, subsample=1.0;, score=18002.000 total time=   0.7s\n",
      "[CV 3/3] END colsample_bytree=0.5, learning_rate=0.1, max_depth=3, scale_pos_weight=100, subsample=1.0;, score=17996.000 total time=   0.7s\n",
      "[CV 2/3] END colsample_bytree=1.0, learning_rate=0.01, max_depth=3, scale_pos_weight=5, subsample=0.5;, score=18002.000 total time=   0.7s\n",
      "[CV 1/3] END colsample_bytree=1.0, learning_rate=0.01, max_depth=3, scale_pos_weight=5, subsample=1.0;, score=18002.000 total time=   0.6s\n",
      "[CV 3/3] END colsample_bytree=1.0, learning_rate=0.01, max_depth=3, scale_pos_weight=5, subsample=0.5;, score=17996.000 total time=   0.7s\n",
      "[CV 2/3] END colsample_bytree=1.0, learning_rate=0.01, max_depth=3, scale_pos_weight=5, subsample=1.0;, score=18002.000 total time=   0.6s\n",
      "[CV 3/3] END colsample_bytree=1.0, learning_rate=0.01, max_depth=3, scale_pos_weight=5, subsample=1.0;, score=17996.000 total time=   0.6s\n",
      "[CV 3/3] END colsample_bytree=1.0, learning_rate=0.01, max_depth=3, scale_pos_weight=50, subsample=0.5;, score=17996.000 total time=   0.5s\n",
      "[CV 1/3] END colsample_bytree=1.0, learning_rate=0.01, max_depth=3, scale_pos_weight=50, subsample=0.5;, score=18002.000 total time=   0.6s\n",
      "[CV 2/3] END colsample_bytree=1.0, learning_rate=0.01, max_depth=3, scale_pos_weight=50, subsample=0.5;, score=18002.000 total time=   0.6s\n",
      "[CV 1/3] END colsample_bytree=1.0, learning_rate=0.01, max_depth=3, scale_pos_weight=50, subsample=1.0;, score=18002.000 total time=   0.6s\n",
      "[CV 2/3] END colsample_bytree=1.0, learning_rate=0.01, max_depth=3, scale_pos_weight=50, subsample=1.0;, score=18002.000 total time=   0.6s\n",
      "[CV 3/3] END colsample_bytree=1.0, learning_rate=0.01, max_depth=3, scale_pos_weight=50, subsample=1.0;, score=17996.000 total time=   0.6s\n",
      "[CV 3/3] END colsample_bytree=1.0, learning_rate=0.01, max_depth=3, scale_pos_weight=100, subsample=0.5;, score=17996.000 total time=   0.5s\n",
      "[CV 1/3] END colsample_bytree=1.0, learning_rate=0.01, max_depth=3, scale_pos_weight=100, subsample=0.5;, score=18002.000 total time=   0.6s\n",
      "[CV 2/3] END colsample_bytree=1.0, learning_rate=0.01, max_depth=3, scale_pos_weight=100, subsample=0.5;, score=18002.000 total time=   0.6s\n",
      "[CV 1/3] END colsample_bytree=1.0, learning_rate=0.01, max_depth=3, scale_pos_weight=100, subsample=1.0;, score=18002.000 total time=   0.6s\n",
      "[CV 2/3] END colsample_bytree=1.0, learning_rate=0.01, max_depth=3, scale_pos_weight=100, subsample=1.0;, score=18002.000 total time=   0.6s\n",
      "[CV 3/3] END colsample_bytree=1.0, learning_rate=0.01, max_depth=3, scale_pos_weight=100, subsample=1.0;, score=17996.000 total time=   0.5s\n",
      "[CV 1/3] END colsample_bytree=1.0, learning_rate=0.01, max_depth=3, scale_pos_weight=500, subsample=0.5;, score=18002.000 total time=   0.6s\n",
      "[CV 2/3] END colsample_bytree=1.0, learning_rate=0.01, max_depth=3, scale_pos_weight=500, subsample=0.5;, score=18002.000 total time=   0.6s\n",
      "[CV 3/3] END colsample_bytree=1.0, learning_rate=0.01, max_depth=3, scale_pos_weight=500, subsample=0.5;, score=17996.000 total time=   0.5s\n",
      "[CV 1/3] END colsample_bytree=1.0, learning_rate=0.01, max_depth=3, scale_pos_weight=500, subsample=1.0;, score=18002.000 total time=   0.6s\n",
      "[CV 2/3] END colsample_bytree=1.0, learning_rate=0.01, max_depth=3, scale_pos_weight=500, subsample=1.0;, score=18002.000 total time=   0.6s\n",
      "[CV 2/3] END colsample_bytree=1.0, learning_rate=0.01, max_depth=3, scale_pos_weight=100, subsample=0.5;, score=18002.000 total time=   0.5s\n",
      "[CV 3/3] END colsample_bytree=1.0, learning_rate=0.01, max_depth=3, scale_pos_weight=500, subsample=1.0;, score=17996.000 total time=   0.6s\n",
      "[CV 1/3] END colsample_bytree=1.0, learning_rate=0.01, max_depth=3, scale_pos_weight=100, subsample=0.5;, score=18002.000 total time=   0.6s\n",
      "[CV 3/3] END colsample_bytree=1.0, learning_rate=0.01, max_depth=3, scale_pos_weight=100, subsample=0.5;, score=17996.000 total time=   0.5s\n",
      "[CV 1/3] END colsample_bytree=1.0, learning_rate=0.01, max_depth=3, scale_pos_weight=100, subsample=1.0;, score=18002.000 total time=   0.5s\n",
      "[CV 2/3] END colsample_bytree=1.0, learning_rate=0.01, max_depth=3, scale_pos_weight=100, subsample=1.0;, score=18002.000 total time=   0.5s\n",
      "[CV 3/3] END colsample_bytree=1.0, learning_rate=0.1, max_depth=3, scale_pos_weight=5, subsample=0.5;, score=17996.000 total time=   0.5s\n",
      "[CV 2/3] END colsample_bytree=1.0, learning_rate=0.1, max_depth=3, scale_pos_weight=5, subsample=0.5;, score=18002.000 total time=   0.5s\n",
      "[CV 3/3] END colsample_bytree=1.0, learning_rate=0.01, max_depth=3, scale_pos_weight=100, subsample=1.0;, score=17996.000 total time=   0.5s\n",
      "[CV 1/3] END colsample_bytree=1.0, learning_rate=0.1, max_depth=3, scale_pos_weight=5, subsample=1.0;, score=18002.000 total time=   0.5s\n",
      "[CV 1/3] END colsample_bytree=1.0, learning_rate=0.1, max_depth=3, scale_pos_weight=5, subsample=0.5;, score=18002.000 total time=   0.6s\n",
      "[CV 2/3] END colsample_bytree=1.0, learning_rate=0.1, max_depth=3, scale_pos_weight=5, subsample=1.0;, score=18002.000 total time=   0.5s\n",
      "[CV 3/3] END colsample_bytree=1.0, learning_rate=0.1, max_depth=3, scale_pos_weight=5, subsample=1.0;, score=17996.000 total time=   0.5s\n",
      "[CV 1/3] END colsample_bytree=1.0, learning_rate=0.1, max_depth=3, scale_pos_weight=50, subsample=0.5;, score=18002.000 total time=   0.5s\n",
      "[CV 2/3] END colsample_bytree=1.0, learning_rate=0.1, max_depth=3, scale_pos_weight=50, subsample=1.0;, score=18002.000 total time=   0.5s\n",
      "[CV 3/3] END colsample_bytree=1.0, learning_rate=0.1, max_depth=3, scale_pos_weight=50, subsample=0.5;, score=17996.000 total time=   0.5s\n",
      "[CV 3/3] END colsample_bytree=1.0, learning_rate=0.1, max_depth=3, scale_pos_weight=50, subsample=1.0;, score=17996.000 total time=   0.5s\n",
      "[CV 1/3] END colsample_bytree=1.0, learning_rate=0.1, max_depth=3, scale_pos_weight=50, subsample=1.0;, score=18002.000 total time=   0.6s\n",
      "[CV 2/3] END colsample_bytree=1.0, learning_rate=0.1, max_depth=3, scale_pos_weight=50, subsample=0.5;, score=18002.000 total time=   0.6s\n",
      "[CV 2/3] END colsample_bytree=1.0, learning_rate=0.1, max_depth=3, scale_pos_weight=100, subsample=0.5;, score=18002.000 total time=   0.5s\n",
      "[CV 1/3] END colsample_bytree=1.0, learning_rate=0.1, max_depth=3, scale_pos_weight=100, subsample=0.5;, score=18002.000 total time=   0.5s\n",
      "[CV 1/3] END colsample_bytree=1.0, learning_rate=0.1, max_depth=3, scale_pos_weight=100, subsample=1.0;, score=18002.000 total time=   0.4s\n",
      "[CV 3/3] END colsample_bytree=1.0, learning_rate=0.1, max_depth=3, scale_pos_weight=100, subsample=0.5;, score=17996.000 total time=   0.5s\n",
      "[CV 3/3] END colsample_bytree=1.0, learning_rate=0.1, max_depth=3, scale_pos_weight=100, subsample=1.0;, score=17996.000 total time=   0.6s\n",
      "[CV 2/3] END colsample_bytree=1.0, learning_rate=0.1, max_depth=3, scale_pos_weight=100, subsample=1.0;, score=18002.000 total time=   0.6s\n",
      "[CV 2/3] END colsample_bytree=1.0, learning_rate=0.1, max_depth=3, scale_pos_weight=500, subsample=0.5;, score=18002.000 total time=   0.6s\n",
      "[CV 3/3] END colsample_bytree=1.0, learning_rate=0.1, max_depth=3, scale_pos_weight=500, subsample=0.5;, score=17996.000 total time=   0.5s\n",
      "[CV 1/3] END colsample_bytree=1.0, learning_rate=0.1, max_depth=3, scale_pos_weight=500, subsample=0.5;, score=18002.000 total time=   0.6s\n",
      "[CV 1/3] END colsample_bytree=1.0, learning_rate=0.1, max_depth=3, scale_pos_weight=500, subsample=1.0;, score=18002.000 total time=   0.5s\n",
      "[CV 2/3] END colsample_bytree=1.0, learning_rate=0.1, max_depth=3, scale_pos_weight=500, subsample=1.0;, score=18002.000 total time=   0.5s\n",
      "[CV 3/3] END colsample_bytree=1.0, learning_rate=0.1, max_depth=3, scale_pos_weight=500, subsample=1.0;, score=17996.000 total time=   0.5s\n",
      "[CV 1/3] END colsample_bytree=1.0, learning_rate=0.1, max_depth=3, scale_pos_weight=100, subsample=0.5;, score=18002.000 total time=   0.5s\n",
      "[CV 3/3] END colsample_bytree=1.0, learning_rate=0.1, max_depth=3, scale_pos_weight=100, subsample=0.5;, score=17996.000 total time=   0.5s\n",
      "[CV 1/3] END colsample_bytree=1.0, learning_rate=0.1, max_depth=3, scale_pos_weight=100, subsample=1.0;, score=18002.000 total time=   0.5s\n",
      "[CV 2/3] END colsample_bytree=1.0, learning_rate=0.1, max_depth=3, scale_pos_weight=100, subsample=0.5;, score=18002.000 total time=   0.5s\n",
      "[CV 2/3] END colsample_bytree=1.0, learning_rate=0.1, max_depth=3, scale_pos_weight=100, subsample=1.0;, score=18002.000 total time=   0.5s\n",
      "[CV 3/3] END colsample_bytree=1.0, learning_rate=0.1, max_depth=3, scale_pos_weight=100, subsample=1.0;, score=17996.000 total time=   0.5s\n"
     ]
    },
    {
     "data": {
      "text/html": [
       "<style>#sk-container-id-12 {color: black;}#sk-container-id-12 pre{padding: 0;}#sk-container-id-12 div.sk-toggleable {background-color: white;}#sk-container-id-12 label.sk-toggleable__label {cursor: pointer;display: block;width: 100%;margin-bottom: 0;padding: 0.3em;box-sizing: border-box;text-align: center;}#sk-container-id-12 label.sk-toggleable__label-arrow:before {content: \"▸\";float: left;margin-right: 0.25em;color: #696969;}#sk-container-id-12 label.sk-toggleable__label-arrow:hover:before {color: black;}#sk-container-id-12 div.sk-estimator:hover label.sk-toggleable__label-arrow:before {color: black;}#sk-container-id-12 div.sk-toggleable__content {max-height: 0;max-width: 0;overflow: hidden;text-align: left;background-color: #f0f8ff;}#sk-container-id-12 div.sk-toggleable__content pre {margin: 0.2em;color: black;border-radius: 0.25em;background-color: #f0f8ff;}#sk-container-id-12 input.sk-toggleable__control:checked~div.sk-toggleable__content {max-height: 200px;max-width: 100%;overflow: auto;}#sk-container-id-12 input.sk-toggleable__control:checked~label.sk-toggleable__label-arrow:before {content: \"▾\";}#sk-container-id-12 div.sk-estimator input.sk-toggleable__control:checked~label.sk-toggleable__label {background-color: #d4ebff;}#sk-container-id-12 div.sk-label input.sk-toggleable__control:checked~label.sk-toggleable__label {background-color: #d4ebff;}#sk-container-id-12 input.sk-hidden--visually {border: 0;clip: rect(1px 1px 1px 1px);clip: rect(1px, 1px, 1px, 1px);height: 1px;margin: -1px;overflow: hidden;padding: 0;position: absolute;width: 1px;}#sk-container-id-12 div.sk-estimator {font-family: monospace;background-color: #f0f8ff;border: 1px dotted black;border-radius: 0.25em;box-sizing: border-box;margin-bottom: 0.5em;}#sk-container-id-12 div.sk-estimator:hover {background-color: #d4ebff;}#sk-container-id-12 div.sk-parallel-item::after {content: \"\";width: 100%;border-bottom: 1px solid gray;flex-grow: 1;}#sk-container-id-12 div.sk-label:hover label.sk-toggleable__label {background-color: #d4ebff;}#sk-container-id-12 div.sk-serial::before {content: \"\";position: absolute;border-left: 1px solid gray;box-sizing: border-box;top: 0;bottom: 0;left: 50%;z-index: 0;}#sk-container-id-12 div.sk-serial {display: flex;flex-direction: column;align-items: center;background-color: white;padding-right: 0.2em;padding-left: 0.2em;position: relative;}#sk-container-id-12 div.sk-item {position: relative;z-index: 1;}#sk-container-id-12 div.sk-parallel {display: flex;align-items: stretch;justify-content: center;background-color: white;position: relative;}#sk-container-id-12 div.sk-item::before, #sk-container-id-12 div.sk-parallel-item::before {content: \"\";position: absolute;border-left: 1px solid gray;box-sizing: border-box;top: 0;bottom: 0;left: 50%;z-index: -1;}#sk-container-id-12 div.sk-parallel-item {display: flex;flex-direction: column;z-index: 1;position: relative;background-color: white;}#sk-container-id-12 div.sk-parallel-item:first-child::after {align-self: flex-end;width: 50%;}#sk-container-id-12 div.sk-parallel-item:last-child::after {align-self: flex-start;width: 50%;}#sk-container-id-12 div.sk-parallel-item:only-child::after {width: 0;}#sk-container-id-12 div.sk-dashed-wrapped {border: 1px dashed gray;margin: 0 0.4em 0.5em 0.4em;box-sizing: border-box;padding-bottom: 0.4em;background-color: white;}#sk-container-id-12 div.sk-label label {font-family: monospace;font-weight: bold;display: inline-block;line-height: 1.2em;}#sk-container-id-12 div.sk-label-container {text-align: center;}#sk-container-id-12 div.sk-container {/* jupyter's `normalize.less` sets `[hidden] { display: none; }` but bootstrap.min.css set `[hidden] { display: none !important; }` so we also need the `!important` here to be able to override the default hidden behavior on the sphinx rendered scikit-learn.org. See: https://github.com/scikit-learn/scikit-learn/issues/21755 */display: inline-block !important;position: relative;}#sk-container-id-12 div.sk-text-repr-fallback {display: none;}</style><div id=\"sk-container-id-12\" class=\"sk-top-container\"><div class=\"sk-text-repr-fallback\"><pre>GridSearchCV(cv=3,\n",
       "             estimator=XGBClassifier(base_score=None, booster=None,\n",
       "                                     callbacks=None, colsample_bylevel=None,\n",
       "                                     colsample_bynode=None,\n",
       "                                     colsample_bytree=None, device=None,\n",
       "                                     early_stopping_rounds=None,\n",
       "                                     enable_categorical=False, eval_metric=None,\n",
       "                                     feature_types=None, gamma=None,\n",
       "                                     grow_policy=None, importance_type=None,\n",
       "                                     interaction_constraints=None,\n",
       "                                     learning_rate=None,...\n",
       "                                     missing=nan, monotone_constraints=None,\n",
       "                                     multi_strategy=None, n_estimators=-1,\n",
       "                                     n_jobs=None, num_parallel_tree=None,\n",
       "                                     random_state=42, ...),\n",
       "             n_jobs=-1,\n",
       "             param_grid={&#x27;colsample_bytree&#x27;: [0.5, 1.0],\n",
       "                         &#x27;learning_rate&#x27;: [0.01, 0.1], &#x27;max_depth&#x27;: [3],\n",
       "                         &#x27;scale_pos_weight&#x27;: [5, 50, 100, 500, 100],\n",
       "                         &#x27;subsample&#x27;: [0.5, 1.0]},\n",
       "             scoring=make_scorer(custom_cost_score, greater_is_better=False),\n",
       "             verbose=3)</pre><b>In a Jupyter environment, please rerun this cell to show the HTML representation or trust the notebook. <br />On GitHub, the HTML representation is unable to render, please try loading this page with nbviewer.org.</b></div><div class=\"sk-container\" hidden><div class=\"sk-item sk-dashed-wrapped\"><div class=\"sk-label-container\"><div class=\"sk-label sk-toggleable\"><input class=\"sk-toggleable__control sk-hidden--visually\" id=\"sk-estimator-id-22\" type=\"checkbox\" ><label for=\"sk-estimator-id-22\" class=\"sk-toggleable__label sk-toggleable__label-arrow\">GridSearchCV</label><div class=\"sk-toggleable__content\"><pre>GridSearchCV(cv=3,\n",
       "             estimator=XGBClassifier(base_score=None, booster=None,\n",
       "                                     callbacks=None, colsample_bylevel=None,\n",
       "                                     colsample_bynode=None,\n",
       "                                     colsample_bytree=None, device=None,\n",
       "                                     early_stopping_rounds=None,\n",
       "                                     enable_categorical=False, eval_metric=None,\n",
       "                                     feature_types=None, gamma=None,\n",
       "                                     grow_policy=None, importance_type=None,\n",
       "                                     interaction_constraints=None,\n",
       "                                     learning_rate=None,...\n",
       "                                     missing=nan, monotone_constraints=None,\n",
       "                                     multi_strategy=None, n_estimators=-1,\n",
       "                                     n_jobs=None, num_parallel_tree=None,\n",
       "                                     random_state=42, ...),\n",
       "             n_jobs=-1,\n",
       "             param_grid={&#x27;colsample_bytree&#x27;: [0.5, 1.0],\n",
       "                         &#x27;learning_rate&#x27;: [0.01, 0.1], &#x27;max_depth&#x27;: [3],\n",
       "                         &#x27;scale_pos_weight&#x27;: [5, 50, 100, 500, 100],\n",
       "                         &#x27;subsample&#x27;: [0.5, 1.0]},\n",
       "             scoring=make_scorer(custom_cost_score, greater_is_better=False),\n",
       "             verbose=3)</pre></div></div></div><div class=\"sk-parallel\"><div class=\"sk-parallel-item\"><div class=\"sk-item\"><div class=\"sk-label-container\"><div class=\"sk-label sk-toggleable\"><input class=\"sk-toggleable__control sk-hidden--visually\" id=\"sk-estimator-id-23\" type=\"checkbox\" ><label for=\"sk-estimator-id-23\" class=\"sk-toggleable__label sk-toggleable__label-arrow\">estimator: XGBClassifier</label><div class=\"sk-toggleable__content\"><pre>XGBClassifier(base_score=None, booster=None, callbacks=None,\n",
       "              colsample_bylevel=None, colsample_bynode=None,\n",
       "              colsample_bytree=None, device=None, early_stopping_rounds=None,\n",
       "              enable_categorical=False, eval_metric=None, feature_types=None,\n",
       "              gamma=None, grow_policy=None, importance_type=None,\n",
       "              interaction_constraints=None, learning_rate=None, max_bin=None,\n",
       "              max_cat_threshold=None, max_cat_to_onehot=None,\n",
       "              max_delta_step=None, max_depth=None, max_leaves=None,\n",
       "              min_child_weight=None, missing=nan, monotone_constraints=None,\n",
       "              multi_strategy=None, n_estimators=-1, n_jobs=None,\n",
       "              num_parallel_tree=None, random_state=42, ...)</pre></div></div></div><div class=\"sk-serial\"><div class=\"sk-item\"><div class=\"sk-estimator sk-toggleable\"><input class=\"sk-toggleable__control sk-hidden--visually\" id=\"sk-estimator-id-24\" type=\"checkbox\" ><label for=\"sk-estimator-id-24\" class=\"sk-toggleable__label sk-toggleable__label-arrow\">XGBClassifier</label><div class=\"sk-toggleable__content\"><pre>XGBClassifier(base_score=None, booster=None, callbacks=None,\n",
       "              colsample_bylevel=None, colsample_bynode=None,\n",
       "              colsample_bytree=None, device=None, early_stopping_rounds=None,\n",
       "              enable_categorical=False, eval_metric=None, feature_types=None,\n",
       "              gamma=None, grow_policy=None, importance_type=None,\n",
       "              interaction_constraints=None, learning_rate=None, max_bin=None,\n",
       "              max_cat_threshold=None, max_cat_to_onehot=None,\n",
       "              max_delta_step=None, max_depth=None, max_leaves=None,\n",
       "              min_child_weight=None, missing=nan, monotone_constraints=None,\n",
       "              multi_strategy=None, n_estimators=-1, n_jobs=None,\n",
       "              num_parallel_tree=None, random_state=42, ...)</pre></div></div></div></div></div></div></div></div></div></div>"
      ],
      "text/plain": [
       "GridSearchCV(cv=3,\n",
       "             estimator=XGBClassifier(base_score=None, booster=None,\n",
       "                                     callbacks=None, colsample_bylevel=None,\n",
       "                                     colsample_bynode=None,\n",
       "                                     colsample_bytree=None, device=None,\n",
       "                                     early_stopping_rounds=None,\n",
       "                                     enable_categorical=False, eval_metric=None,\n",
       "                                     feature_types=None, gamma=None,\n",
       "                                     grow_policy=None, importance_type=None,\n",
       "                                     interaction_constraints=None,\n",
       "                                     learning_rate=None,...\n",
       "                                     missing=nan, monotone_constraints=None,\n",
       "                                     multi_strategy=None, n_estimators=-1,\n",
       "                                     n_jobs=None, num_parallel_tree=None,\n",
       "                                     random_state=42, ...),\n",
       "             n_jobs=-1,\n",
       "             param_grid={'colsample_bytree': [0.5, 1.0],\n",
       "                         'learning_rate': [0.01, 0.1], 'max_depth': [3],\n",
       "                         'scale_pos_weight': [5, 50, 100, 500, 100],\n",
       "                         'subsample': [0.5, 1.0]},\n",
       "             scoring=make_scorer(custom_cost_score, greater_is_better=False),\n",
       "             verbose=3)"
      ]
     },
     "execution_count": 229,
     "metadata": {},
     "output_type": "execute_result"
    }
   ],
   "source": [
    "import xgboost as xgb\n",
    "from sklearn.model_selection import GridSearchCV\n",
    "from sklearn.metrics import accuracy_score, make_scorer\n",
    "\n",
    "X = train_df[num_cat_cols].replace('na', 0).astype(float).values\n",
    "X_transformed = StandardScaler().fit_transform(X)\n",
    "\n",
    "# Define the parameter grid to search\n",
    "param_grid = {\n",
    "    'max_depth': [3, ],\n",
    "    'learning_rate': [0.01, 0.1],\n",
    "    'subsample': [0.5, 1.0],\n",
    "    'colsample_bytree': [0.5, 1.0],\n",
    "    'scale_pos_weight': [5, 50 ,100, 500, 100]\n",
    "}\n",
    "\n",
    "# Initialize the XGBClassifier\n",
    "clf = xgb.XGBClassifier(\n",
    "    random_state=42,\n",
    "    n_estimators=-1,\n",
    "  )\n",
    "\n",
    "\n",
    "# Create a GridSearchCV object\n",
    "grid_search = GridSearchCV(\n",
    "    estimator=clf,\n",
    "    param_grid=param_grid,\n",
    "    scoring=custom_scorer,\n",
    "    cv=3,  # Number of cross-validation folds (3-fold cross-validation)\n",
    "    verbose=3,\n",
    "    n_jobs=-1  # Use all available cores\n",
    ")\n",
    "\n",
    "grid_search.fit(X_transformed, Y)"
   ]
  },
  {
   "cell_type": "code",
   "execution_count": 230,
   "metadata": {},
   "outputs": [
    {
     "data": {
      "text/plain": [
       "18000.0"
      ]
     },
     "execution_count": 230,
     "metadata": {},
     "output_type": "execute_result"
    }
   ],
   "source": [
    "grid_search.best_score_"
   ]
  },
  {
   "cell_type": "code",
   "execution_count": 231,
   "metadata": {},
   "outputs": [],
   "source": [
    "X_train, X_test, y_train, y_test = train_test_split(X_transformed, Y, test_size=0.33, random_state=42, stratify=Y)\n",
    "\n",
    "clf = xgb.XGBClassifier(\n",
    "    n_estimators=-1,\n",
    "    random_state=42,\n",
    "\n",
    "    **grid_search.best_params_\n",
    ")"
   ]
  },
  {
   "cell_type": "code",
   "execution_count": 232,
   "metadata": {},
   "outputs": [
    {
     "data": {
      "text/html": [
       "<style>#sk-container-id-13 {color: black;}#sk-container-id-13 pre{padding: 0;}#sk-container-id-13 div.sk-toggleable {background-color: white;}#sk-container-id-13 label.sk-toggleable__label {cursor: pointer;display: block;width: 100%;margin-bottom: 0;padding: 0.3em;box-sizing: border-box;text-align: center;}#sk-container-id-13 label.sk-toggleable__label-arrow:before {content: \"▸\";float: left;margin-right: 0.25em;color: #696969;}#sk-container-id-13 label.sk-toggleable__label-arrow:hover:before {color: black;}#sk-container-id-13 div.sk-estimator:hover label.sk-toggleable__label-arrow:before {color: black;}#sk-container-id-13 div.sk-toggleable__content {max-height: 0;max-width: 0;overflow: hidden;text-align: left;background-color: #f0f8ff;}#sk-container-id-13 div.sk-toggleable__content pre {margin: 0.2em;color: black;border-radius: 0.25em;background-color: #f0f8ff;}#sk-container-id-13 input.sk-toggleable__control:checked~div.sk-toggleable__content {max-height: 200px;max-width: 100%;overflow: auto;}#sk-container-id-13 input.sk-toggleable__control:checked~label.sk-toggleable__label-arrow:before {content: \"▾\";}#sk-container-id-13 div.sk-estimator input.sk-toggleable__control:checked~label.sk-toggleable__label {background-color: #d4ebff;}#sk-container-id-13 div.sk-label input.sk-toggleable__control:checked~label.sk-toggleable__label {background-color: #d4ebff;}#sk-container-id-13 input.sk-hidden--visually {border: 0;clip: rect(1px 1px 1px 1px);clip: rect(1px, 1px, 1px, 1px);height: 1px;margin: -1px;overflow: hidden;padding: 0;position: absolute;width: 1px;}#sk-container-id-13 div.sk-estimator {font-family: monospace;background-color: #f0f8ff;border: 1px dotted black;border-radius: 0.25em;box-sizing: border-box;margin-bottom: 0.5em;}#sk-container-id-13 div.sk-estimator:hover {background-color: #d4ebff;}#sk-container-id-13 div.sk-parallel-item::after {content: \"\";width: 100%;border-bottom: 1px solid gray;flex-grow: 1;}#sk-container-id-13 div.sk-label:hover label.sk-toggleable__label {background-color: #d4ebff;}#sk-container-id-13 div.sk-serial::before {content: \"\";position: absolute;border-left: 1px solid gray;box-sizing: border-box;top: 0;bottom: 0;left: 50%;z-index: 0;}#sk-container-id-13 div.sk-serial {display: flex;flex-direction: column;align-items: center;background-color: white;padding-right: 0.2em;padding-left: 0.2em;position: relative;}#sk-container-id-13 div.sk-item {position: relative;z-index: 1;}#sk-container-id-13 div.sk-parallel {display: flex;align-items: stretch;justify-content: center;background-color: white;position: relative;}#sk-container-id-13 div.sk-item::before, #sk-container-id-13 div.sk-parallel-item::before {content: \"\";position: absolute;border-left: 1px solid gray;box-sizing: border-box;top: 0;bottom: 0;left: 50%;z-index: -1;}#sk-container-id-13 div.sk-parallel-item {display: flex;flex-direction: column;z-index: 1;position: relative;background-color: white;}#sk-container-id-13 div.sk-parallel-item:first-child::after {align-self: flex-end;width: 50%;}#sk-container-id-13 div.sk-parallel-item:last-child::after {align-self: flex-start;width: 50%;}#sk-container-id-13 div.sk-parallel-item:only-child::after {width: 0;}#sk-container-id-13 div.sk-dashed-wrapped {border: 1px dashed gray;margin: 0 0.4em 0.5em 0.4em;box-sizing: border-box;padding-bottom: 0.4em;background-color: white;}#sk-container-id-13 div.sk-label label {font-family: monospace;font-weight: bold;display: inline-block;line-height: 1.2em;}#sk-container-id-13 div.sk-label-container {text-align: center;}#sk-container-id-13 div.sk-container {/* jupyter's `normalize.less` sets `[hidden] { display: none; }` but bootstrap.min.css set `[hidden] { display: none !important; }` so we also need the `!important` here to be able to override the default hidden behavior on the sphinx rendered scikit-learn.org. See: https://github.com/scikit-learn/scikit-learn/issues/21755 */display: inline-block !important;position: relative;}#sk-container-id-13 div.sk-text-repr-fallback {display: none;}</style><div id=\"sk-container-id-13\" class=\"sk-top-container\"><div class=\"sk-text-repr-fallback\"><pre>XGBClassifier(base_score=None, booster=None, callbacks=None,\n",
       "              colsample_bylevel=None, colsample_bynode=None,\n",
       "              colsample_bytree=0.5, device=None, early_stopping_rounds=None,\n",
       "              enable_categorical=False, eval_metric=None, feature_types=None,\n",
       "              gamma=None, grow_policy=None, importance_type=None,\n",
       "              interaction_constraints=None, learning_rate=0.01, max_bin=None,\n",
       "              max_cat_threshold=None, max_cat_to_onehot=None,\n",
       "              max_delta_step=None, max_depth=3, max_leaves=None,\n",
       "              min_child_weight=None, missing=nan, monotone_constraints=None,\n",
       "              multi_strategy=None, n_estimators=-1, n_jobs=None,\n",
       "              num_parallel_tree=None, random_state=42, ...)</pre><b>In a Jupyter environment, please rerun this cell to show the HTML representation or trust the notebook. <br />On GitHub, the HTML representation is unable to render, please try loading this page with nbviewer.org.</b></div><div class=\"sk-container\" hidden><div class=\"sk-item\"><div class=\"sk-estimator sk-toggleable\"><input class=\"sk-toggleable__control sk-hidden--visually\" id=\"sk-estimator-id-25\" type=\"checkbox\" checked><label for=\"sk-estimator-id-25\" class=\"sk-toggleable__label sk-toggleable__label-arrow\">XGBClassifier</label><div class=\"sk-toggleable__content\"><pre>XGBClassifier(base_score=None, booster=None, callbacks=None,\n",
       "              colsample_bylevel=None, colsample_bynode=None,\n",
       "              colsample_bytree=0.5, device=None, early_stopping_rounds=None,\n",
       "              enable_categorical=False, eval_metric=None, feature_types=None,\n",
       "              gamma=None, grow_policy=None, importance_type=None,\n",
       "              interaction_constraints=None, learning_rate=0.01, max_bin=None,\n",
       "              max_cat_threshold=None, max_cat_to_onehot=None,\n",
       "              max_delta_step=None, max_depth=3, max_leaves=None,\n",
       "              min_child_weight=None, missing=nan, monotone_constraints=None,\n",
       "              multi_strategy=None, n_estimators=-1, n_jobs=None,\n",
       "              num_parallel_tree=None, random_state=42, ...)</pre></div></div></div></div></div>"
      ],
      "text/plain": [
       "XGBClassifier(base_score=None, booster=None, callbacks=None,\n",
       "              colsample_bylevel=None, colsample_bynode=None,\n",
       "              colsample_bytree=0.5, device=None, early_stopping_rounds=None,\n",
       "              enable_categorical=False, eval_metric=None, feature_types=None,\n",
       "              gamma=None, grow_policy=None, importance_type=None,\n",
       "              interaction_constraints=None, learning_rate=0.01, max_bin=None,\n",
       "              max_cat_threshold=None, max_cat_to_onehot=None,\n",
       "              max_delta_step=None, max_depth=3, max_leaves=None,\n",
       "              min_child_weight=None, missing=nan, monotone_constraints=None,\n",
       "              multi_strategy=None, n_estimators=-1, n_jobs=None,\n",
       "              num_parallel_tree=None, random_state=42, ...)"
      ]
     },
     "execution_count": 232,
     "metadata": {},
     "output_type": "execute_result"
    }
   ],
   "source": [
    "clf.fit(X_train, y_train)"
   ]
  },
  {
   "cell_type": "code",
   "execution_count": 233,
   "metadata": {},
   "outputs": [
    {
     "name": "stdout",
     "output_type": "stream",
     "text": [
      "              precision    recall  f1-score   support\n",
      "\n",
      "           0       0.98      1.00      0.99     19470\n",
      "           1       0.00      0.00      0.00       330\n",
      "\n",
      "    accuracy                           0.98     19800\n",
      "   macro avg       0.49      0.50      0.50     19800\n",
      "weighted avg       0.97      0.98      0.98     19800\n",
      "\n",
      "[[19470     0]\n",
      " [  330     0]]\n"
     ]
    },
    {
     "name": "stderr",
     "output_type": "stream",
     "text": [
      "/Users/firatkizilboga/Projects/LFD/APS-Failure-Prediction/.venv/lib/python3.11/site-packages/sklearn/metrics/_classification.py:1471: UndefinedMetricWarning: Precision and F-score are ill-defined and being set to 0.0 in labels with no predicted samples. Use `zero_division` parameter to control this behavior.\n",
      "  _warn_prf(average, modifier, msg_start, len(result))\n",
      "/Users/firatkizilboga/Projects/LFD/APS-Failure-Prediction/.venv/lib/python3.11/site-packages/sklearn/metrics/_classification.py:1471: UndefinedMetricWarning: Precision and F-score are ill-defined and being set to 0.0 in labels with no predicted samples. Use `zero_division` parameter to control this behavior.\n",
      "  _warn_prf(average, modifier, msg_start, len(result))\n",
      "/Users/firatkizilboga/Projects/LFD/APS-Failure-Prediction/.venv/lib/python3.11/site-packages/sklearn/metrics/_classification.py:1471: UndefinedMetricWarning: Precision and F-score are ill-defined and being set to 0.0 in labels with no predicted samples. Use `zero_division` parameter to control this behavior.\n",
      "  _warn_prf(average, modifier, msg_start, len(result))\n"
     ]
    }
   ],
   "source": [
    "y_pred = clf.predict(X_test)\n",
    "\n",
    "print(classification_report(y_test, y_pred))\n",
    "\n",
    "print(confusion_matrix(y_test, y_pred))"
   ]
  },
  {
   "cell_type": "markdown",
   "metadata": {},
   "source": [
    "Ops we did not learn anything! Lets try a different approach. Good'ol random forest."
   ]
  },
  {
   "cell_type": "code",
   "execution_count": 234,
   "metadata": {},
   "outputs": [
    {
     "data": {
      "text/html": [
       "<style>#sk-container-id-14 {color: black;}#sk-container-id-14 pre{padding: 0;}#sk-container-id-14 div.sk-toggleable {background-color: white;}#sk-container-id-14 label.sk-toggleable__label {cursor: pointer;display: block;width: 100%;margin-bottom: 0;padding: 0.3em;box-sizing: border-box;text-align: center;}#sk-container-id-14 label.sk-toggleable__label-arrow:before {content: \"▸\";float: left;margin-right: 0.25em;color: #696969;}#sk-container-id-14 label.sk-toggleable__label-arrow:hover:before {color: black;}#sk-container-id-14 div.sk-estimator:hover label.sk-toggleable__label-arrow:before {color: black;}#sk-container-id-14 div.sk-toggleable__content {max-height: 0;max-width: 0;overflow: hidden;text-align: left;background-color: #f0f8ff;}#sk-container-id-14 div.sk-toggleable__content pre {margin: 0.2em;color: black;border-radius: 0.25em;background-color: #f0f8ff;}#sk-container-id-14 input.sk-toggleable__control:checked~div.sk-toggleable__content {max-height: 200px;max-width: 100%;overflow: auto;}#sk-container-id-14 input.sk-toggleable__control:checked~label.sk-toggleable__label-arrow:before {content: \"▾\";}#sk-container-id-14 div.sk-estimator input.sk-toggleable__control:checked~label.sk-toggleable__label {background-color: #d4ebff;}#sk-container-id-14 div.sk-label input.sk-toggleable__control:checked~label.sk-toggleable__label {background-color: #d4ebff;}#sk-container-id-14 input.sk-hidden--visually {border: 0;clip: rect(1px 1px 1px 1px);clip: rect(1px, 1px, 1px, 1px);height: 1px;margin: -1px;overflow: hidden;padding: 0;position: absolute;width: 1px;}#sk-container-id-14 div.sk-estimator {font-family: monospace;background-color: #f0f8ff;border: 1px dotted black;border-radius: 0.25em;box-sizing: border-box;margin-bottom: 0.5em;}#sk-container-id-14 div.sk-estimator:hover {background-color: #d4ebff;}#sk-container-id-14 div.sk-parallel-item::after {content: \"\";width: 100%;border-bottom: 1px solid gray;flex-grow: 1;}#sk-container-id-14 div.sk-label:hover label.sk-toggleable__label {background-color: #d4ebff;}#sk-container-id-14 div.sk-serial::before {content: \"\";position: absolute;border-left: 1px solid gray;box-sizing: border-box;top: 0;bottom: 0;left: 50%;z-index: 0;}#sk-container-id-14 div.sk-serial {display: flex;flex-direction: column;align-items: center;background-color: white;padding-right: 0.2em;padding-left: 0.2em;position: relative;}#sk-container-id-14 div.sk-item {position: relative;z-index: 1;}#sk-container-id-14 div.sk-parallel {display: flex;align-items: stretch;justify-content: center;background-color: white;position: relative;}#sk-container-id-14 div.sk-item::before, #sk-container-id-14 div.sk-parallel-item::before {content: \"\";position: absolute;border-left: 1px solid gray;box-sizing: border-box;top: 0;bottom: 0;left: 50%;z-index: -1;}#sk-container-id-14 div.sk-parallel-item {display: flex;flex-direction: column;z-index: 1;position: relative;background-color: white;}#sk-container-id-14 div.sk-parallel-item:first-child::after {align-self: flex-end;width: 50%;}#sk-container-id-14 div.sk-parallel-item:last-child::after {align-self: flex-start;width: 50%;}#sk-container-id-14 div.sk-parallel-item:only-child::after {width: 0;}#sk-container-id-14 div.sk-dashed-wrapped {border: 1px dashed gray;margin: 0 0.4em 0.5em 0.4em;box-sizing: border-box;padding-bottom: 0.4em;background-color: white;}#sk-container-id-14 div.sk-label label {font-family: monospace;font-weight: bold;display: inline-block;line-height: 1.2em;}#sk-container-id-14 div.sk-label-container {text-align: center;}#sk-container-id-14 div.sk-container {/* jupyter's `normalize.less` sets `[hidden] { display: none; }` but bootstrap.min.css set `[hidden] { display: none !important; }` so we also need the `!important` here to be able to override the default hidden behavior on the sphinx rendered scikit-learn.org. See: https://github.com/scikit-learn/scikit-learn/issues/21755 */display: inline-block !important;position: relative;}#sk-container-id-14 div.sk-text-repr-fallback {display: none;}</style><div id=\"sk-container-id-14\" class=\"sk-top-container\"><div class=\"sk-text-repr-fallback\"><pre>RandomForestClassifier(class_weight=&#x27;balanced&#x27;, max_depth=9, n_estimators=1000,\n",
       "                       random_state=42)</pre><b>In a Jupyter environment, please rerun this cell to show the HTML representation or trust the notebook. <br />On GitHub, the HTML representation is unable to render, please try loading this page with nbviewer.org.</b></div><div class=\"sk-container\" hidden><div class=\"sk-item\"><div class=\"sk-estimator sk-toggleable\"><input class=\"sk-toggleable__control sk-hidden--visually\" id=\"sk-estimator-id-26\" type=\"checkbox\" checked><label for=\"sk-estimator-id-26\" class=\"sk-toggleable__label sk-toggleable__label-arrow\">RandomForestClassifier</label><div class=\"sk-toggleable__content\"><pre>RandomForestClassifier(class_weight=&#x27;balanced&#x27;, max_depth=9, n_estimators=1000,\n",
       "                       random_state=42)</pre></div></div></div></div></div>"
      ],
      "text/plain": [
       "RandomForestClassifier(class_weight='balanced', max_depth=9, n_estimators=1000,\n",
       "                       random_state=42)"
      ]
     },
     "execution_count": 234,
     "metadata": {},
     "output_type": "execute_result"
    }
   ],
   "source": [
    "#random forest\n",
    "from sklearn.ensemble import RandomForestClassifier\n",
    "\n",
    "clf = RandomForestClassifier(n_estimators=1000, max_depth=9, random_state=42, class_weight='balanced')\n",
    "clf.fit(X_train, y_train)\n"
   ]
  },
  {
   "cell_type": "code",
   "execution_count": 236,
   "metadata": {},
   "outputs": [
    {
     "name": "stdout",
     "output_type": "stream",
     "text": [
      "              precision    recall  f1-score   support\n",
      "\n",
      "           0       1.00      0.98      0.99     19470\n",
      "           1       0.41      0.90      0.56       330\n",
      "\n",
      "    accuracy                           0.98     19800\n",
      "   macro avg       0.70      0.94      0.77     19800\n",
      "weighted avg       0.99      0.98      0.98     19800\n",
      "\n",
      "[[19040   430]\n",
      " [   33   297]]\n"
     ]
    }
   ],
   "source": [
    "y_pred = clf.predict(X_test)\n",
    "\n",
    "print(classification_report(y_test, y_pred))\n",
    "\n",
    "print(confusion_matrix(y_test, y_pred))"
   ]
  },
  {
   "cell_type": "code",
   "execution_count": 241,
   "metadata": {},
   "outputs": [
    {
     "name": "stdout",
     "output_type": "stream",
     "text": [
      "              precision    recall  f1-score   support\n",
      "\n",
      "           0       1.00      0.94      0.97     19470\n",
      "           1       0.21      0.97      0.34       330\n",
      "\n",
      "    accuracy                           0.94     19800\n",
      "   macro avg       0.60      0.95      0.65     19800\n",
      "weighted avg       0.99      0.94      0.96     19800\n",
      "\n",
      "[[18237  1233]\n",
      " [   11   319]]\n"
     ]
    }
   ],
   "source": [
    "#random forest\n",
    "from sklearn.ensemble import RandomForestClassifier\n",
    "\n",
    "clf = RandomForestClassifier(n_estimators=1000, max_depth=6, random_state=42, class_weight={0: 1, 1: 500})\n",
    "clf.fit(X_train, y_train)\n",
    "\n",
    "y_pred = clf.predict(X_test)\n",
    "\n",
    "print(classification_report(y_test, y_pred))\n",
    "\n",
    "print(confusion_matrix(y_test, y_pred))\n"
   ]
  },
  {
   "cell_type": "markdown",
   "metadata": {},
   "source": [
    "Bam! great result!"
   ]
  },
  {
   "cell_type": "code",
   "execution_count": 246,
   "metadata": {},
   "outputs": [],
   "source": [
    "#use test set to predict\n",
    "X = test_df[num_cat_cols].replace('na', 0).astype(float).values\n",
    "X_transformed = StandardScaler().fit_transform(X)\n",
    "y_pred_ = clf.predict(X_transformed)\n",
    "\n",
    "output = pd.DataFrame({'id': np.arange(1,len(y_pred_.reshape(-1))+1),\"class\": labelize(y_pred_.reshape(-1))})\n",
    "output.to_csv('categorical+relevant numerical values ln e transformations standardized random forest witjh 1:500 biasing.csv', index=False)\n"
   ]
  },
  {
   "cell_type": "markdown",
   "metadata": {},
   "source": [
    "Broke our record! Let's experiment with class weight."
   ]
  },
  {
   "cell_type": "code",
   "execution_count": 250,
   "metadata": {},
   "outputs": [
    {
     "name": "stdout",
     "output_type": "stream",
     "text": [
      "              precision    recall  f1-score   support\n",
      "\n",
      "           0       1.00      0.94      0.97     19470\n",
      "           1       0.23      0.96      0.37       330\n",
      "\n",
      "    accuracy                           0.94     19800\n",
      "   macro avg       0.61      0.95      0.67     19800\n",
      "weighted avg       0.99      0.94      0.96     19800\n",
      "\n",
      "[[18389  1081]\n",
      " [   14   316]]\n"
     ]
    }
   ],
   "source": [
    "#random forest\n",
    "from sklearn.ensemble import RandomForestClassifier\n",
    "\n",
    "clf = RandomForestClassifier(n_estimators=1000, max_depth=6, random_state=42, class_weight={0: 1, 1: 250})\n",
    "clf.fit(X_train, y_train)\n",
    "\n",
    "y_pred = clf.predict(X_test)\n",
    "\n",
    "print(classification_report(y_test, y_pred))\n",
    "\n",
    "print(confusion_matrix(y_test, y_pred))\n",
    "\n",
    "\n",
    "#use test set to predict\n",
    "X = test_df[num_cat_cols].replace('na', 0).astype(float).values\n",
    "X_transformed = StandardScaler().fit_transform(X)\n",
    "y_pred_ = clf.predict(X_transformed)\n",
    "\n",
    "output = pd.DataFrame({'id': np.arange(1,len(y_pred_.reshape(-1))+1),\"class\": labelize(y_pred_.reshape(-1))})\n",
    "output.to_csv('categorical+relevant numerical values ln e transformations standardized random forest witjh 1:250 biasing.csv', index=False)"
   ]
  },
  {
   "cell_type": "code",
   "execution_count": 252,
   "metadata": {},
   "outputs": [],
   "source": [
    "output = pd.DataFrame({'id': np.arange(1,len(y_pred_.reshape(-1))+1),\"class\": labelize(y_pred_.reshape(-1))})\n",
    "output.to_csv('categorical+relevant numerical values ln e transformations standardized random forest witjh 1:250 biasing.csv', index=False)"
   ]
  },
  {
   "cell_type": "code",
   "execution_count": 256,
   "metadata": {},
   "outputs": [],
   "source": [
    "#use test set to predict\n",
    "\n",
    "X = test_df[num_cat_cols].replace('na', 0).astype(float).values\n",
    "\n",
    "X_transformed = StandardScaler().fit_transform(X)\n",
    "\n",
    "y_pred_ = clf.predict(X_transformed)\n",
    "\n",
    "output = pd.DataFrame({'id': np.arange(1,len(y_pred_.reshape(-1))+1),\"class\": labelize(y_pred_.reshape(-1))})\n",
    "output.to_csv('categorical+relevant numerical values ln e transformations standardized random forest with 1:500 biasing entire dataset.csv', index=False)"
   ]
  },
  {
   "cell_type": "markdown",
   "metadata": {},
   "source": [
    "Initial result was the best."
   ]
  },
  {
   "cell_type": "code",
   "execution_count": 254,
   "metadata": {},
   "outputs": [
    {
     "name": "stdout",
     "output_type": "stream",
     "text": [
      "              precision    recall  f1-score   support\n",
      "\n",
      "           0       0.99      0.98      0.99     19470\n",
      "           1       0.33      0.60      0.43       330\n",
      "\n",
      "    accuracy                           0.97     19800\n",
      "   macro avg       0.66      0.79      0.71     19800\n",
      "weighted avg       0.98      0.97      0.98     19800\n",
      "\n",
      "[[19075   395]\n",
      " [  133   197]]\n"
     ]
    }
   ],
   "source": [
    "#train an svm\n",
    "from sklearn.svm import SVC\n",
    "\n",
    "clf = SVC(gamma='auto', class_weight={0: 1, 1: 500}, degree=4)\n",
    "clf.fit(X_train, y_train)\n",
    "\n",
    "y_pred = clf.predict(X_test)\n",
    "\n",
    "print(classification_report(y_test, y_pred))\n",
    "\n",
    "print(confusion_matrix(y_test, y_pred))"
   ]
  },
  {
   "cell_type": "markdown",
   "metadata": {},
   "source": [
    "bad performance by svm lets stick to trees"
   ]
  },
  {
   "cell_type": "code",
   "execution_count": 307,
   "metadata": {},
   "outputs": [
    {
     "name": "stdout",
     "output_type": "stream",
     "text": [
      "Fitting 3 folds for each of 45 candidates, totalling 135 fits\n"
     ]
    },
    {
     "name": "stdout",
     "output_type": "stream",
     "text": [
      "[CV 3/3] END class_weight={0: 1, 1: 1}, max_depth=3, random_state=42;, score=-111160.000 total time=   7.6s\n",
      "[CV 2/3] END class_weight={0: 1, 1: 1}, max_depth=3, random_state=42;, score=-112680.000 total time=   8.0s\n",
      "[CV 1/3] END class_weight={0: 1, 1: 1}, max_depth=3, random_state=42;, score=-119090.000 total time=   8.3s\n",
      "[CV 1/3] END class_weight={0: 1, 1: 1}, max_depth=6, random_state=42;, score=-77690.000 total time=  16.3s\n",
      "[CV 2/3] END class_weight={0: 1, 1: 1}, max_depth=6, random_state=42;, score=-76730.000 total time=  16.6s\n",
      "[CV 3/3] END class_weight={0: 1, 1: 1}, max_depth=6, random_state=42;, score=-72230.000 total time=  16.9s\n",
      "[CV 2/3] END class_weight={0: 1, 1: 1}, max_depth=9, random_state=42;, score=-60760.000 total time=  24.6s\n",
      "[CV 1/3] END class_weight={0: 1, 1: 1}, max_depth=9, random_state=42;, score=-63210.000 total time=  24.8s\n",
      "[CV 3/3] END class_weight={0: 1, 1: 1}, max_depth=9, random_state=42;, score=-64810.000 total time=  25.9s\n",
      "[CV 1/3] END class_weight={0: 1, 1: 5}, max_depth=3, random_state=42;, score=-38160.000 total time=   9.0s\n",
      "[CV 2/3] END class_weight={0: 1, 1: 1}, max_depth=12, random_state=42;, score=-56300.000 total time=  33.7s\n",
      "[CV 1/3] END class_weight={0: 1, 1: 1}, max_depth=12, random_state=42;, score=-51230.000 total time=  34.1s\n",
      "[CV 3/3] END class_weight={0: 1, 1: 5}, max_depth=3, random_state=42;, score=-30270.000 total time=   8.9s\n",
      "[CV 2/3] END class_weight={0: 1, 1: 5}, max_depth=3, random_state=42;, score=-31790.000 total time=   9.4s\n",
      "[CV 3/3] END class_weight={0: 1, 1: 1}, max_depth=12, random_state=42;, score=-56270.000 total time=  32.8s\n",
      "[CV 2/3] END class_weight={0: 1, 1: 1}, max_depth=15, random_state=42;, score=-55780.000 total time=  38.6s\n",
      "[CV 1/3] END class_weight={0: 1, 1: 1}, max_depth=15, random_state=42;, score=-51270.000 total time=  39.2s\n",
      "[CV 1/3] END class_weight={0: 1, 1: 5}, max_depth=6, random_state=42;, score=-31800.000 total time=  15.2s\n",
      "[CV 2/3] END class_weight={0: 1, 1: 5}, max_depth=6, random_state=42;, score=-33760.000 total time=  15.2s\n",
      "[CV 3/3] END class_weight={0: 1, 1: 5}, max_depth=6, random_state=42;, score=-36120.000 total time=  15.1s\n",
      "[CV 3/3] END class_weight={0: 1, 1: 1}, max_depth=15, random_state=42;, score=-54800.000 total time=  37.7s\n",
      "[CV 1/3] END class_weight={0: 1, 1: 5}, max_depth=9, random_state=42;, score=-41440.000 total time=  21.8s\n",
      "[CV 2/3] END class_weight={0: 1, 1: 5}, max_depth=9, random_state=42;, score=-43750.000 total time=  24.1s\n",
      "[CV 3/3] END class_weight={0: 1, 1: 5}, max_depth=9, random_state=42;, score=-48820.000 total time=  26.3s\n",
      "[CV 1/3] END class_weight={0: 1, 1: 10}, max_depth=3, random_state=42;, score=-29270.000 total time=  10.1s\n",
      "[CV 1/3] END class_weight={0: 1, 1: 5}, max_depth=12, random_state=42;, score=-50530.000 total time=  33.0s\n",
      "[CV 3/3] END class_weight={0: 1, 1: 5}, max_depth=12, random_state=42;, score=-55880.000 total time=  33.2s\n",
      "[CV 2/3] END class_weight={0: 1, 1: 5}, max_depth=12, random_state=42;, score=-50380.000 total time=  34.1s\n",
      "[CV 2/3] END class_weight={0: 1, 1: 10}, max_depth=3, random_state=42;, score=-26820.000 total time=   9.3s\n",
      "[CV 3/3] END class_weight={0: 1, 1: 10}, max_depth=3, random_state=42;, score=-23130.000 total time=   8.9s\n",
      "[CV 1/3] END class_weight={0: 1, 1: 5}, max_depth=15, random_state=42;, score=-52860.000 total time=  39.5s\n",
      "[CV 2/3] END class_weight={0: 1, 1: 5}, max_depth=15, random_state=42;, score=-56270.000 total time=  40.3s\n",
      "[CV 3/3] END class_weight={0: 1, 1: 5}, max_depth=15, random_state=42;, score=-62280.000 total time=  40.7s\n",
      "[CV 1/3] END class_weight={0: 1, 1: 10}, max_depth=6, random_state=42;, score=-28680.000 total time=  17.9s\n",
      "[CV 2/3] END class_weight={0: 1, 1: 10}, max_depth=6, random_state=42;, score=-26220.000 total time=  18.5s\n",
      "[CV 3/3] END class_weight={0: 1, 1: 10}, max_depth=6, random_state=42;, score=-27140.000 total time=  18.4s\n",
      "[CV 1/3] END class_weight={0: 1, 1: 10}, max_depth=9, random_state=42;, score=-35370.000 total time=  26.1s\n",
      "[CV 2/3] END class_weight={0: 1, 1: 10}, max_depth=9, random_state=42;, score=-35380.000 total time=  27.3s\n",
      "[CV 3/3] END class_weight={0: 1, 1: 10}, max_depth=9, random_state=42;, score=-41260.000 total time=  26.0s\n",
      "[CV 1/3] END class_weight={0: 1, 1: 25}, max_depth=3, random_state=42;, score=-21970.000 total time=   8.5s\n",
      "[CV 2/3] END class_weight={0: 1, 1: 25}, max_depth=3, random_state=42;, score=-23170.000 total time=   9.2s\n",
      "[CV 1/3] END class_weight={0: 1, 1: 10}, max_depth=12, random_state=42;, score=-45410.000 total time=  31.7s\n",
      "[CV 3/3] END class_weight={0: 1, 1: 25}, max_depth=3, random_state=42;, score=-20620.000 total time=   8.5s\n",
      "[CV 3/3] END class_weight={0: 1, 1: 10}, max_depth=12, random_state=42;, score=-51770.000 total time=  30.3s\n",
      "[CV 2/3] END class_weight={0: 1, 1: 10}, max_depth=12, random_state=42;, score=-46700.000 total time=  31.5s\n",
      "[CV 1/3] END class_weight={0: 1, 1: 10}, max_depth=15, random_state=42;, score=-51070.000 total time=  33.9s\n",
      "[CV 2/3] END class_weight={0: 1, 1: 10}, max_depth=15, random_state=42;, score=-52970.000 total time=  33.8s\n",
      "[CV 1/3] END class_weight={0: 1, 1: 25}, max_depth=6, random_state=42;, score=-26870.000 total time=  16.2s\n",
      "[CV 3/3] END class_weight={0: 1, 1: 10}, max_depth=15, random_state=42;, score=-57510.000 total time=  33.2s\n",
      "[CV 2/3] END class_weight={0: 1, 1: 25}, max_depth=6, random_state=42;, score=-24350.000 total time=  16.5s\n",
      "[CV 3/3] END class_weight={0: 1, 1: 25}, max_depth=6, random_state=42;, score=-19250.000 total time=  16.3s\n",
      "[CV 2/3] END class_weight={0: 1, 1: 25}, max_depth=9, random_state=42;, score=-28210.000 total time=  23.4s\n",
      "[CV 1/3] END class_weight={0: 1, 1: 25}, max_depth=9, random_state=42;, score=-32620.000 total time=  24.4s\n",
      "[CV 3/3] END class_weight={0: 1, 1: 25}, max_depth=9, random_state=42;, score=-24960.000 total time=  24.0s\n",
      "[CV 1/3] END class_weight={0: 1, 1: 50}, max_depth=3, random_state=42;, score=-18690.000 total time=   8.6s\n",
      "[CV 1/3] END class_weight={0: 1, 1: 25}, max_depth=12, random_state=42;, score=-42560.000 total time=  28.9s\n",
      "[CV 2/3] END class_weight={0: 1, 1: 50}, max_depth=3, random_state=42;, score=-21100.000 total time=   9.1s\n",
      "[CV 2/3] END class_weight={0: 1, 1: 25}, max_depth=12, random_state=42;, score=-35160.000 total time=  27.9s\n",
      "[CV 3/3] END class_weight={0: 1, 1: 50}, max_depth=3, random_state=42;, score=-19740.000 total time=   8.3s\n",
      "[CV 3/3] END class_weight={0: 1, 1: 25}, max_depth=12, random_state=42;, score=-38440.000 total time=  27.9s\n",
      "[CV 1/3] END class_weight={0: 1, 1: 25}, max_depth=15, random_state=42;, score=-47580.000 total time=  29.3s\n",
      "[CV 2/3] END class_weight={0: 1, 1: 25}, max_depth=15, random_state=42;, score=-43580.000 total time=  28.0s\n",
      "[CV 1/3] END class_weight={0: 1, 1: 50}, max_depth=6, random_state=42;, score=-21060.000 total time=  15.2s\n",
      "[CV 3/3] END class_weight={0: 1, 1: 25}, max_depth=15, random_state=42;, score=-46480.000 total time=  27.5s\n",
      "[CV 2/3] END class_weight={0: 1, 1: 50}, max_depth=6, random_state=42;, score=-22460.000 total time=  14.6s\n",
      "[CV 3/3] END class_weight={0: 1, 1: 50}, max_depth=6, random_state=42;, score=-16810.000 total time=  14.4s\n",
      "[CV 2/3] END class_weight={0: 1, 1: 50}, max_depth=9, random_state=42;, score=-25300.000 total time=  19.8s\n",
      "[CV 1/3] END class_weight={0: 1, 1: 50}, max_depth=9, random_state=42;, score=-32110.000 total time=  20.6s\n",
      "[CV 3/3] END class_weight={0: 1, 1: 50}, max_depth=9, random_state=42;, score=-20060.000 total time=  19.7s\n",
      "[CV 1/3] END class_weight={0: 1, 1: 50}, max_depth=12, random_state=42;, score=-38360.000 total time=  22.5s\n",
      "[CV 1/3] END class_weight={0: 1, 1: 100}, max_depth=3, random_state=42;, score=-19220.000 total time=   7.7s\n",
      "[CV 2/3] END class_weight={0: 1, 1: 100}, max_depth=3, random_state=42;, score=-20060.000 total time=   7.6s\n",
      "[CV 2/3] END class_weight={0: 1, 1: 50}, max_depth=12, random_state=42;, score=-31540.000 total time=  22.4s\n",
      "[CV 3/3] END class_weight={0: 1, 1: 50}, max_depth=12, random_state=42;, score=-31410.000 total time=  23.0s\n",
      "[CV 3/3] END class_weight={0: 1, 1: 100}, max_depth=3, random_state=42;, score=-20610.000 total time=   7.9s\n",
      "[CV 1/3] END class_weight={0: 1, 1: 50}, max_depth=15, random_state=42;, score=-43950.000 total time=  23.8s\n",
      "[CV 2/3] END class_weight={0: 1, 1: 50}, max_depth=15, random_state=42;, score=-35490.000 total time=  23.6s\n",
      "[CV 1/3] END class_weight={0: 1, 1: 100}, max_depth=6, random_state=42;, score=-19140.000 total time=  16.8s\n",
      "[CV 3/3] END class_weight={0: 1, 1: 50}, max_depth=15, random_state=42;, score=-39240.000 total time=  26.2s\n",
      "[CV 2/3] END class_weight={0: 1, 1: 100}, max_depth=6, random_state=42;, score=-22360.000 total time=  17.1s\n",
      "[CV 3/3] END class_weight={0: 1, 1: 100}, max_depth=6, random_state=42;, score=-16260.000 total time=  17.5s\n",
      "[CV 2/3] END class_weight={0: 1, 1: 100}, max_depth=9, random_state=42;, score=-23520.000 total time=  21.3s\n",
      "[CV 1/3] END class_weight={0: 1, 1: 100}, max_depth=9, random_state=42;, score=-27280.000 total time=  21.7s\n",
      "[CV 3/3] END class_weight={0: 1, 1: 100}, max_depth=9, random_state=42;, score=-20240.000 total time=  21.9s\n",
      "[CV 1/3] END class_weight={0: 1, 1: 100}, max_depth=12, random_state=42;, score=-36490.000 total time=  22.5s\n",
      "[CV 1/3] END class_weight={0: 1, 1: 500}, max_depth=3, random_state=42;, score=-24280.000 total time=   8.4s\n",
      "[CV 2/3] END class_weight={0: 1, 1: 100}, max_depth=12, random_state=42;, score=-27290.000 total time=  21.2s\n",
      "[CV 2/3] END class_weight={0: 1, 1: 500}, max_depth=3, random_state=42;, score=-27690.000 total time=   8.6s\n",
      "[CV 3/3] END class_weight={0: 1, 1: 500}, max_depth=3, random_state=42;, score=-23940.000 total time=   9.1s\n",
      "[CV 1/3] END class_weight={0: 1, 1: 100}, max_depth=15, random_state=42;, score=-38000.000 total time=  21.7s\n",
      "[CV 3/3] END class_weight={0: 1, 1: 100}, max_depth=12, random_state=42;, score=-23790.000 total time=  22.4s\n",
      "[CV 2/3] END class_weight={0: 1, 1: 100}, max_depth=15, random_state=42;, score=-31560.000 total time=  20.9s\n",
      "[CV 3/3] END class_weight={0: 1, 1: 100}, max_depth=15, random_state=42;, score=-30380.000 total time=  22.4s\n",
      "[CV 1/3] END class_weight={0: 1, 1: 500}, max_depth=6, random_state=42;, score=-17590.000 total time=  13.7s\n",
      "[CV 3/3] END class_weight={0: 1, 1: 500}, max_depth=6, random_state=42;, score=-19110.000 total time=  13.0s\n",
      "[CV 2/3] END class_weight={0: 1, 1: 500}, max_depth=6, random_state=42;, score=-19500.000 total time=  13.4s\n",
      "[CV 2/3] END class_weight={0: 1, 1: 500}, max_depth=9, random_state=42;, score=-23170.000 total time=  14.2s\n",
      "[CV 1/3] END class_weight={0: 1, 1: 500}, max_depth=9, random_state=42;, score=-22320.000 total time=  14.7s\n",
      "[CV 3/3] END class_weight={0: 1, 1: 500}, max_depth=9, random_state=42;, score=-19550.000 total time=  15.3s\n",
      "[CV 1/3] END class_weight={0: 1, 1: 500}, max_depth=12, random_state=42;, score=-25840.000 total time=  14.7s\n",
      "[CV 1/3] END class_weight={0: 1, 1: 1000}, max_depth=3, random_state=42;, score=-29630.000 total time=   7.5s\n",
      "[CV 2/3] END class_weight={0: 1, 1: 1000}, max_depth=3, random_state=42;, score=-31590.000 total time=   7.3s\n",
      "[CV 2/3] END class_weight={0: 1, 1: 500}, max_depth=12, random_state=42;, score=-26110.000 total time=  14.7s\n",
      "[CV 3/3] END class_weight={0: 1, 1: 1000}, max_depth=3, random_state=42;, score=-30530.000 total time=   7.3s\n",
      "[CV 3/3] END class_weight={0: 1, 1: 500}, max_depth=12, random_state=42;, score=-20590.000 total time=  15.3s\n",
      "[CV 1/3] END class_weight={0: 1, 1: 500}, max_depth=15, random_state=42;, score=-32250.000 total time=  15.0s\n",
      "[CV 2/3] END class_weight={0: 1, 1: 500}, max_depth=15, random_state=42;, score=-26150.000 total time=  15.1s\n",
      "[CV 3/3] END class_weight={0: 1, 1: 500}, max_depth=15, random_state=42;, score=-24010.000 total time=  15.6s\n",
      "[CV 1/3] END class_weight={0: 1, 1: 1000}, max_depth=6, random_state=42;, score=-18020.000 total time=  12.6s\n",
      "[CV 2/3] END class_weight={0: 1, 1: 1000}, max_depth=6, random_state=42;, score=-20490.000 total time=  12.4s\n",
      "[CV 3/3] END class_weight={0: 1, 1: 1000}, max_depth=6, random_state=42;, score=-18490.000 total time=  12.3s\n",
      "[CV 1/3] END class_weight={0: 1, 1: 1000}, max_depth=9, random_state=42;, score=-22680.000 total time=  13.3s\n",
      "[CV 2/3] END class_weight={0: 1, 1: 1000}, max_depth=9, random_state=42;, score=-21430.000 total time=  13.5s\n",
      "[CV 3/3] END class_weight={0: 1, 1: 1000}, max_depth=9, random_state=42;, score=-21440.000 total time=  14.0s\n",
      "[CV 1/3] END class_weight={0: 1, 1: 1000}, max_depth=12, random_state=42;, score=-23160.000 total time=  14.1s\n",
      "[CV 2/3] END class_weight={0: 1, 1: 1000}, max_depth=12, random_state=42;, score=-24070.000 total time=  14.2s\n",
      "[CV 1/3] END class_weight={0: 1, 1: 2000}, max_depth=3, random_state=42;, score=-38860.000 total time=   8.1s\n",
      "[CV 3/3] END class_weight={0: 1, 1: 2000}, max_depth=3, random_state=42;, score=-39360.000 total time=   7.9s\n",
      "[CV 2/3] END class_weight={0: 1, 1: 2000}, max_depth=3, random_state=42;, score=-35710.000 total time=   8.1s\n",
      "[CV 3/3] END class_weight={0: 1, 1: 1000}, max_depth=12, random_state=42;, score=-22430.000 total time=  15.1s\n",
      "[CV 1/3] END class_weight={0: 1, 1: 1000}, max_depth=15, random_state=42;, score=-27380.000 total time=  15.0s\n",
      "[CV 2/3] END class_weight={0: 1, 1: 1000}, max_depth=15, random_state=42;, score=-25610.000 total time=  15.4s\n",
      "[CV 3/3] END class_weight={0: 1, 1: 1000}, max_depth=15, random_state=42;, score=-22290.000 total time=  15.8s\n",
      "[CV 1/3] END class_weight={0: 1, 1: 2000}, max_depth=6, random_state=42;, score=-18920.000 total time=  12.3s\n",
      "[CV 2/3] END class_weight={0: 1, 1: 2000}, max_depth=6, random_state=42;, score=-21260.000 total time=  12.8s\n",
      "[CV 3/3] END class_weight={0: 1, 1: 2000}, max_depth=6, random_state=42;, score=-19300.000 total time=  12.8s\n",
      "[CV 1/3] END class_weight={0: 1, 1: 2000}, max_depth=9, random_state=42;, score=-22390.000 total time=  13.2s\n",
      "[CV 2/3] END class_weight={0: 1, 1: 2000}, max_depth=9, random_state=42;, score=-19990.000 total time=  13.5s\n",
      "[CV 3/3] END class_weight={0: 1, 1: 2000}, max_depth=9, random_state=42;, score=-22040.000 total time=  13.1s\n",
      "[CV 1/3] END class_weight={0: 1, 1: 2000}, max_depth=12, random_state=42;, score=-23450.000 total time=  13.4s\n",
      "[CV 2/3] END class_weight={0: 1, 1: 2000}, max_depth=12, random_state=42;, score=-24120.000 total time=  12.9s\n",
      "[CV 3/3] END class_weight={0: 1, 1: 2000}, max_depth=12, random_state=42;, score=-22290.000 total time=  12.4s\n",
      "[CV 1/3] END class_weight={0: 1, 1: 2000}, max_depth=15, random_state=42;, score=-26540.000 total time=  11.7s\n",
      "[CV 2/3] END class_weight={0: 1, 1: 2000}, max_depth=15, random_state=42;, score=-24850.000 total time=  11.0s\n",
      "[CV 3/3] END class_weight={0: 1, 1: 2000}, max_depth=15, random_state=42;, score=-23160.000 total time=  10.8s\n"
     ]
    },
    {
     "data": {
      "text/plain": [
       "{'class_weight': {0: 1, 1: 500}, 'max_depth': 6, 'random_state': 42}"
      ]
     },
     "execution_count": 307,
     "metadata": {},
     "output_type": "execute_result"
    }
   ],
   "source": [
    "# lets hyperparameter tune the Random Forest\n",
    "\n",
    "from sklearn.model_selection import GridSearchCV\n",
    "\n",
    "param_grid = {\n",
    "    'max_depth': [3, 6, 9, 12, 15],\n",
    "    'class_weight': [ {0: 1, 1: 1}, {0: 1, 1: 5}, {0: 1, 1: 10},{0: 1, 1: 25},{0: 1, 1: 50}, {0: 1, 1: 100} ,{0: 1, 1: 500}, {0: 1, 1: 1000}, {0: 1, 1: 2000}],\n",
    "    'random_state': [42]\n",
    "}\n",
    "\n",
    "clf = RandomForestClassifier()\n",
    "\n",
    "grid_search = GridSearchCV(\n",
    "    estimator=clf,\n",
    "    param_grid=param_grid,\n",
    "    scoring=custom_scorer,\n",
    "    cv=3,  # Number of cross-validation folds (3-fold cross-validation)\n",
    "    verbose=3,\n",
    "    n_jobs=-1  # Use all available cores\n",
    ")\n",
    "\n",
    "grid_search.fit(X_transformed, Y)\n",
    "\n",
    "grid_search.best_score_\n",
    "\n",
    "grid_search.best_params_\n"
   ]
  },
  {
   "cell_type": "code",
   "execution_count": 309,
   "metadata": {},
   "outputs": [
    {
     "ename": "KeyboardInterrupt",
     "evalue": "",
     "output_type": "error",
     "traceback": [
      "\u001b[0;31m---------------------------------------------------------------------------\u001b[0m",
      "\u001b[0;31mKeyboardInterrupt\u001b[0m                         Traceback (most recent call last)",
      "\u001b[1;32m/Users/firatkizilboga/Projects/LFD/APS-Failure-Prediction/EDA & Models.ipynb Cell 92\u001b[0m line \u001b[0;36m8\n\u001b[1;32m      <a href='vscode-notebook-cell:/Users/firatkizilboga/Projects/LFD/APS-Failure-Prediction/EDA%20%26%20Models.ipynb#Y230sZmlsZQ%3D%3D?line=0'>1</a>\u001b[0m \u001b[39m# train a random forest with the best params\u001b[39;00m\n\u001b[1;32m      <a href='vscode-notebook-cell:/Users/firatkizilboga/Projects/LFD/APS-Failure-Prediction/EDA%20%26%20Models.ipynb#Y230sZmlsZQ%3D%3D?line=2'>3</a>\u001b[0m clf \u001b[39m=\u001b[39m RandomForestClassifier(\n\u001b[1;32m      <a href='vscode-notebook-cell:/Users/firatkizilboga/Projects/LFD/APS-Failure-Prediction/EDA%20%26%20Models.ipynb#Y230sZmlsZQ%3D%3D?line=3'>4</a>\u001b[0m     \u001b[39m*\u001b[39m\u001b[39m*\u001b[39mgrid_search\u001b[39m.\u001b[39mbest_params_,\n\u001b[1;32m      <a href='vscode-notebook-cell:/Users/firatkizilboga/Projects/LFD/APS-Failure-Prediction/EDA%20%26%20Models.ipynb#Y230sZmlsZQ%3D%3D?line=4'>5</a>\u001b[0m     n_estimators\u001b[39m=\u001b[39m\u001b[39m1000\u001b[39m\n\u001b[1;32m      <a href='vscode-notebook-cell:/Users/firatkizilboga/Projects/LFD/APS-Failure-Prediction/EDA%20%26%20Models.ipynb#Y230sZmlsZQ%3D%3D?line=5'>6</a>\u001b[0m )\n\u001b[0;32m----> <a href='vscode-notebook-cell:/Users/firatkizilboga/Projects/LFD/APS-Failure-Prediction/EDA%20%26%20Models.ipynb#Y230sZmlsZQ%3D%3D?line=7'>8</a>\u001b[0m clf\u001b[39m.\u001b[39;49mfit(X_train, y_train)\n\u001b[1;32m     <a href='vscode-notebook-cell:/Users/firatkizilboga/Projects/LFD/APS-Failure-Prediction/EDA%20%26%20Models.ipynb#Y230sZmlsZQ%3D%3D?line=9'>10</a>\u001b[0m y_pred \u001b[39m=\u001b[39m clf\u001b[39m.\u001b[39mpredict(X_test)\n\u001b[1;32m     <a href='vscode-notebook-cell:/Users/firatkizilboga/Projects/LFD/APS-Failure-Prediction/EDA%20%26%20Models.ipynb#Y230sZmlsZQ%3D%3D?line=11'>12</a>\u001b[0m \u001b[39mprint\u001b[39m(classification_report(y_test, y_pred))\n",
      "File \u001b[0;32m~/Projects/LFD/APS-Failure-Prediction/.venv/lib/python3.11/site-packages/sklearn/base.py:1152\u001b[0m, in \u001b[0;36m_fit_context.<locals>.decorator.<locals>.wrapper\u001b[0;34m(estimator, *args, **kwargs)\u001b[0m\n\u001b[1;32m   1145\u001b[0m     estimator\u001b[39m.\u001b[39m_validate_params()\n\u001b[1;32m   1147\u001b[0m \u001b[39mwith\u001b[39;00m config_context(\n\u001b[1;32m   1148\u001b[0m     skip_parameter_validation\u001b[39m=\u001b[39m(\n\u001b[1;32m   1149\u001b[0m         prefer_skip_nested_validation \u001b[39mor\u001b[39;00m global_skip_validation\n\u001b[1;32m   1150\u001b[0m     )\n\u001b[1;32m   1151\u001b[0m ):\n\u001b[0;32m-> 1152\u001b[0m     \u001b[39mreturn\u001b[39;00m fit_method(estimator, \u001b[39m*\u001b[39;49margs, \u001b[39m*\u001b[39;49m\u001b[39m*\u001b[39;49mkwargs)\n",
      "File \u001b[0;32m~/Projects/LFD/APS-Failure-Prediction/.venv/lib/python3.11/site-packages/sklearn/ensemble/_forest.py:456\u001b[0m, in \u001b[0;36mBaseForest.fit\u001b[0;34m(self, X, y, sample_weight)\u001b[0m\n\u001b[1;32m    445\u001b[0m trees \u001b[39m=\u001b[39m [\n\u001b[1;32m    446\u001b[0m     \u001b[39mself\u001b[39m\u001b[39m.\u001b[39m_make_estimator(append\u001b[39m=\u001b[39m\u001b[39mFalse\u001b[39;00m, random_state\u001b[39m=\u001b[39mrandom_state)\n\u001b[1;32m    447\u001b[0m     \u001b[39mfor\u001b[39;00m i \u001b[39min\u001b[39;00m \u001b[39mrange\u001b[39m(n_more_estimators)\n\u001b[1;32m    448\u001b[0m ]\n\u001b[1;32m    450\u001b[0m \u001b[39m# Parallel loop: we prefer the threading backend as the Cython code\u001b[39;00m\n\u001b[1;32m    451\u001b[0m \u001b[39m# for fitting the trees is internally releasing the Python GIL\u001b[39;00m\n\u001b[1;32m    452\u001b[0m \u001b[39m# making threading more efficient than multiprocessing in\u001b[39;00m\n\u001b[1;32m    453\u001b[0m \u001b[39m# that case. However, for joblib 0.12+ we respect any\u001b[39;00m\n\u001b[1;32m    454\u001b[0m \u001b[39m# parallel_backend contexts set at a higher level,\u001b[39;00m\n\u001b[1;32m    455\u001b[0m \u001b[39m# since correctness does not rely on using threads.\u001b[39;00m\n\u001b[0;32m--> 456\u001b[0m trees \u001b[39m=\u001b[39m Parallel(\n\u001b[1;32m    457\u001b[0m     n_jobs\u001b[39m=\u001b[39;49m\u001b[39mself\u001b[39;49m\u001b[39m.\u001b[39;49mn_jobs,\n\u001b[1;32m    458\u001b[0m     verbose\u001b[39m=\u001b[39;49m\u001b[39mself\u001b[39;49m\u001b[39m.\u001b[39;49mverbose,\n\u001b[1;32m    459\u001b[0m     prefer\u001b[39m=\u001b[39;49m\u001b[39m\"\u001b[39;49m\u001b[39mthreads\u001b[39;49m\u001b[39m\"\u001b[39;49m,\n\u001b[1;32m    460\u001b[0m )(\n\u001b[1;32m    461\u001b[0m     delayed(_parallel_build_trees)(\n\u001b[1;32m    462\u001b[0m         t,\n\u001b[1;32m    463\u001b[0m         \u001b[39mself\u001b[39;49m\u001b[39m.\u001b[39;49mbootstrap,\n\u001b[1;32m    464\u001b[0m         X,\n\u001b[1;32m    465\u001b[0m         y,\n\u001b[1;32m    466\u001b[0m         sample_weight,\n\u001b[1;32m    467\u001b[0m         i,\n\u001b[1;32m    468\u001b[0m         \u001b[39mlen\u001b[39;49m(trees),\n\u001b[1;32m    469\u001b[0m         verbose\u001b[39m=\u001b[39;49m\u001b[39mself\u001b[39;49m\u001b[39m.\u001b[39;49mverbose,\n\u001b[1;32m    470\u001b[0m         class_weight\u001b[39m=\u001b[39;49m\u001b[39mself\u001b[39;49m\u001b[39m.\u001b[39;49mclass_weight,\n\u001b[1;32m    471\u001b[0m         n_samples_bootstrap\u001b[39m=\u001b[39;49mn_samples_bootstrap,\n\u001b[1;32m    472\u001b[0m     )\n\u001b[1;32m    473\u001b[0m     \u001b[39mfor\u001b[39;49;00m i, t \u001b[39min\u001b[39;49;00m \u001b[39menumerate\u001b[39;49m(trees)\n\u001b[1;32m    474\u001b[0m )\n\u001b[1;32m    476\u001b[0m \u001b[39m# Collect newly grown trees\u001b[39;00m\n\u001b[1;32m    477\u001b[0m \u001b[39mself\u001b[39m\u001b[39m.\u001b[39mestimators_\u001b[39m.\u001b[39mextend(trees)\n",
      "File \u001b[0;32m~/Projects/LFD/APS-Failure-Prediction/.venv/lib/python3.11/site-packages/sklearn/utils/parallel.py:65\u001b[0m, in \u001b[0;36mParallel.__call__\u001b[0;34m(self, iterable)\u001b[0m\n\u001b[1;32m     60\u001b[0m config \u001b[39m=\u001b[39m get_config()\n\u001b[1;32m     61\u001b[0m iterable_with_config \u001b[39m=\u001b[39m (\n\u001b[1;32m     62\u001b[0m     (_with_config(delayed_func, config), args, kwargs)\n\u001b[1;32m     63\u001b[0m     \u001b[39mfor\u001b[39;00m delayed_func, args, kwargs \u001b[39min\u001b[39;00m iterable\n\u001b[1;32m     64\u001b[0m )\n\u001b[0;32m---> 65\u001b[0m \u001b[39mreturn\u001b[39;00m \u001b[39msuper\u001b[39;49m()\u001b[39m.\u001b[39;49m\u001b[39m__call__\u001b[39;49m(iterable_with_config)\n",
      "File \u001b[0;32m~/Projects/LFD/APS-Failure-Prediction/.venv/lib/python3.11/site-packages/joblib/parallel.py:1863\u001b[0m, in \u001b[0;36mParallel.__call__\u001b[0;34m(self, iterable)\u001b[0m\n\u001b[1;32m   1861\u001b[0m     output \u001b[39m=\u001b[39m \u001b[39mself\u001b[39m\u001b[39m.\u001b[39m_get_sequential_output(iterable)\n\u001b[1;32m   1862\u001b[0m     \u001b[39mnext\u001b[39m(output)\n\u001b[0;32m-> 1863\u001b[0m     \u001b[39mreturn\u001b[39;00m output \u001b[39mif\u001b[39;00m \u001b[39mself\u001b[39m\u001b[39m.\u001b[39mreturn_generator \u001b[39melse\u001b[39;00m \u001b[39mlist\u001b[39m(output)\n\u001b[1;32m   1865\u001b[0m \u001b[39m# Let's create an ID that uniquely identifies the current call. If the\u001b[39;00m\n\u001b[1;32m   1866\u001b[0m \u001b[39m# call is interrupted early and that the same instance is immediately\u001b[39;00m\n\u001b[1;32m   1867\u001b[0m \u001b[39m# re-used, this id will be used to prevent workers that were\u001b[39;00m\n\u001b[1;32m   1868\u001b[0m \u001b[39m# concurrently finalizing a task from the previous call to run the\u001b[39;00m\n\u001b[1;32m   1869\u001b[0m \u001b[39m# callback.\u001b[39;00m\n\u001b[1;32m   1870\u001b[0m \u001b[39mwith\u001b[39;00m \u001b[39mself\u001b[39m\u001b[39m.\u001b[39m_lock:\n",
      "File \u001b[0;32m~/Projects/LFD/APS-Failure-Prediction/.venv/lib/python3.11/site-packages/joblib/parallel.py:1792\u001b[0m, in \u001b[0;36mParallel._get_sequential_output\u001b[0;34m(self, iterable)\u001b[0m\n\u001b[1;32m   1790\u001b[0m \u001b[39mself\u001b[39m\u001b[39m.\u001b[39mn_dispatched_batches \u001b[39m+\u001b[39m\u001b[39m=\u001b[39m \u001b[39m1\u001b[39m\n\u001b[1;32m   1791\u001b[0m \u001b[39mself\u001b[39m\u001b[39m.\u001b[39mn_dispatched_tasks \u001b[39m+\u001b[39m\u001b[39m=\u001b[39m \u001b[39m1\u001b[39m\n\u001b[0;32m-> 1792\u001b[0m res \u001b[39m=\u001b[39m func(\u001b[39m*\u001b[39;49margs, \u001b[39m*\u001b[39;49m\u001b[39m*\u001b[39;49mkwargs)\n\u001b[1;32m   1793\u001b[0m \u001b[39mself\u001b[39m\u001b[39m.\u001b[39mn_completed_tasks \u001b[39m+\u001b[39m\u001b[39m=\u001b[39m \u001b[39m1\u001b[39m\n\u001b[1;32m   1794\u001b[0m \u001b[39mself\u001b[39m\u001b[39m.\u001b[39mprint_progress()\n",
      "File \u001b[0;32m~/Projects/LFD/APS-Failure-Prediction/.venv/lib/python3.11/site-packages/sklearn/utils/parallel.py:127\u001b[0m, in \u001b[0;36m_FuncWrapper.__call__\u001b[0;34m(self, *args, **kwargs)\u001b[0m\n\u001b[1;32m    125\u001b[0m     config \u001b[39m=\u001b[39m {}\n\u001b[1;32m    126\u001b[0m \u001b[39mwith\u001b[39;00m config_context(\u001b[39m*\u001b[39m\u001b[39m*\u001b[39mconfig):\n\u001b[0;32m--> 127\u001b[0m     \u001b[39mreturn\u001b[39;00m \u001b[39mself\u001b[39;49m\u001b[39m.\u001b[39;49mfunction(\u001b[39m*\u001b[39;49margs, \u001b[39m*\u001b[39;49m\u001b[39m*\u001b[39;49mkwargs)\n",
      "File \u001b[0;32m~/Projects/LFD/APS-Failure-Prediction/.venv/lib/python3.11/site-packages/sklearn/ensemble/_forest.py:188\u001b[0m, in \u001b[0;36m_parallel_build_trees\u001b[0;34m(tree, bootstrap, X, y, sample_weight, tree_idx, n_trees, verbose, class_weight, n_samples_bootstrap)\u001b[0m\n\u001b[1;32m    185\u001b[0m     \u001b[39melif\u001b[39;00m class_weight \u001b[39m==\u001b[39m \u001b[39m\"\u001b[39m\u001b[39mbalanced_subsample\u001b[39m\u001b[39m\"\u001b[39m:\n\u001b[1;32m    186\u001b[0m         curr_sample_weight \u001b[39m*\u001b[39m\u001b[39m=\u001b[39m compute_sample_weight(\u001b[39m\"\u001b[39m\u001b[39mbalanced\u001b[39m\u001b[39m\"\u001b[39m, y, indices\u001b[39m=\u001b[39mindices)\n\u001b[0;32m--> 188\u001b[0m     tree\u001b[39m.\u001b[39;49mfit(X, y, sample_weight\u001b[39m=\u001b[39;49mcurr_sample_weight, check_input\u001b[39m=\u001b[39;49m\u001b[39mFalse\u001b[39;49;00m)\n\u001b[1;32m    189\u001b[0m \u001b[39melse\u001b[39;00m:\n\u001b[1;32m    190\u001b[0m     tree\u001b[39m.\u001b[39mfit(X, y, sample_weight\u001b[39m=\u001b[39msample_weight, check_input\u001b[39m=\u001b[39m\u001b[39mFalse\u001b[39;00m)\n",
      "File \u001b[0;32m~/Projects/LFD/APS-Failure-Prediction/.venv/lib/python3.11/site-packages/sklearn/base.py:1152\u001b[0m, in \u001b[0;36m_fit_context.<locals>.decorator.<locals>.wrapper\u001b[0;34m(estimator, *args, **kwargs)\u001b[0m\n\u001b[1;32m   1145\u001b[0m     estimator\u001b[39m.\u001b[39m_validate_params()\n\u001b[1;32m   1147\u001b[0m \u001b[39mwith\u001b[39;00m config_context(\n\u001b[1;32m   1148\u001b[0m     skip_parameter_validation\u001b[39m=\u001b[39m(\n\u001b[1;32m   1149\u001b[0m         prefer_skip_nested_validation \u001b[39mor\u001b[39;00m global_skip_validation\n\u001b[1;32m   1150\u001b[0m     )\n\u001b[1;32m   1151\u001b[0m ):\n\u001b[0;32m-> 1152\u001b[0m     \u001b[39mreturn\u001b[39;00m fit_method(estimator, \u001b[39m*\u001b[39;49margs, \u001b[39m*\u001b[39;49m\u001b[39m*\u001b[39;49mkwargs)\n",
      "File \u001b[0;32m~/Projects/LFD/APS-Failure-Prediction/.venv/lib/python3.11/site-packages/sklearn/tree/_classes.py:959\u001b[0m, in \u001b[0;36mDecisionTreeClassifier.fit\u001b[0;34m(self, X, y, sample_weight, check_input)\u001b[0m\n\u001b[1;32m    928\u001b[0m \u001b[39m@_fit_context\u001b[39m(prefer_skip_nested_validation\u001b[39m=\u001b[39m\u001b[39mTrue\u001b[39;00m)\n\u001b[1;32m    929\u001b[0m \u001b[39mdef\u001b[39;00m \u001b[39mfit\u001b[39m(\u001b[39mself\u001b[39m, X, y, sample_weight\u001b[39m=\u001b[39m\u001b[39mNone\u001b[39;00m, check_input\u001b[39m=\u001b[39m\u001b[39mTrue\u001b[39;00m):\n\u001b[1;32m    930\u001b[0m \u001b[39m    \u001b[39m\u001b[39m\"\"\"Build a decision tree classifier from the training set (X, y).\u001b[39;00m\n\u001b[1;32m    931\u001b[0m \n\u001b[1;32m    932\u001b[0m \u001b[39m    Parameters\u001b[39;00m\n\u001b[0;32m   (...)\u001b[0m\n\u001b[1;32m    956\u001b[0m \u001b[39m        Fitted estimator.\u001b[39;00m\n\u001b[1;32m    957\u001b[0m \u001b[39m    \"\"\"\u001b[39;00m\n\u001b[0;32m--> 959\u001b[0m     \u001b[39msuper\u001b[39;49m()\u001b[39m.\u001b[39;49m_fit(\n\u001b[1;32m    960\u001b[0m         X,\n\u001b[1;32m    961\u001b[0m         y,\n\u001b[1;32m    962\u001b[0m         sample_weight\u001b[39m=\u001b[39;49msample_weight,\n\u001b[1;32m    963\u001b[0m         check_input\u001b[39m=\u001b[39;49mcheck_input,\n\u001b[1;32m    964\u001b[0m     )\n\u001b[1;32m    965\u001b[0m     \u001b[39mreturn\u001b[39;00m \u001b[39mself\u001b[39m\n",
      "File \u001b[0;32m~/Projects/LFD/APS-Failure-Prediction/.venv/lib/python3.11/site-packages/sklearn/tree/_classes.py:443\u001b[0m, in \u001b[0;36mBaseDecisionTree._fit\u001b[0;34m(self, X, y, sample_weight, check_input, missing_values_in_feature_mask)\u001b[0m\n\u001b[1;32m    432\u001b[0m \u001b[39melse\u001b[39;00m:\n\u001b[1;32m    433\u001b[0m     builder \u001b[39m=\u001b[39m BestFirstTreeBuilder(\n\u001b[1;32m    434\u001b[0m         splitter,\n\u001b[1;32m    435\u001b[0m         min_samples_split,\n\u001b[0;32m   (...)\u001b[0m\n\u001b[1;32m    440\u001b[0m         \u001b[39mself\u001b[39m\u001b[39m.\u001b[39mmin_impurity_decrease,\n\u001b[1;32m    441\u001b[0m     )\n\u001b[0;32m--> 443\u001b[0m builder\u001b[39m.\u001b[39;49mbuild(\u001b[39mself\u001b[39;49m\u001b[39m.\u001b[39;49mtree_, X, y, sample_weight, missing_values_in_feature_mask)\n\u001b[1;32m    445\u001b[0m \u001b[39mif\u001b[39;00m \u001b[39mself\u001b[39m\u001b[39m.\u001b[39mn_outputs_ \u001b[39m==\u001b[39m \u001b[39m1\u001b[39m \u001b[39mand\u001b[39;00m is_classifier(\u001b[39mself\u001b[39m):\n\u001b[1;32m    446\u001b[0m     \u001b[39mself\u001b[39m\u001b[39m.\u001b[39mn_classes_ \u001b[39m=\u001b[39m \u001b[39mself\u001b[39m\u001b[39m.\u001b[39mn_classes_[\u001b[39m0\u001b[39m]\n",
      "\u001b[0;31mKeyboardInterrupt\u001b[0m: "
     ]
    }
   ],
   "source": [
    "# train a random forest with the best params\n",
    "\n",
    "clf = RandomForestClassifier(**grid_search.best_params_)\n",
    "\n",
    "clf.fit(X_train, y_train)\n",
    "\n",
    "y_pred = clf.predict(X_test)\n",
    "\n",
    "print(classification_report(y_test, y_pred))\n",
    "\n",
    "print(confusion_matrix(y_test, y_pred))"
   ]
  },
  {
   "cell_type": "markdown",
   "metadata": {},
   "source": [
    "We found the same hyperparameters :D"
   ]
  },
  {
   "cell_type": "markdown",
   "metadata": {},
   "source": [
    "I like cats. Let's try catboost :)"
   ]
  },
  {
   "cell_type": "code",
   "execution_count": 312,
   "metadata": {},
   "outputs": [
    {
     "name": "stdout",
     "output_type": "stream",
     "text": [
      "Collecting catboost\n",
      "  Downloading catboost-1.2.2-cp311-cp311-macosx_11_0_universal2.whl (25.7 MB)\n",
      "\u001b[2K     \u001b[90m━━━━━━━━━━━━━━━━━━━━━━━━━━━━━━━━━━━━━━━━\u001b[0m \u001b[32m25.7/25.7 MB\u001b[0m \u001b[31m4.6 MB/s\u001b[0m eta \u001b[36m0:00:00\u001b[0m00:01\u001b[0m00:01\u001b[0m\n",
      "\u001b[?25hCollecting graphviz (from catboost)\n",
      "  Using cached graphviz-0.20.1-py3-none-any.whl (47 kB)\n",
      "Requirement already satisfied: matplotlib in ./.venv/lib/python3.11/site-packages (from catboost) (3.8.2)\n",
      "Requirement already satisfied: numpy>=1.16.0 in ./.venv/lib/python3.11/site-packages (from catboost) (1.26.2)\n",
      "Requirement already satisfied: pandas>=0.24 in ./.venv/lib/python3.11/site-packages (from catboost) (2.1.3)\n",
      "Requirement already satisfied: scipy in ./.venv/lib/python3.11/site-packages (from catboost) (1.11.4)\n",
      "Collecting plotly (from catboost)\n",
      "  Downloading plotly-5.18.0-py3-none-any.whl (15.6 MB)\n",
      "\u001b[2K     \u001b[90m━━━━━━━━━━━━━━━━━━━━━━━━━━━━━━━━━━━━━━━━\u001b[0m \u001b[32m15.6/15.6 MB\u001b[0m \u001b[31m14.2 MB/s\u001b[0m eta \u001b[36m0:00:00\u001b[0m00:01\u001b[0m00:01\u001b[0m\n",
      "\u001b[?25hRequirement already satisfied: six in ./.venv/lib/python3.11/site-packages (from catboost) (1.16.0)\n",
      "Requirement already satisfied: python-dateutil>=2.8.2 in ./.venv/lib/python3.11/site-packages (from pandas>=0.24->catboost) (2.8.2)\n",
      "Requirement already satisfied: pytz>=2020.1 in ./.venv/lib/python3.11/site-packages (from pandas>=0.24->catboost) (2023.3.post1)\n",
      "Requirement already satisfied: tzdata>=2022.1 in ./.venv/lib/python3.11/site-packages (from pandas>=0.24->catboost) (2023.3)\n",
      "Requirement already satisfied: contourpy>=1.0.1 in ./.venv/lib/python3.11/site-packages (from matplotlib->catboost) (1.2.0)\n",
      "Requirement already satisfied: cycler>=0.10 in ./.venv/lib/python3.11/site-packages (from matplotlib->catboost) (0.12.1)\n",
      "Requirement already satisfied: fonttools>=4.22.0 in ./.venv/lib/python3.11/site-packages (from matplotlib->catboost) (4.46.0)\n",
      "Requirement already satisfied: kiwisolver>=1.3.1 in ./.venv/lib/python3.11/site-packages (from matplotlib->catboost) (1.4.5)\n",
      "Requirement already satisfied: packaging>=20.0 in ./.venv/lib/python3.11/site-packages (from matplotlib->catboost) (23.2)\n",
      "Requirement already satisfied: pillow>=8 in ./.venv/lib/python3.11/site-packages (from matplotlib->catboost) (10.1.0)\n",
      "Requirement already satisfied: pyparsing>=2.3.1 in ./.venv/lib/python3.11/site-packages (from matplotlib->catboost) (3.1.1)\n",
      "Collecting tenacity>=6.2.0 (from plotly->catboost)\n",
      "  Using cached tenacity-8.2.3-py3-none-any.whl (24 kB)\n",
      "Installing collected packages: tenacity, graphviz, plotly, catboost\n",
      "Successfully installed catboost-1.2.2 graphviz-0.20.1 plotly-5.18.0 tenacity-8.2.3\n",
      "\n",
      "\u001b[1m[\u001b[0m\u001b[34;49mnotice\u001b[0m\u001b[1;39;49m]\u001b[0m\u001b[39;49m A new release of pip is available: \u001b[0m\u001b[31;49m23.1.2\u001b[0m\u001b[39;49m -> \u001b[0m\u001b[32;49m23.3.2\u001b[0m\n",
      "\u001b[1m[\u001b[0m\u001b[34;49mnotice\u001b[0m\u001b[1;39;49m]\u001b[0m\u001b[39;49m To update, run: \u001b[0m\u001b[32;49mpip install --upgrade pip\u001b[0m\n",
      "Note: you may need to restart the kernel to use updated packages.\n"
     ]
    }
   ],
   "source": [
    "%pip install catboost"
   ]
  },
  {
   "cell_type": "code",
   "execution_count": 26,
   "metadata": {},
   "outputs": [],
   "source": [
    "from catboost import CatBoostClassifier"
   ]
  },
  {
   "cell_type": "code",
   "execution_count": 25,
   "metadata": {},
   "outputs": [],
   "source": [
    "Y = labels.apply(lambda x: 1 if x == 'pos' else 0).values"
   ]
  },
  {
   "cell_type": "code",
   "execution_count": 316,
   "metadata": {},
   "outputs": [
    {
     "name": "stdout",
     "output_type": "stream",
     "text": [
      "              precision    recall  f1-score   support\n",
      "\n",
      "           0       1.00      0.95      0.98     19470\n",
      "           1       0.26      0.97      0.41       330\n",
      "\n",
      "    accuracy                           0.95     19800\n",
      "   macro avg       0.63      0.96      0.69     19800\n",
      "weighted avg       0.99      0.95      0.97     19800\n",
      "\n",
      "[[18558   912]\n",
      " [   11   319]]\n"
     ]
    }
   ],
   "source": [
    "# train a catboost model\n",
    "\n",
    "\n",
    "clf = CatBoostClassifier(iterations=1000, learning_rate=0.01, random_seed=42,  depth=10, loss_function='Logloss', class_weights={0:1, 1:1000}, logging_level='Silent')\n",
    "\n",
    "clf.fit(X_train, y_train)\n",
    "\n",
    "y_pred = clf.predict(X_test)\n",
    "\n",
    "print(classification_report(y_test, y_pred))\n",
    "\n",
    "print(confusion_matrix(y_test, y_pred))"
   ]
  },
  {
   "cell_type": "code",
   "execution_count": null,
   "metadata": {},
   "outputs": [],
   "source": [
    "y_pred = clf.predict(test_df[train_df.columns].values)\n",
    "\n",
    "#save the results\n",
    "\n",
    "output = pd.DataFrame({'id': np.arange(1,len(y_pred.reshape(-1))+1),\"class\": labelize(y_pred.reshape(-1))})\n",
    "output.to_csv('categorical+relevant values ln e transformations standardized catboost with 1:1000 biasing.csv', index=False)"
   ]
  },
  {
   "cell_type": "markdown",
   "metadata": {},
   "source": [
    "Resulted in Kaggle highscore!"
   ]
  },
  {
   "cell_type": "code",
   "execution_count": 71,
   "metadata": {},
   "outputs": [],
   "source": [
    "# test set\n",
    "\n",
    "X = test_df[num_cat_cols].replace('na', 0).astype(float).values\n",
    "y_pred_ = clf.predict(X)\n",
    "\n",
    "output = pd.DataFrame({'id': np.arange(1,len(y_pred_.reshape(-1))+1),\"class\": labelize(y_pred_.reshape(-1))})\n",
    "\n",
    "output.to_csv('categorical+relevant numerical values ln e transformations catboost with 1:250 biasing.csv', index=False)"
   ]
  },
  {
   "cell_type": "code",
   "execution_count": 319,
   "metadata": {},
   "outputs": [],
   "source": [
    "# use test set to predict\n",
    "\n",
    "X = test_df[num_cat_cols].replace('na', 0).astype(float).values\n",
    "\n",
    "X_transformed = StandardScaler().fit_transform(X)\n",
    "\n",
    "y_pred_ = clf.predict(X_transformed)\n",
    "\n",
    "output = pd.DataFrame({'id': np.arange(1,len(y_pred_.reshape(-1))+1),\"class\": labelize(y_pred_.reshape(-1))})\n",
    "\n",
    "output.to_csv('categorical+relevant numerical values ln e transformations standardized catboost with 1:1000 biasing.csv', index=False)"
   ]
  },
  {
   "cell_type": "code",
   "execution_count": null,
   "metadata": {},
   "outputs": [],
   "source": [
    "#train test split with stratify\n",
    "from sklearn.model_selection import train_test_split\n",
    "\n",
    "X = train_df[num_cat_cols].replace('na', 0).astype(float).values\n",
    "X_train, X_test, y_train, y_test = train_test_split(X, Y, test_size=0.33, random_state=42, stratify=Y)\n",
    "#use bagging to create an ensemble of models CatBoost, Random Forest, XGBoost\n"
   ]
  },
  {
   "cell_type": "code",
   "execution_count": 14,
   "metadata": {},
   "outputs": [],
   "source": [
    "from sklearn.ensemble import BaggingClassifier\n",
    "from sklearn.tree import DecisionTreeClassifier\n",
    "from sklearn.ensemble import RandomForestClassifier\n",
    "from catboost import CatBoostClassifier\n",
    "from xgboost import XGBClassifier\n",
    "from sklearn.ensemble import VotingClassifier\n",
    "from sklearn.ensemble import StackingClassifier\n",
    "\n",
    "clf1 = CatBoostClassifier(iterations=1000, learning_rate=0.01, random_seed=42,  depth=10, loss_function='Logloss', class_weights={0:1, 1:1000}, logging_level='Silent')\n",
    "clf2 = RandomForestClassifier(n_estimators=1000, max_depth=6, random_state=42, class_weight={0: 1, 1: 500})\n",
    "clf3 = XGBClassifier(n_estimators=1000,\n",
    "    max_depth=9,\n",
    "    learning_rate=0.1,\n",
    "    subsample=0.5,\n",
    "    colsample_bytree=0.5,\n",
    "    random_state=42,\n",
    "    scale_pos_weight=1000,)\n",
    "\n",
    "\n",
    "ensemble = VotingClassifier(estimators=[\n",
    "    ('catboost', clf1),\n",
    "    ('random_forest', clf2),\n",
    "    ('xgboost', clf3)\n",
    "], voting='soft')\n"
   ]
  },
  {
   "cell_type": "code",
   "execution_count": null,
   "metadata": {},
   "outputs": [],
   "source": [
    "ensemble.fit(X_train, y_train)"
   ]
  },
  {
   "cell_type": "code",
   "execution_count": 47,
   "metadata": {},
   "outputs": [
    {
     "name": "stdout",
     "output_type": "stream",
     "text": [
      "              precision    recall  f1-score   support\n",
      "\n",
      "           0       1.00      0.97      0.98     19470\n",
      "           1       0.32      0.95      0.48       330\n",
      "\n",
      "    accuracy                           0.97     19800\n",
      "   macro avg       0.66      0.96      0.73     19800\n",
      "weighted avg       0.99      0.97      0.97     19800\n",
      "\n",
      "[[18809   661]\n",
      " [   17   313]]\n"
     ]
    }
   ],
   "source": [
    "\n",
    "y_pred = ensemble.predict(X_test)\n",
    "\n",
    "print(classification_report(y_test, y_pred))\n",
    "print(confusion_matrix(y_test, y_pred))"
   ]
  },
  {
   "cell_type": "code",
   "execution_count": 48,
   "metadata": {},
   "outputs": [],
   "source": [
    "# test set to predict\n",
    "X = test_df[num_cat_cols].replace('na', 0).astype(float).values\n",
    "\n",
    "#predict and save to csv \n",
    "y_pred_ = ensemble.predict(X)\n",
    "\n",
    "output = pd.DataFrame({'id': np.arange(1,len(y_pred_.reshape(-1))+1),\"class\": labelize(y_pred_.reshape(-1))})\n",
    "\n",
    "output.to_csv('categorical+relevant numerical values ln e transformations standardized ensemble of catboost, random forest, xgboost.csv', index=False)\n"
   ]
  },
  {
   "cell_type": "code",
   "execution_count": 19,
   "metadata": {},
   "outputs": [
    {
     "ename": "AttributeError",
     "evalue": "'VotingClassifier' object has no attribute 'estimators_'",
     "output_type": "error",
     "traceback": [
      "\u001b[0;31m---------------------------------------------------------------------------\u001b[0m",
      "\u001b[0;31mAttributeError\u001b[0m                            Traceback (most recent call last)",
      "\u001b[1;32m/Users/firatkizilboga/Projects/LFD/APS-Failure-Prediction/EDA & Models copy.ipynb Cell 118\u001b[0m line \u001b[0;36m1\n\u001b[0;32m----> <a href='vscode-notebook-cell:/Users/firatkizilboga/Projects/LFD/APS-Failure-Prediction/EDA%20%26%20Models%20copy.ipynb#Y311sZmlsZQ%3D%3D?line=0'>1</a>\u001b[0m y_pred \u001b[39m=\u001b[39m ensemble\u001b[39m.\u001b[39;49mpredict(test_df[train_df\u001b[39m.\u001b[39;49mcolumns]\u001b[39m.\u001b[39;49mvalues)\n\u001b[1;32m      <a href='vscode-notebook-cell:/Users/firatkizilboga/Projects/LFD/APS-Failure-Prediction/EDA%20%26%20Models%20copy.ipynb#Y311sZmlsZQ%3D%3D?line=2'>3</a>\u001b[0m \u001b[39m#save the results\u001b[39;00m\n\u001b[1;32m      <a href='vscode-notebook-cell:/Users/firatkizilboga/Projects/LFD/APS-Failure-Prediction/EDA%20%26%20Models%20copy.ipynb#Y311sZmlsZQ%3D%3D?line=4'>5</a>\u001b[0m output \u001b[39m=\u001b[39m pd\u001b[39m.\u001b[39mDataFrame({\u001b[39m'\u001b[39m\u001b[39mid\u001b[39m\u001b[39m'\u001b[39m: np\u001b[39m.\u001b[39marange(\u001b[39m1\u001b[39m,\u001b[39mlen\u001b[39m(y_pred\u001b[39m.\u001b[39mreshape(\u001b[39m-\u001b[39m\u001b[39m1\u001b[39m))\u001b[39m+\u001b[39m\u001b[39m1\u001b[39m),\u001b[39m\"\u001b[39m\u001b[39mclass\u001b[39m\u001b[39m\"\u001b[39m: labelize(y_pred\u001b[39m.\u001b[39mreshape(\u001b[39m-\u001b[39m\u001b[39m1\u001b[39m))})\n",
      "File \u001b[0;32m~/Projects/LFD/APS-Failure-Prediction/.venv/lib/python3.11/site-packages/sklearn/ensemble/_voting.py:366\u001b[0m, in \u001b[0;36mVotingClassifier.predict\u001b[0;34m(self, X)\u001b[0m\n\u001b[1;32m    364\u001b[0m check_is_fitted(\u001b[39mself\u001b[39m)\n\u001b[1;32m    365\u001b[0m \u001b[39mif\u001b[39;00m \u001b[39mself\u001b[39m\u001b[39m.\u001b[39mvoting \u001b[39m==\u001b[39m \u001b[39m\"\u001b[39m\u001b[39msoft\u001b[39m\u001b[39m\"\u001b[39m:\n\u001b[0;32m--> 366\u001b[0m     maj \u001b[39m=\u001b[39m np\u001b[39m.\u001b[39margmax(\u001b[39mself\u001b[39;49m\u001b[39m.\u001b[39;49mpredict_proba(X), axis\u001b[39m=\u001b[39m\u001b[39m1\u001b[39m)\n\u001b[1;32m    368\u001b[0m \u001b[39melse\u001b[39;00m:  \u001b[39m# 'hard' voting\u001b[39;00m\n\u001b[1;32m    369\u001b[0m     predictions \u001b[39m=\u001b[39m \u001b[39mself\u001b[39m\u001b[39m.\u001b[39m_predict(X)\n",
      "File \u001b[0;32m~/Projects/LFD/APS-Failure-Prediction/.venv/lib/python3.11/site-packages/sklearn/ensemble/_voting.py:407\u001b[0m, in \u001b[0;36mVotingClassifier.predict_proba\u001b[0;34m(self, X)\u001b[0m\n\u001b[1;32m    393\u001b[0m \u001b[39m\u001b[39m\u001b[39m\"\"\"Compute probabilities of possible outcomes for samples in X.\u001b[39;00m\n\u001b[1;32m    394\u001b[0m \n\u001b[1;32m    395\u001b[0m \u001b[39mParameters\u001b[39;00m\n\u001b[0;32m   (...)\u001b[0m\n\u001b[1;32m    403\u001b[0m \u001b[39m    Weighted average probability for each class per sample.\u001b[39;00m\n\u001b[1;32m    404\u001b[0m \u001b[39m\"\"\"\u001b[39;00m\n\u001b[1;32m    405\u001b[0m check_is_fitted(\u001b[39mself\u001b[39m)\n\u001b[1;32m    406\u001b[0m avg \u001b[39m=\u001b[39m np\u001b[39m.\u001b[39maverage(\n\u001b[0;32m--> 407\u001b[0m     \u001b[39mself\u001b[39;49m\u001b[39m.\u001b[39;49m_collect_probas(X), axis\u001b[39m=\u001b[39m\u001b[39m0\u001b[39m, weights\u001b[39m=\u001b[39m\u001b[39mself\u001b[39m\u001b[39m.\u001b[39m_weights_not_none\n\u001b[1;32m    408\u001b[0m )\n\u001b[1;32m    409\u001b[0m \u001b[39mreturn\u001b[39;00m avg\n",
      "File \u001b[0;32m~/Projects/LFD/APS-Failure-Prediction/.venv/lib/python3.11/site-packages/sklearn/ensemble/_voting.py:382\u001b[0m, in \u001b[0;36mVotingClassifier._collect_probas\u001b[0;34m(self, X)\u001b[0m\n\u001b[1;32m    380\u001b[0m \u001b[39mdef\u001b[39;00m \u001b[39m_collect_probas\u001b[39m(\u001b[39mself\u001b[39m, X):\n\u001b[1;32m    381\u001b[0m \u001b[39m    \u001b[39m\u001b[39m\"\"\"Collect results from clf.predict calls.\"\"\"\u001b[39;00m\n\u001b[0;32m--> 382\u001b[0m     \u001b[39mreturn\u001b[39;00m np\u001b[39m.\u001b[39masarray([clf\u001b[39m.\u001b[39mpredict_proba(X) \u001b[39mfor\u001b[39;00m clf \u001b[39min\u001b[39;00m \u001b[39mself\u001b[39;49m\u001b[39m.\u001b[39;49mestimators_])\n",
      "\u001b[0;31mAttributeError\u001b[0m: 'VotingClassifier' object has no attribute 'estimators_'"
     ]
    }
   ],
   "source": [
    "y_pred = ensemble.predict(test_df[train_df.columns].values)\n",
    "\n",
    "#save the results\n",
    "\n",
    "output = pd.DataFrame({'id': np.arange(1,len(y_pred.reshape(-1))+1),\"class\": labelize(y_pred.reshape(-1))})\n",
    "\n",
    "output.to_csv('all values ln e transformations standardized ensemble of catboost, random forest, xgboost.csv', index=False)"
   ]
  },
  {
   "cell_type": "code",
   "execution_count": 49,
   "metadata": {},
   "outputs": [],
   "source": [
    "#STACKING CLASSIFIER\n",
    "\n",
    "clf1 = CatBoostClassifier(iterations=1000, learning_rate=0.01, random_seed=42,  depth=10, loss_function='Logloss', class_weights={0:1, 1:1000}, logging_level='Silent')\n",
    "clf2 = RandomForestClassifier(n_estimators=1000, max_depth=6, random_state=42, class_weight={0: 1, 1: 500}) \n",
    "clf3 = XGBClassifier(n_estimators=1000,\n",
    "    max_depth=9,\n",
    "    learning_rate=0.1,\n",
    "    subsample=0.5,\n",
    "    colsample_bytree=0.5,\n",
    "    random_state=42,\n",
    "    scale_pos_weight=1000,)\n",
    "\n",
    "\n",
    "ensemble = StackingClassifier(estimators=[\n",
    "    ('catboost', clf1),\n",
    "    ('random_forest', clf2),\n",
    "    ('xgboost', clf3)\n",
    "], final_estimator=RandomForestClassifier(n_estimators=1000, max_depth=3, random_state=42, class_weight={0: 1, 1: 1000}))\n"
   ]
  },
  {
   "cell_type": "code",
   "execution_count": 50,
   "metadata": {},
   "outputs": [
    {
     "data": {
      "text/html": [
       "<style>#sk-container-id-2 {color: black;}#sk-container-id-2 pre{padding: 0;}#sk-container-id-2 div.sk-toggleable {background-color: white;}#sk-container-id-2 label.sk-toggleable__label {cursor: pointer;display: block;width: 100%;margin-bottom: 0;padding: 0.3em;box-sizing: border-box;text-align: center;}#sk-container-id-2 label.sk-toggleable__label-arrow:before {content: \"▸\";float: left;margin-right: 0.25em;color: #696969;}#sk-container-id-2 label.sk-toggleable__label-arrow:hover:before {color: black;}#sk-container-id-2 div.sk-estimator:hover label.sk-toggleable__label-arrow:before {color: black;}#sk-container-id-2 div.sk-toggleable__content {max-height: 0;max-width: 0;overflow: hidden;text-align: left;background-color: #f0f8ff;}#sk-container-id-2 div.sk-toggleable__content pre {margin: 0.2em;color: black;border-radius: 0.25em;background-color: #f0f8ff;}#sk-container-id-2 input.sk-toggleable__control:checked~div.sk-toggleable__content {max-height: 200px;max-width: 100%;overflow: auto;}#sk-container-id-2 input.sk-toggleable__control:checked~label.sk-toggleable__label-arrow:before {content: \"▾\";}#sk-container-id-2 div.sk-estimator input.sk-toggleable__control:checked~label.sk-toggleable__label {background-color: #d4ebff;}#sk-container-id-2 div.sk-label input.sk-toggleable__control:checked~label.sk-toggleable__label {background-color: #d4ebff;}#sk-container-id-2 input.sk-hidden--visually {border: 0;clip: rect(1px 1px 1px 1px);clip: rect(1px, 1px, 1px, 1px);height: 1px;margin: -1px;overflow: hidden;padding: 0;position: absolute;width: 1px;}#sk-container-id-2 div.sk-estimator {font-family: monospace;background-color: #f0f8ff;border: 1px dotted black;border-radius: 0.25em;box-sizing: border-box;margin-bottom: 0.5em;}#sk-container-id-2 div.sk-estimator:hover {background-color: #d4ebff;}#sk-container-id-2 div.sk-parallel-item::after {content: \"\";width: 100%;border-bottom: 1px solid gray;flex-grow: 1;}#sk-container-id-2 div.sk-label:hover label.sk-toggleable__label {background-color: #d4ebff;}#sk-container-id-2 div.sk-serial::before {content: \"\";position: absolute;border-left: 1px solid gray;box-sizing: border-box;top: 0;bottom: 0;left: 50%;z-index: 0;}#sk-container-id-2 div.sk-serial {display: flex;flex-direction: column;align-items: center;background-color: white;padding-right: 0.2em;padding-left: 0.2em;position: relative;}#sk-container-id-2 div.sk-item {position: relative;z-index: 1;}#sk-container-id-2 div.sk-parallel {display: flex;align-items: stretch;justify-content: center;background-color: white;position: relative;}#sk-container-id-2 div.sk-item::before, #sk-container-id-2 div.sk-parallel-item::before {content: \"\";position: absolute;border-left: 1px solid gray;box-sizing: border-box;top: 0;bottom: 0;left: 50%;z-index: -1;}#sk-container-id-2 div.sk-parallel-item {display: flex;flex-direction: column;z-index: 1;position: relative;background-color: white;}#sk-container-id-2 div.sk-parallel-item:first-child::after {align-self: flex-end;width: 50%;}#sk-container-id-2 div.sk-parallel-item:last-child::after {align-self: flex-start;width: 50%;}#sk-container-id-2 div.sk-parallel-item:only-child::after {width: 0;}#sk-container-id-2 div.sk-dashed-wrapped {border: 1px dashed gray;margin: 0 0.4em 0.5em 0.4em;box-sizing: border-box;padding-bottom: 0.4em;background-color: white;}#sk-container-id-2 div.sk-label label {font-family: monospace;font-weight: bold;display: inline-block;line-height: 1.2em;}#sk-container-id-2 div.sk-label-container {text-align: center;}#sk-container-id-2 div.sk-container {/* jupyter's `normalize.less` sets `[hidden] { display: none; }` but bootstrap.min.css set `[hidden] { display: none !important; }` so we also need the `!important` here to be able to override the default hidden behavior on the sphinx rendered scikit-learn.org. See: https://github.com/scikit-learn/scikit-learn/issues/21755 */display: inline-block !important;position: relative;}#sk-container-id-2 div.sk-text-repr-fallback {display: none;}</style><div id=\"sk-container-id-2\" class=\"sk-top-container\"><div class=\"sk-text-repr-fallback\"><pre>StackingClassifier(estimators=[(&#x27;catboost&#x27;,\n",
       "                                &lt;catboost.core.CatBoostClassifier object at 0x296aa6750&gt;),\n",
       "                               (&#x27;random_forest&#x27;,\n",
       "                                RandomForestClassifier(class_weight={0: 1,\n",
       "                                                                     1: 500},\n",
       "                                                       max_depth=6,\n",
       "                                                       n_estimators=1000,\n",
       "                                                       random_state=42)),\n",
       "                               (&#x27;xgboost&#x27;,\n",
       "                                XGBClassifier(base_score=None, booster=None,\n",
       "                                              callbacks=None,\n",
       "                                              colsample_bylevel=None,\n",
       "                                              colsample_bynode=None,\n",
       "                                              colsample_bytree=0.5, devi...\n",
       "                                              max_cat_threshold=None,\n",
       "                                              max_cat_to_onehot=None,\n",
       "                                              max_delta_step=None, max_depth=9,\n",
       "                                              max_leaves=None,\n",
       "                                              min_child_weight=None,\n",
       "                                              missing=nan,\n",
       "                                              monotone_constraints=None,\n",
       "                                              multi_strategy=None,\n",
       "                                              n_estimators=1000, n_jobs=None,\n",
       "                                              num_parallel_tree=None,\n",
       "                                              random_state=42, ...))],\n",
       "                   final_estimator=RandomForestClassifier(class_weight={0: 1,\n",
       "                                                                        1: 1000},\n",
       "                                                          max_depth=3,\n",
       "                                                          n_estimators=1000,\n",
       "                                                          random_state=42))</pre><b>In a Jupyter environment, please rerun this cell to show the HTML representation or trust the notebook. <br />On GitHub, the HTML representation is unable to render, please try loading this page with nbviewer.org.</b></div><div class=\"sk-container\" hidden><div class=\"sk-item sk-dashed-wrapped\"><div class=\"sk-label-container\"><div class=\"sk-label sk-toggleable\"><input class=\"sk-toggleable__control sk-hidden--visually\" id=\"sk-estimator-id-2\" type=\"checkbox\" ><label for=\"sk-estimator-id-2\" class=\"sk-toggleable__label sk-toggleable__label-arrow\">StackingClassifier</label><div class=\"sk-toggleable__content\"><pre>StackingClassifier(estimators=[(&#x27;catboost&#x27;,\n",
       "                                &lt;catboost.core.CatBoostClassifier object at 0x296aa6750&gt;),\n",
       "                               (&#x27;random_forest&#x27;,\n",
       "                                RandomForestClassifier(class_weight={0: 1,\n",
       "                                                                     1: 500},\n",
       "                                                       max_depth=6,\n",
       "                                                       n_estimators=1000,\n",
       "                                                       random_state=42)),\n",
       "                               (&#x27;xgboost&#x27;,\n",
       "                                XGBClassifier(base_score=None, booster=None,\n",
       "                                              callbacks=None,\n",
       "                                              colsample_bylevel=None,\n",
       "                                              colsample_bynode=None,\n",
       "                                              colsample_bytree=0.5, devi...\n",
       "                                              max_cat_threshold=None,\n",
       "                                              max_cat_to_onehot=None,\n",
       "                                              max_delta_step=None, max_depth=9,\n",
       "                                              max_leaves=None,\n",
       "                                              min_child_weight=None,\n",
       "                                              missing=nan,\n",
       "                                              monotone_constraints=None,\n",
       "                                              multi_strategy=None,\n",
       "                                              n_estimators=1000, n_jobs=None,\n",
       "                                              num_parallel_tree=None,\n",
       "                                              random_state=42, ...))],\n",
       "                   final_estimator=RandomForestClassifier(class_weight={0: 1,\n",
       "                                                                        1: 1000},\n",
       "                                                          max_depth=3,\n",
       "                                                          n_estimators=1000,\n",
       "                                                          random_state=42))</pre></div></div></div><div class=\"sk-serial\"><div class=\"sk-item\"><div class=\"sk-parallel\"><div class=\"sk-parallel-item\"><div class=\"sk-item\"><div class=\"sk-label-container\"><div class=\"sk-label sk-toggleable\"><label>catboost</label></div></div><div class=\"sk-serial\"><div class=\"sk-item\"><div class=\"sk-estimator sk-toggleable\"><input class=\"sk-toggleable__control sk-hidden--visually\" id=\"sk-estimator-id-3\" type=\"checkbox\" ><label for=\"sk-estimator-id-3\" class=\"sk-toggleable__label sk-toggleable__label-arrow\">CatBoostClassifier</label><div class=\"sk-toggleable__content\"><pre>&lt;catboost.core.CatBoostClassifier object at 0x296aa6750&gt;</pre></div></div></div></div></div></div><div class=\"sk-parallel-item\"><div class=\"sk-item\"><div class=\"sk-label-container\"><div class=\"sk-label sk-toggleable\"><label>random_forest</label></div></div><div class=\"sk-serial\"><div class=\"sk-item\"><div class=\"sk-estimator sk-toggleable\"><input class=\"sk-toggleable__control sk-hidden--visually\" id=\"sk-estimator-id-4\" type=\"checkbox\" ><label for=\"sk-estimator-id-4\" class=\"sk-toggleable__label sk-toggleable__label-arrow\">RandomForestClassifier</label><div class=\"sk-toggleable__content\"><pre>RandomForestClassifier(class_weight={0: 1, 1: 500}, max_depth=6,\n",
       "                       n_estimators=1000, random_state=42)</pre></div></div></div></div></div></div><div class=\"sk-parallel-item\"><div class=\"sk-item\"><div class=\"sk-label-container\"><div class=\"sk-label sk-toggleable\"><label>xgboost</label></div></div><div class=\"sk-serial\"><div class=\"sk-item\"><div class=\"sk-estimator sk-toggleable\"><input class=\"sk-toggleable__control sk-hidden--visually\" id=\"sk-estimator-id-5\" type=\"checkbox\" ><label for=\"sk-estimator-id-5\" class=\"sk-toggleable__label sk-toggleable__label-arrow\">XGBClassifier</label><div class=\"sk-toggleable__content\"><pre>XGBClassifier(base_score=None, booster=None, callbacks=None,\n",
       "              colsample_bylevel=None, colsample_bynode=None,\n",
       "              colsample_bytree=0.5, device=None, early_stopping_rounds=None,\n",
       "              enable_categorical=False, eval_metric=None, feature_types=None,\n",
       "              gamma=None, grow_policy=None, importance_type=None,\n",
       "              interaction_constraints=None, learning_rate=0.1, max_bin=None,\n",
       "              max_cat_threshold=None, max_cat_to_onehot=None,\n",
       "              max_delta_step=None, max_depth=9, max_leaves=None,\n",
       "              min_child_weight=None, missing=nan, monotone_constraints=None,\n",
       "              multi_strategy=None, n_estimators=1000, n_jobs=None,\n",
       "              num_parallel_tree=None, random_state=42, ...)</pre></div></div></div></div></div></div></div></div><div class=\"sk-item\"><div class=\"sk-parallel\"><div class=\"sk-parallel-item\"><div class=\"sk-item\"><div class=\"sk-label-container\"><div class=\"sk-label sk-toggleable\"><label>final_estimator</label></div></div><div class=\"sk-serial\"><div class=\"sk-item\"><div class=\"sk-estimator sk-toggleable\"><input class=\"sk-toggleable__control sk-hidden--visually\" id=\"sk-estimator-id-6\" type=\"checkbox\" ><label for=\"sk-estimator-id-6\" class=\"sk-toggleable__label sk-toggleable__label-arrow\">RandomForestClassifier</label><div class=\"sk-toggleable__content\"><pre>RandomForestClassifier(class_weight={0: 1, 1: 1000}, max_depth=3,\n",
       "                       n_estimators=1000, random_state=42)</pre></div></div></div></div></div></div></div></div></div></div></div></div>"
      ],
      "text/plain": [
       "StackingClassifier(estimators=[('catboost',\n",
       "                                <catboost.core.CatBoostClassifier object at 0x296aa6750>),\n",
       "                               ('random_forest',\n",
       "                                RandomForestClassifier(class_weight={0: 1,\n",
       "                                                                     1: 500},\n",
       "                                                       max_depth=6,\n",
       "                                                       n_estimators=1000,\n",
       "                                                       random_state=42)),\n",
       "                               ('xgboost',\n",
       "                                XGBClassifier(base_score=None, booster=None,\n",
       "                                              callbacks=None,\n",
       "                                              colsample_bylevel=None,\n",
       "                                              colsample_bynode=None,\n",
       "                                              colsample_bytree=0.5, devi...\n",
       "                                              max_cat_threshold=None,\n",
       "                                              max_cat_to_onehot=None,\n",
       "                                              max_delta_step=None, max_depth=9,\n",
       "                                              max_leaves=None,\n",
       "                                              min_child_weight=None,\n",
       "                                              missing=nan,\n",
       "                                              monotone_constraints=None,\n",
       "                                              multi_strategy=None,\n",
       "                                              n_estimators=1000, n_jobs=None,\n",
       "                                              num_parallel_tree=None,\n",
       "                                              random_state=42, ...))],\n",
       "                   final_estimator=RandomForestClassifier(class_weight={0: 1,\n",
       "                                                                        1: 1000},\n",
       "                                                          max_depth=3,\n",
       "                                                          n_estimators=1000,\n",
       "                                                          random_state=42))"
      ]
     },
     "execution_count": 50,
     "metadata": {},
     "output_type": "execute_result"
    }
   ],
   "source": [
    "ensemble.fit(X_train, y_train)"
   ]
  },
  {
   "cell_type": "code",
   "execution_count": 51,
   "metadata": {},
   "outputs": [
    {
     "name": "stdout",
     "output_type": "stream",
     "text": [
      "              precision    recall  f1-score   support\n",
      "\n",
      "           0       1.00      0.92      0.96     19470\n",
      "           1       0.18      0.97      0.30       330\n",
      "\n",
      "    accuracy                           0.92     19800\n",
      "   macro avg       0.59      0.95      0.63     19800\n",
      "weighted avg       0.99      0.92      0.95     19800\n",
      "\n",
      "[[17982  1488]\n",
      " [    9   321]]\n"
     ]
    }
   ],
   "source": [
    "y_pred = ensemble.predict(X_test)\n",
    "\n",
    "print(classification_report(y_test, y_pred))\n",
    "print(confusion_matrix(y_test, y_pred))"
   ]
  },
  {
   "cell_type": "code",
   "execution_count": 52,
   "metadata": {},
   "outputs": [],
   "source": [
    "# test set to predict\n",
    "X = test_df[num_cat_cols].replace('na', 0).astype(float).values\n",
    "\n",
    "#predict and save to csv\n",
    "y_pred_ = ensemble.predict(X)\n",
    "\n",
    "output = pd.DataFrame({'id': np.arange(1,len(y_pred_.reshape(-1))+1),\"class\": labelize(y_pred_.reshape(-1))})\n",
    "\n",
    "output.to_csv('categorical+relevant numerical values ln e transformations standardized stacking of catboost, random forest, xgboost.csv', index=False)"
   ]
  },
  {
   "cell_type": "code",
   "execution_count": 53,
   "metadata": {},
   "outputs": [
    {
     "ename": "KeyboardInterrupt",
     "evalue": "",
     "output_type": "error",
     "traceback": [
      "\u001b[0;31m---------------------------------------------------------------------------\u001b[0m",
      "\u001b[0;31mKeyboardInterrupt\u001b[0m                         Traceback (most recent call last)",
      "\u001b[1;32m/Users/firatkizilboga/Projects/LFD/APS-Failure-Prediction/EDA & Models.ipynb Cell 109\u001b[0m line \u001b[0;36m9\n\u001b[1;32m      <a href='vscode-notebook-cell:/Users/firatkizilboga/Projects/LFD/APS-Failure-Prediction/EDA%20%26%20Models.ipynb#Y215sZmlsZQ%3D%3D?line=0'>1</a>\u001b[0m \u001b[39m# keep the clf1, clf2, clf3 but lets retrain the last layer of the stacking classifier\u001b[39;00m\n\u001b[1;32m      <a href='vscode-notebook-cell:/Users/firatkizilboga/Projects/LFD/APS-Failure-Prediction/EDA%20%26%20Models.ipynb#Y215sZmlsZQ%3D%3D?line=2'>3</a>\u001b[0m STACKING_CLASSIFIER \u001b[39m=\u001b[39m StackingClassifier(estimators\u001b[39m=\u001b[39m[\n\u001b[1;32m      <a href='vscode-notebook-cell:/Users/firatkizilboga/Projects/LFD/APS-Failure-Prediction/EDA%20%26%20Models.ipynb#Y215sZmlsZQ%3D%3D?line=3'>4</a>\u001b[0m     (\u001b[39m'\u001b[39m\u001b[39mcatboost\u001b[39m\u001b[39m'\u001b[39m, clf1),\n\u001b[1;32m      <a href='vscode-notebook-cell:/Users/firatkizilboga/Projects/LFD/APS-Failure-Prediction/EDA%20%26%20Models.ipynb#Y215sZmlsZQ%3D%3D?line=4'>5</a>\u001b[0m     (\u001b[39m'\u001b[39m\u001b[39mrandom_forest\u001b[39m\u001b[39m'\u001b[39m, clf2),\n\u001b[1;32m      <a href='vscode-notebook-cell:/Users/firatkizilboga/Projects/LFD/APS-Failure-Prediction/EDA%20%26%20Models.ipynb#Y215sZmlsZQ%3D%3D?line=5'>6</a>\u001b[0m     (\u001b[39m'\u001b[39m\u001b[39mxgboost\u001b[39m\u001b[39m'\u001b[39m, clf3)\n\u001b[1;32m      <a href='vscode-notebook-cell:/Users/firatkizilboga/Projects/LFD/APS-Failure-Prediction/EDA%20%26%20Models.ipynb#Y215sZmlsZQ%3D%3D?line=6'>7</a>\u001b[0m ], final_estimator\u001b[39m=\u001b[39mRandomForestClassifier(n_estimators\u001b[39m=\u001b[39m\u001b[39m1000\u001b[39m, max_depth\u001b[39m=\u001b[39m\u001b[39m4\u001b[39m, random_state\u001b[39m=\u001b[39m\u001b[39m42\u001b[39m, class_weight\u001b[39m=\u001b[39m{\u001b[39m0\u001b[39m: \u001b[39m1\u001b[39m, \u001b[39m1\u001b[39m: \u001b[39m500\u001b[39m}))\n\u001b[0;32m----> <a href='vscode-notebook-cell:/Users/firatkizilboga/Projects/LFD/APS-Failure-Prediction/EDA%20%26%20Models.ipynb#Y215sZmlsZQ%3D%3D?line=8'>9</a>\u001b[0m STACKING_CLASSIFIER\u001b[39m.\u001b[39;49mfit(X_train, y_train)\n\u001b[1;32m     <a href='vscode-notebook-cell:/Users/firatkizilboga/Projects/LFD/APS-Failure-Prediction/EDA%20%26%20Models.ipynb#Y215sZmlsZQ%3D%3D?line=10'>11</a>\u001b[0m y_pred \u001b[39m=\u001b[39m STACKING_CLASSIFIER\u001b[39m.\u001b[39mpredict(X_test)\n\u001b[1;32m     <a href='vscode-notebook-cell:/Users/firatkizilboga/Projects/LFD/APS-Failure-Prediction/EDA%20%26%20Models.ipynb#Y215sZmlsZQ%3D%3D?line=12'>13</a>\u001b[0m \u001b[39mprint\u001b[39m(classification_report(y_test, y_pred))\n",
      "File \u001b[0;32m~/Projects/LFD/APS-Failure-Prediction/.venv/lib/python3.11/site-packages/sklearn/ensemble/_stacking.py:658\u001b[0m, in \u001b[0;36mStackingClassifier.fit\u001b[0;34m(self, X, y, sample_weight)\u001b[0m\n\u001b[1;32m    656\u001b[0m     \u001b[39mself\u001b[39m\u001b[39m.\u001b[39mclasses_ \u001b[39m=\u001b[39m \u001b[39mself\u001b[39m\u001b[39m.\u001b[39m_label_encoder\u001b[39m.\u001b[39mclasses_\n\u001b[1;32m    657\u001b[0m     y_encoded \u001b[39m=\u001b[39m \u001b[39mself\u001b[39m\u001b[39m.\u001b[39m_label_encoder\u001b[39m.\u001b[39mtransform(y)\n\u001b[0;32m--> 658\u001b[0m \u001b[39mreturn\u001b[39;00m \u001b[39msuper\u001b[39;49m()\u001b[39m.\u001b[39;49mfit(X, y_encoded, sample_weight)\n",
      "File \u001b[0;32m~/Projects/LFD/APS-Failure-Prediction/.venv/lib/python3.11/site-packages/sklearn/base.py:1152\u001b[0m, in \u001b[0;36m_fit_context.<locals>.decorator.<locals>.wrapper\u001b[0;34m(estimator, *args, **kwargs)\u001b[0m\n\u001b[1;32m   1145\u001b[0m     estimator\u001b[39m.\u001b[39m_validate_params()\n\u001b[1;32m   1147\u001b[0m \u001b[39mwith\u001b[39;00m config_context(\n\u001b[1;32m   1148\u001b[0m     skip_parameter_validation\u001b[39m=\u001b[39m(\n\u001b[1;32m   1149\u001b[0m         prefer_skip_nested_validation \u001b[39mor\u001b[39;00m global_skip_validation\n\u001b[1;32m   1150\u001b[0m     )\n\u001b[1;32m   1151\u001b[0m ):\n\u001b[0;32m-> 1152\u001b[0m     \u001b[39mreturn\u001b[39;00m fit_method(estimator, \u001b[39m*\u001b[39;49margs, \u001b[39m*\u001b[39;49m\u001b[39m*\u001b[39;49mkwargs)\n",
      "File \u001b[0;32m~/Projects/LFD/APS-Failure-Prediction/.venv/lib/python3.11/site-packages/sklearn/ensemble/_stacking.py:206\u001b[0m, in \u001b[0;36m_BaseStacking.fit\u001b[0;34m(self, X, y, sample_weight)\u001b[0m\n\u001b[1;32m    201\u001b[0m             \u001b[39mself\u001b[39m\u001b[39m.\u001b[39mestimators_\u001b[39m.\u001b[39mappend(estimator)\n\u001b[1;32m    202\u001b[0m \u001b[39melse\u001b[39;00m:\n\u001b[1;32m    203\u001b[0m     \u001b[39m# Fit the base estimators on the whole training data. Those\u001b[39;00m\n\u001b[1;32m    204\u001b[0m     \u001b[39m# base estimators will be used in transform, predict, and\u001b[39;00m\n\u001b[1;32m    205\u001b[0m     \u001b[39m# predict_proba. They are exposed publicly.\u001b[39;00m\n\u001b[0;32m--> 206\u001b[0m     \u001b[39mself\u001b[39m\u001b[39m.\u001b[39mestimators_ \u001b[39m=\u001b[39m Parallel(n_jobs\u001b[39m=\u001b[39;49m\u001b[39mself\u001b[39;49m\u001b[39m.\u001b[39;49mn_jobs)(\n\u001b[1;32m    207\u001b[0m         delayed(_fit_single_estimator)(clone(est), X, y, sample_weight)\n\u001b[1;32m    208\u001b[0m         \u001b[39mfor\u001b[39;49;00m est \u001b[39min\u001b[39;49;00m all_estimators\n\u001b[1;32m    209\u001b[0m         \u001b[39mif\u001b[39;49;00m est \u001b[39m!=\u001b[39;49m \u001b[39m\"\u001b[39;49m\u001b[39mdrop\u001b[39;49m\u001b[39m\"\u001b[39;49m\n\u001b[1;32m    210\u001b[0m     )\n\u001b[1;32m    212\u001b[0m \u001b[39mself\u001b[39m\u001b[39m.\u001b[39mnamed_estimators_ \u001b[39m=\u001b[39m Bunch()\n\u001b[1;32m    213\u001b[0m est_fitted_idx \u001b[39m=\u001b[39m \u001b[39m0\u001b[39m\n",
      "File \u001b[0;32m~/Projects/LFD/APS-Failure-Prediction/.venv/lib/python3.11/site-packages/sklearn/utils/parallel.py:65\u001b[0m, in \u001b[0;36mParallel.__call__\u001b[0;34m(self, iterable)\u001b[0m\n\u001b[1;32m     60\u001b[0m config \u001b[39m=\u001b[39m get_config()\n\u001b[1;32m     61\u001b[0m iterable_with_config \u001b[39m=\u001b[39m (\n\u001b[1;32m     62\u001b[0m     (_with_config(delayed_func, config), args, kwargs)\n\u001b[1;32m     63\u001b[0m     \u001b[39mfor\u001b[39;00m delayed_func, args, kwargs \u001b[39min\u001b[39;00m iterable\n\u001b[1;32m     64\u001b[0m )\n\u001b[0;32m---> 65\u001b[0m \u001b[39mreturn\u001b[39;00m \u001b[39msuper\u001b[39;49m()\u001b[39m.\u001b[39;49m\u001b[39m__call__\u001b[39;49m(iterable_with_config)\n",
      "File \u001b[0;32m~/Projects/LFD/APS-Failure-Prediction/.venv/lib/python3.11/site-packages/joblib/parallel.py:1863\u001b[0m, in \u001b[0;36mParallel.__call__\u001b[0;34m(self, iterable)\u001b[0m\n\u001b[1;32m   1861\u001b[0m     output \u001b[39m=\u001b[39m \u001b[39mself\u001b[39m\u001b[39m.\u001b[39m_get_sequential_output(iterable)\n\u001b[1;32m   1862\u001b[0m     \u001b[39mnext\u001b[39m(output)\n\u001b[0;32m-> 1863\u001b[0m     \u001b[39mreturn\u001b[39;00m output \u001b[39mif\u001b[39;00m \u001b[39mself\u001b[39m\u001b[39m.\u001b[39mreturn_generator \u001b[39melse\u001b[39;00m \u001b[39mlist\u001b[39m(output)\n\u001b[1;32m   1865\u001b[0m \u001b[39m# Let's create an ID that uniquely identifies the current call. If the\u001b[39;00m\n\u001b[1;32m   1866\u001b[0m \u001b[39m# call is interrupted early and that the same instance is immediately\u001b[39;00m\n\u001b[1;32m   1867\u001b[0m \u001b[39m# re-used, this id will be used to prevent workers that were\u001b[39;00m\n\u001b[1;32m   1868\u001b[0m \u001b[39m# concurrently finalizing a task from the previous call to run the\u001b[39;00m\n\u001b[1;32m   1869\u001b[0m \u001b[39m# callback.\u001b[39;00m\n\u001b[1;32m   1870\u001b[0m \u001b[39mwith\u001b[39;00m \u001b[39mself\u001b[39m\u001b[39m.\u001b[39m_lock:\n",
      "File \u001b[0;32m~/Projects/LFD/APS-Failure-Prediction/.venv/lib/python3.11/site-packages/joblib/parallel.py:1792\u001b[0m, in \u001b[0;36mParallel._get_sequential_output\u001b[0;34m(self, iterable)\u001b[0m\n\u001b[1;32m   1790\u001b[0m \u001b[39mself\u001b[39m\u001b[39m.\u001b[39mn_dispatched_batches \u001b[39m+\u001b[39m\u001b[39m=\u001b[39m \u001b[39m1\u001b[39m\n\u001b[1;32m   1791\u001b[0m \u001b[39mself\u001b[39m\u001b[39m.\u001b[39mn_dispatched_tasks \u001b[39m+\u001b[39m\u001b[39m=\u001b[39m \u001b[39m1\u001b[39m\n\u001b[0;32m-> 1792\u001b[0m res \u001b[39m=\u001b[39m func(\u001b[39m*\u001b[39;49margs, \u001b[39m*\u001b[39;49m\u001b[39m*\u001b[39;49mkwargs)\n\u001b[1;32m   1793\u001b[0m \u001b[39mself\u001b[39m\u001b[39m.\u001b[39mn_completed_tasks \u001b[39m+\u001b[39m\u001b[39m=\u001b[39m \u001b[39m1\u001b[39m\n\u001b[1;32m   1794\u001b[0m \u001b[39mself\u001b[39m\u001b[39m.\u001b[39mprint_progress()\n",
      "File \u001b[0;32m~/Projects/LFD/APS-Failure-Prediction/.venv/lib/python3.11/site-packages/sklearn/utils/parallel.py:127\u001b[0m, in \u001b[0;36m_FuncWrapper.__call__\u001b[0;34m(self, *args, **kwargs)\u001b[0m\n\u001b[1;32m    125\u001b[0m     config \u001b[39m=\u001b[39m {}\n\u001b[1;32m    126\u001b[0m \u001b[39mwith\u001b[39;00m config_context(\u001b[39m*\u001b[39m\u001b[39m*\u001b[39mconfig):\n\u001b[0;32m--> 127\u001b[0m     \u001b[39mreturn\u001b[39;00m \u001b[39mself\u001b[39;49m\u001b[39m.\u001b[39;49mfunction(\u001b[39m*\u001b[39;49margs, \u001b[39m*\u001b[39;49m\u001b[39m*\u001b[39;49mkwargs)\n",
      "File \u001b[0;32m~/Projects/LFD/APS-Failure-Prediction/.venv/lib/python3.11/site-packages/sklearn/ensemble/_base.py:36\u001b[0m, in \u001b[0;36m_fit_single_estimator\u001b[0;34m(estimator, X, y, sample_weight, message_clsname, message)\u001b[0m\n\u001b[1;32m     34\u001b[0m \u001b[39melse\u001b[39;00m:\n\u001b[1;32m     35\u001b[0m     \u001b[39mwith\u001b[39;00m _print_elapsed_time(message_clsname, message):\n\u001b[0;32m---> 36\u001b[0m         estimator\u001b[39m.\u001b[39;49mfit(X, y)\n\u001b[1;32m     37\u001b[0m \u001b[39mreturn\u001b[39;00m estimator\n",
      "File \u001b[0;32m~/Projects/LFD/APS-Failure-Prediction/.venv/lib/python3.11/site-packages/sklearn/base.py:1152\u001b[0m, in \u001b[0;36m_fit_context.<locals>.decorator.<locals>.wrapper\u001b[0;34m(estimator, *args, **kwargs)\u001b[0m\n\u001b[1;32m   1145\u001b[0m     estimator\u001b[39m.\u001b[39m_validate_params()\n\u001b[1;32m   1147\u001b[0m \u001b[39mwith\u001b[39;00m config_context(\n\u001b[1;32m   1148\u001b[0m     skip_parameter_validation\u001b[39m=\u001b[39m(\n\u001b[1;32m   1149\u001b[0m         prefer_skip_nested_validation \u001b[39mor\u001b[39;00m global_skip_validation\n\u001b[1;32m   1150\u001b[0m     )\n\u001b[1;32m   1151\u001b[0m ):\n\u001b[0;32m-> 1152\u001b[0m     \u001b[39mreturn\u001b[39;00m fit_method(estimator, \u001b[39m*\u001b[39;49margs, \u001b[39m*\u001b[39;49m\u001b[39m*\u001b[39;49mkwargs)\n",
      "File \u001b[0;32m~/Projects/LFD/APS-Failure-Prediction/.venv/lib/python3.11/site-packages/sklearn/ensemble/_forest.py:456\u001b[0m, in \u001b[0;36mBaseForest.fit\u001b[0;34m(self, X, y, sample_weight)\u001b[0m\n\u001b[1;32m    445\u001b[0m trees \u001b[39m=\u001b[39m [\n\u001b[1;32m    446\u001b[0m     \u001b[39mself\u001b[39m\u001b[39m.\u001b[39m_make_estimator(append\u001b[39m=\u001b[39m\u001b[39mFalse\u001b[39;00m, random_state\u001b[39m=\u001b[39mrandom_state)\n\u001b[1;32m    447\u001b[0m     \u001b[39mfor\u001b[39;00m i \u001b[39min\u001b[39;00m \u001b[39mrange\u001b[39m(n_more_estimators)\n\u001b[1;32m    448\u001b[0m ]\n\u001b[1;32m    450\u001b[0m \u001b[39m# Parallel loop: we prefer the threading backend as the Cython code\u001b[39;00m\n\u001b[1;32m    451\u001b[0m \u001b[39m# for fitting the trees is internally releasing the Python GIL\u001b[39;00m\n\u001b[1;32m    452\u001b[0m \u001b[39m# making threading more efficient than multiprocessing in\u001b[39;00m\n\u001b[1;32m    453\u001b[0m \u001b[39m# that case. However, for joblib 0.12+ we respect any\u001b[39;00m\n\u001b[1;32m    454\u001b[0m \u001b[39m# parallel_backend contexts set at a higher level,\u001b[39;00m\n\u001b[1;32m    455\u001b[0m \u001b[39m# since correctness does not rely on using threads.\u001b[39;00m\n\u001b[0;32m--> 456\u001b[0m trees \u001b[39m=\u001b[39m Parallel(\n\u001b[1;32m    457\u001b[0m     n_jobs\u001b[39m=\u001b[39;49m\u001b[39mself\u001b[39;49m\u001b[39m.\u001b[39;49mn_jobs,\n\u001b[1;32m    458\u001b[0m     verbose\u001b[39m=\u001b[39;49m\u001b[39mself\u001b[39;49m\u001b[39m.\u001b[39;49mverbose,\n\u001b[1;32m    459\u001b[0m     prefer\u001b[39m=\u001b[39;49m\u001b[39m\"\u001b[39;49m\u001b[39mthreads\u001b[39;49m\u001b[39m\"\u001b[39;49m,\n\u001b[1;32m    460\u001b[0m )(\n\u001b[1;32m    461\u001b[0m     delayed(_parallel_build_trees)(\n\u001b[1;32m    462\u001b[0m         t,\n\u001b[1;32m    463\u001b[0m         \u001b[39mself\u001b[39;49m\u001b[39m.\u001b[39;49mbootstrap,\n\u001b[1;32m    464\u001b[0m         X,\n\u001b[1;32m    465\u001b[0m         y,\n\u001b[1;32m    466\u001b[0m         sample_weight,\n\u001b[1;32m    467\u001b[0m         i,\n\u001b[1;32m    468\u001b[0m         \u001b[39mlen\u001b[39;49m(trees),\n\u001b[1;32m    469\u001b[0m         verbose\u001b[39m=\u001b[39;49m\u001b[39mself\u001b[39;49m\u001b[39m.\u001b[39;49mverbose,\n\u001b[1;32m    470\u001b[0m         class_weight\u001b[39m=\u001b[39;49m\u001b[39mself\u001b[39;49m\u001b[39m.\u001b[39;49mclass_weight,\n\u001b[1;32m    471\u001b[0m         n_samples_bootstrap\u001b[39m=\u001b[39;49mn_samples_bootstrap,\n\u001b[1;32m    472\u001b[0m     )\n\u001b[1;32m    473\u001b[0m     \u001b[39mfor\u001b[39;49;00m i, t \u001b[39min\u001b[39;49;00m \u001b[39menumerate\u001b[39;49m(trees)\n\u001b[1;32m    474\u001b[0m )\n\u001b[1;32m    476\u001b[0m \u001b[39m# Collect newly grown trees\u001b[39;00m\n\u001b[1;32m    477\u001b[0m \u001b[39mself\u001b[39m\u001b[39m.\u001b[39mestimators_\u001b[39m.\u001b[39mextend(trees)\n",
      "File \u001b[0;32m~/Projects/LFD/APS-Failure-Prediction/.venv/lib/python3.11/site-packages/sklearn/utils/parallel.py:65\u001b[0m, in \u001b[0;36mParallel.__call__\u001b[0;34m(self, iterable)\u001b[0m\n\u001b[1;32m     60\u001b[0m config \u001b[39m=\u001b[39m get_config()\n\u001b[1;32m     61\u001b[0m iterable_with_config \u001b[39m=\u001b[39m (\n\u001b[1;32m     62\u001b[0m     (_with_config(delayed_func, config), args, kwargs)\n\u001b[1;32m     63\u001b[0m     \u001b[39mfor\u001b[39;00m delayed_func, args, kwargs \u001b[39min\u001b[39;00m iterable\n\u001b[1;32m     64\u001b[0m )\n\u001b[0;32m---> 65\u001b[0m \u001b[39mreturn\u001b[39;00m \u001b[39msuper\u001b[39;49m()\u001b[39m.\u001b[39;49m\u001b[39m__call__\u001b[39;49m(iterable_with_config)\n",
      "File \u001b[0;32m~/Projects/LFD/APS-Failure-Prediction/.venv/lib/python3.11/site-packages/joblib/parallel.py:1863\u001b[0m, in \u001b[0;36mParallel.__call__\u001b[0;34m(self, iterable)\u001b[0m\n\u001b[1;32m   1861\u001b[0m     output \u001b[39m=\u001b[39m \u001b[39mself\u001b[39m\u001b[39m.\u001b[39m_get_sequential_output(iterable)\n\u001b[1;32m   1862\u001b[0m     \u001b[39mnext\u001b[39m(output)\n\u001b[0;32m-> 1863\u001b[0m     \u001b[39mreturn\u001b[39;00m output \u001b[39mif\u001b[39;00m \u001b[39mself\u001b[39m\u001b[39m.\u001b[39mreturn_generator \u001b[39melse\u001b[39;00m \u001b[39mlist\u001b[39m(output)\n\u001b[1;32m   1865\u001b[0m \u001b[39m# Let's create an ID that uniquely identifies the current call. If the\u001b[39;00m\n\u001b[1;32m   1866\u001b[0m \u001b[39m# call is interrupted early and that the same instance is immediately\u001b[39;00m\n\u001b[1;32m   1867\u001b[0m \u001b[39m# re-used, this id will be used to prevent workers that were\u001b[39;00m\n\u001b[1;32m   1868\u001b[0m \u001b[39m# concurrently finalizing a task from the previous call to run the\u001b[39;00m\n\u001b[1;32m   1869\u001b[0m \u001b[39m# callback.\u001b[39;00m\n\u001b[1;32m   1870\u001b[0m \u001b[39mwith\u001b[39;00m \u001b[39mself\u001b[39m\u001b[39m.\u001b[39m_lock:\n",
      "File \u001b[0;32m~/Projects/LFD/APS-Failure-Prediction/.venv/lib/python3.11/site-packages/joblib/parallel.py:1792\u001b[0m, in \u001b[0;36mParallel._get_sequential_output\u001b[0;34m(self, iterable)\u001b[0m\n\u001b[1;32m   1790\u001b[0m \u001b[39mself\u001b[39m\u001b[39m.\u001b[39mn_dispatched_batches \u001b[39m+\u001b[39m\u001b[39m=\u001b[39m \u001b[39m1\u001b[39m\n\u001b[1;32m   1791\u001b[0m \u001b[39mself\u001b[39m\u001b[39m.\u001b[39mn_dispatched_tasks \u001b[39m+\u001b[39m\u001b[39m=\u001b[39m \u001b[39m1\u001b[39m\n\u001b[0;32m-> 1792\u001b[0m res \u001b[39m=\u001b[39m func(\u001b[39m*\u001b[39;49margs, \u001b[39m*\u001b[39;49m\u001b[39m*\u001b[39;49mkwargs)\n\u001b[1;32m   1793\u001b[0m \u001b[39mself\u001b[39m\u001b[39m.\u001b[39mn_completed_tasks \u001b[39m+\u001b[39m\u001b[39m=\u001b[39m \u001b[39m1\u001b[39m\n\u001b[1;32m   1794\u001b[0m \u001b[39mself\u001b[39m\u001b[39m.\u001b[39mprint_progress()\n",
      "File \u001b[0;32m~/Projects/LFD/APS-Failure-Prediction/.venv/lib/python3.11/site-packages/sklearn/utils/parallel.py:127\u001b[0m, in \u001b[0;36m_FuncWrapper.__call__\u001b[0;34m(self, *args, **kwargs)\u001b[0m\n\u001b[1;32m    125\u001b[0m     config \u001b[39m=\u001b[39m {}\n\u001b[1;32m    126\u001b[0m \u001b[39mwith\u001b[39;00m config_context(\u001b[39m*\u001b[39m\u001b[39m*\u001b[39mconfig):\n\u001b[0;32m--> 127\u001b[0m     \u001b[39mreturn\u001b[39;00m \u001b[39mself\u001b[39;49m\u001b[39m.\u001b[39;49mfunction(\u001b[39m*\u001b[39;49margs, \u001b[39m*\u001b[39;49m\u001b[39m*\u001b[39;49mkwargs)\n",
      "File \u001b[0;32m~/Projects/LFD/APS-Failure-Prediction/.venv/lib/python3.11/site-packages/sklearn/ensemble/_forest.py:188\u001b[0m, in \u001b[0;36m_parallel_build_trees\u001b[0;34m(tree, bootstrap, X, y, sample_weight, tree_idx, n_trees, verbose, class_weight, n_samples_bootstrap)\u001b[0m\n\u001b[1;32m    185\u001b[0m     \u001b[39melif\u001b[39;00m class_weight \u001b[39m==\u001b[39m \u001b[39m\"\u001b[39m\u001b[39mbalanced_subsample\u001b[39m\u001b[39m\"\u001b[39m:\n\u001b[1;32m    186\u001b[0m         curr_sample_weight \u001b[39m*\u001b[39m\u001b[39m=\u001b[39m compute_sample_weight(\u001b[39m\"\u001b[39m\u001b[39mbalanced\u001b[39m\u001b[39m\"\u001b[39m, y, indices\u001b[39m=\u001b[39mindices)\n\u001b[0;32m--> 188\u001b[0m     tree\u001b[39m.\u001b[39;49mfit(X, y, sample_weight\u001b[39m=\u001b[39;49mcurr_sample_weight, check_input\u001b[39m=\u001b[39;49m\u001b[39mFalse\u001b[39;49;00m)\n\u001b[1;32m    189\u001b[0m \u001b[39melse\u001b[39;00m:\n\u001b[1;32m    190\u001b[0m     tree\u001b[39m.\u001b[39mfit(X, y, sample_weight\u001b[39m=\u001b[39msample_weight, check_input\u001b[39m=\u001b[39m\u001b[39mFalse\u001b[39;00m)\n",
      "File \u001b[0;32m~/Projects/LFD/APS-Failure-Prediction/.venv/lib/python3.11/site-packages/sklearn/base.py:1152\u001b[0m, in \u001b[0;36m_fit_context.<locals>.decorator.<locals>.wrapper\u001b[0;34m(estimator, *args, **kwargs)\u001b[0m\n\u001b[1;32m   1145\u001b[0m     estimator\u001b[39m.\u001b[39m_validate_params()\n\u001b[1;32m   1147\u001b[0m \u001b[39mwith\u001b[39;00m config_context(\n\u001b[1;32m   1148\u001b[0m     skip_parameter_validation\u001b[39m=\u001b[39m(\n\u001b[1;32m   1149\u001b[0m         prefer_skip_nested_validation \u001b[39mor\u001b[39;00m global_skip_validation\n\u001b[1;32m   1150\u001b[0m     )\n\u001b[1;32m   1151\u001b[0m ):\n\u001b[0;32m-> 1152\u001b[0m     \u001b[39mreturn\u001b[39;00m fit_method(estimator, \u001b[39m*\u001b[39;49margs, \u001b[39m*\u001b[39;49m\u001b[39m*\u001b[39;49mkwargs)\n",
      "File \u001b[0;32m~/Projects/LFD/APS-Failure-Prediction/.venv/lib/python3.11/site-packages/sklearn/tree/_classes.py:959\u001b[0m, in \u001b[0;36mDecisionTreeClassifier.fit\u001b[0;34m(self, X, y, sample_weight, check_input)\u001b[0m\n\u001b[1;32m    928\u001b[0m \u001b[39m@_fit_context\u001b[39m(prefer_skip_nested_validation\u001b[39m=\u001b[39m\u001b[39mTrue\u001b[39;00m)\n\u001b[1;32m    929\u001b[0m \u001b[39mdef\u001b[39;00m \u001b[39mfit\u001b[39m(\u001b[39mself\u001b[39m, X, y, sample_weight\u001b[39m=\u001b[39m\u001b[39mNone\u001b[39;00m, check_input\u001b[39m=\u001b[39m\u001b[39mTrue\u001b[39;00m):\n\u001b[1;32m    930\u001b[0m \u001b[39m    \u001b[39m\u001b[39m\"\"\"Build a decision tree classifier from the training set (X, y).\u001b[39;00m\n\u001b[1;32m    931\u001b[0m \n\u001b[1;32m    932\u001b[0m \u001b[39m    Parameters\u001b[39;00m\n\u001b[0;32m   (...)\u001b[0m\n\u001b[1;32m    956\u001b[0m \u001b[39m        Fitted estimator.\u001b[39;00m\n\u001b[1;32m    957\u001b[0m \u001b[39m    \"\"\"\u001b[39;00m\n\u001b[0;32m--> 959\u001b[0m     \u001b[39msuper\u001b[39;49m()\u001b[39m.\u001b[39;49m_fit(\n\u001b[1;32m    960\u001b[0m         X,\n\u001b[1;32m    961\u001b[0m         y,\n\u001b[1;32m    962\u001b[0m         sample_weight\u001b[39m=\u001b[39;49msample_weight,\n\u001b[1;32m    963\u001b[0m         check_input\u001b[39m=\u001b[39;49mcheck_input,\n\u001b[1;32m    964\u001b[0m     )\n\u001b[1;32m    965\u001b[0m     \u001b[39mreturn\u001b[39;00m \u001b[39mself\u001b[39m\n",
      "File \u001b[0;32m~/Projects/LFD/APS-Failure-Prediction/.venv/lib/python3.11/site-packages/sklearn/tree/_classes.py:443\u001b[0m, in \u001b[0;36mBaseDecisionTree._fit\u001b[0;34m(self, X, y, sample_weight, check_input, missing_values_in_feature_mask)\u001b[0m\n\u001b[1;32m    432\u001b[0m \u001b[39melse\u001b[39;00m:\n\u001b[1;32m    433\u001b[0m     builder \u001b[39m=\u001b[39m BestFirstTreeBuilder(\n\u001b[1;32m    434\u001b[0m         splitter,\n\u001b[1;32m    435\u001b[0m         min_samples_split,\n\u001b[0;32m   (...)\u001b[0m\n\u001b[1;32m    440\u001b[0m         \u001b[39mself\u001b[39m\u001b[39m.\u001b[39mmin_impurity_decrease,\n\u001b[1;32m    441\u001b[0m     )\n\u001b[0;32m--> 443\u001b[0m builder\u001b[39m.\u001b[39;49mbuild(\u001b[39mself\u001b[39;49m\u001b[39m.\u001b[39;49mtree_, X, y, sample_weight, missing_values_in_feature_mask)\n\u001b[1;32m    445\u001b[0m \u001b[39mif\u001b[39;00m \u001b[39mself\u001b[39m\u001b[39m.\u001b[39mn_outputs_ \u001b[39m==\u001b[39m \u001b[39m1\u001b[39m \u001b[39mand\u001b[39;00m is_classifier(\u001b[39mself\u001b[39m):\n\u001b[1;32m    446\u001b[0m     \u001b[39mself\u001b[39m\u001b[39m.\u001b[39mn_classes_ \u001b[39m=\u001b[39m \u001b[39mself\u001b[39m\u001b[39m.\u001b[39mn_classes_[\u001b[39m0\u001b[39m]\n",
      "\u001b[0;31mKeyboardInterrupt\u001b[0m: "
     ]
    }
   ],
   "source": [
    "# keep the clf1, clf2, clf3 but lets retrain the last layer of the stacking classifier\n",
    "\n",
    "STACKING_CLASSIFIER = StackingClassifier(estimators=[\n",
    "    ('catboost', clf1),\n",
    "    ('random_forest', clf2),\n",
    "    ('xgboost', clf3)\n",
    "], final_estimator=RandomForestClassifier(n_estimators=1000, max_depth=4, random_state=42, class_weight={0: 1, 1: 500}))\n",
    "\n",
    "STACKING_CLASSIFIER.fit(X_train, y_train)\n",
    "\n",
    "y_pred = STACKING_CLASSIFIER.predict(X_test)\n",
    "\n",
    "print(classification_report(y_test, y_pred))\n",
    "print(confusion_matrix(y_test, y_pred))"
   ]
  },
  {
   "cell_type": "markdown",
   "metadata": {},
   "source": [
    "This was not a success ensamble models cant beat the catboost. Lets try to optimize it."
   ]
  },
  {
   "cell_type": "code",
   "execution_count": null,
   "metadata": {},
   "outputs": [],
   "source": [
    "#hyperparameter tune the a catboost model\n",
    "\n",
    "from sklearn.model_selection import GridSearchCV\n",
    "\n",
    "param_grid = {\n",
    "\n",
    "    'iterations': [1000],\n",
    "    'learning_rate': [0.01, 0.1],\n",
    "    'depth': [9, 12, 15],\n",
    "    'loss_function': ['Logloss', 'CrossEntropy'],\n",
    "    'class_weight': [{0: 1, 1: 500},{0: 1, 1: 1000}, ],\n",
    "    'task_type' : ['GPU']\n",
    "}\n",
    "\n",
    "clf = CatBoostClassifier()\n",
    "\n",
    "grid_search = GridSearchCV(\n",
    "    estimator=clf,\n",
    "    param_grid=param_grid,\n",
    "    scoring=custom_scorer,\n",
    "    cv=3,  # Number of cross-validation folds (3-fold cross-validation)\n",
    "    verbose=3,\n",
    "    n_jobs=-1  # Use all available cores\n",
    ")\n",
    "\n",
    "\n",
    "X = train_df[num_cat_cols].replace('na', 0).astype(float).values\n",
    "grid_search.fit(X,Y)\n",
    "grid_search.best_score_"
   ]
  },
  {
   "cell_type": "markdown",
   "metadata": {},
   "source": [
    "This takes too long. I will try by hand. Lets use the entire dataset."
   ]
  },
  {
   "cell_type": "code",
   "execution_count": null,
   "metadata": {},
   "outputs": [],
   "source": [
    "# train a catboost model\n",
    "\n",
    "clf = CatBoostClassifier(iterations=1000, learning_rate=0.01, random_seed=42,  depth=10, loss_function='Logloss', class_weights={0:1, 1:1000}, logging_level='Silent')\n",
    "clf.fit(train_df.values, Y)\n",
    "\n",
    "y_pred = clf.predict(test_df[train_df.columns].values)\n",
    "\n",
    "#save the results\n",
    "\n",
    "output = pd.DataFrame({'id': np.arange(1,len(y_pred.reshape(-1))+1),\"class\": labelize(y_pred.reshape(-1))})\n",
    "output.to_csv('all values ln e transformations standardized catboost with 1:1000 biasing entire dataset.csv', index=False)"
   ]
  },
  {
   "cell_type": "markdown",
   "metadata": {},
   "source": [
    "High score!"
   ]
  },
  {
   "cell_type": "code",
   "execution_count": null,
   "metadata": {},
   "outputs": [],
   "source": [
    "# train a catboost model\n",
    "\n",
    "clf = CatBoostClassifier(iterations=1000, learning_rate=0.01, random_seed=42,  depth=10, loss_function='Logloss', class_weights={0:1, 1:1000}, logging_level='Silent')\n",
    "clf.fit(train_df.values, Y)\n",
    "\n",
    "y_pred = clf.predict(test_df[train_df.columns].values)\n",
    "\n",
    "#save the results\n",
    "\n",
    "output = pd.DataFrame({'id': np.arange(1,len(y_pred.reshape(-1))+1),\"class\": labelize(y_pred.reshape(-1))})\n",
    "output.to_csv('all values ln e transformations standardized catboost depth 11 with 1:1000 biasing entire dataset.csv', index=False)"
   ]
  },
  {
   "cell_type": "markdown",
   "metadata": {},
   "source": [
    "High score!!! Winner winner chicken dinner?"
   ]
  },
  {
   "cell_type": "code",
   "execution_count": null,
   "metadata": {},
   "outputs": [],
   "source": [
    "# train a catboost model\n",
    "\n",
    "clf = CatBoostClassifier(iterations=1000, learning_rate=0.01, random_seed=42,  depth=12, loss_function='Logloss', class_weights={0:1, 1:1000}, logging_level='Silent')\n",
    "clf.fit(train_df.values, Y)\n",
    "\n",
    "y_pred = clf.predict(test_df[train_df.columns].values)\n",
    "\n",
    "#save the results\n",
    "\n",
    "output = pd.DataFrame({'id': np.arange(1,len(y_pred.reshape(-1))+1),\"class\": labelize(y_pred.reshape(-1))})\n",
    "output.to_csv('all values ln e transformations standardized catboost depth 11 with 1:1000 biasing entire dataset.csv', index=False)"
   ]
  },
  {
   "cell_type": "markdown",
   "metadata": {},
   "source": [
    "12 depth didn't work 11 is the best!"
   ]
  }
 ],
 "metadata": {
  "kernelspec": {
   "display_name": ".venv",
   "language": "python",
   "name": "python3"
  },
  "language_info": {
   "codemirror_mode": {
    "name": "ipython",
    "version": 3
   },
   "file_extension": ".py",
   "mimetype": "text/x-python",
   "name": "python",
   "nbconvert_exporter": "python",
   "pygments_lexer": "ipython3",
   "version": "3.11.4"
  }
 },
 "nbformat": 4,
 "nbformat_minor": 2
}
